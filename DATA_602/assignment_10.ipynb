{
  "cells": [
    {
      "cell_type": "markdown",
      "metadata": {
        "id": "xqXbEBZtB8-u"
      },
      "source": [
        "# **Assignment 10**"
      ]
    },
    {
      "cell_type": "code",
      "execution_count": 57,
      "metadata": {
        "id": "Iqswq2_ak3e-"
      },
      "outputs": [],
      "source": [
        "# core\n",
        "import matplotlib.pyplot as plt\n",
        "import numpy as np\n",
        "import pandas as pd\n",
        "\n",
        "# ml\n",
        "from sklearn import datasets as ds\n",
        "from sklearn import linear_model as lm\n",
        "from sklearn.neighbors import KNeighborsClassifier as KNN\n",
        "from sklearn.model_selection import train_test_split as tts\n",
        "\n",
        "#plotly or other graphing library\n",
        "import matplotlib.pyplot as plt"
      ]
    },
    {
      "cell_type": "code",
      "execution_count": 58,
      "metadata": {
        "id": "92pRcki-k3kH"
      },
      "outputs": [],
      "source": [
        "# Load dataset here once and assign to variable iris\n",
        "iris= ds.load_iris()"
      ]
    },
    {
      "cell_type": "markdown",
      "metadata": {
        "id": "lA9exQg2lFEn"
      },
      "source": [
        "**Q1** \n",
        "\n",
        "**Data set: Iris**\n",
        "\n",
        "* Return the first 5 rows of the data including the feature names as column headings in a DataFrame and a separate Python list containing target names."
      ]
    },
    {
      "cell_type": "code",
      "execution_count": 59,
      "metadata": {
        "id": "1kcEFauAlAxY"
      },
      "outputs": [
        {
          "data": {
            "text/html": [
              "<div>\n",
              "<style scoped>\n",
              "    .dataframe tbody tr th:only-of-type {\n",
              "        vertical-align: middle;\n",
              "    }\n",
              "\n",
              "    .dataframe tbody tr th {\n",
              "        vertical-align: top;\n",
              "    }\n",
              "\n",
              "    .dataframe thead th {\n",
              "        text-align: right;\n",
              "    }\n",
              "</style>\n",
              "<table border=\"1\" class=\"dataframe\">\n",
              "  <thead>\n",
              "    <tr style=\"text-align: right;\">\n",
              "      <th></th>\n",
              "      <th>sepal length (cm)</th>\n",
              "      <th>sepal width (cm)</th>\n",
              "      <th>petal length (cm)</th>\n",
              "      <th>petal width (cm)</th>\n",
              "    </tr>\n",
              "  </thead>\n",
              "  <tbody>\n",
              "    <tr>\n",
              "      <th>0</th>\n",
              "      <td>5.1</td>\n",
              "      <td>3.5</td>\n",
              "      <td>1.4</td>\n",
              "      <td>0.2</td>\n",
              "    </tr>\n",
              "    <tr>\n",
              "      <th>1</th>\n",
              "      <td>4.9</td>\n",
              "      <td>3.0</td>\n",
              "      <td>1.4</td>\n",
              "      <td>0.2</td>\n",
              "    </tr>\n",
              "    <tr>\n",
              "      <th>2</th>\n",
              "      <td>4.7</td>\n",
              "      <td>3.2</td>\n",
              "      <td>1.3</td>\n",
              "      <td>0.2</td>\n",
              "    </tr>\n",
              "    <tr>\n",
              "      <th>3</th>\n",
              "      <td>4.6</td>\n",
              "      <td>3.1</td>\n",
              "      <td>1.5</td>\n",
              "      <td>0.2</td>\n",
              "    </tr>\n",
              "    <tr>\n",
              "      <th>4</th>\n",
              "      <td>5.0</td>\n",
              "      <td>3.6</td>\n",
              "      <td>1.4</td>\n",
              "      <td>0.2</td>\n",
              "    </tr>\n",
              "  </tbody>\n",
              "</table>\n",
              "</div>"
            ],
            "text/plain": [
              "   sepal length (cm)  sepal width (cm)  petal length (cm)  petal width (cm)\n",
              "0                5.1               3.5                1.4               0.2\n",
              "1                4.9               3.0                1.4               0.2\n",
              "2                4.7               3.2                1.3               0.2\n",
              "3                4.6               3.1                1.5               0.2\n",
              "4                5.0               3.6                1.4               0.2"
            ]
          },
          "execution_count": 59,
          "metadata": {},
          "output_type": "execute_result"
        }
      ],
      "source": [
        "# iris dataframe\n",
        "iris_df = pd.DataFrame(iris.data, columns=iris.feature_names)\n",
        "iris_df.head()"
      ]
    },
    {
      "cell_type": "code",
      "execution_count": 60,
      "metadata": {},
      "outputs": [
        {
          "data": {
            "text/plain": [
              "['setosa', 'versicolor', 'virginica']"
            ]
          },
          "execution_count": 60,
          "metadata": {},
          "output_type": "execute_result"
        }
      ],
      "source": [
        "# list of target names\n",
        "target_names = iris.target_names.tolist()\n",
        "target_names"
      ]
    },
    {
      "cell_type": "markdown",
      "metadata": {
        "id": "o2GEIhqzlT-i"
      },
      "source": [
        "**Q2**\n",
        "\n",
        "**Data set: Iris**\n",
        "\n",
        "* Fit the Iris dataset into a kNN model with neighbors=5 and predict the category of observations passed in argument new_observations. Return back the target names of each prediction (and not their encoded values, i.e. return setosa instead of 0)."
      ]
    },
    {
      "cell_type": "code",
      "execution_count": 61,
      "metadata": {
        "id": "wyqbRKh5lAzg"
      },
      "outputs": [
        {
          "data": {
            "text/plain": [
              "['setosa',\n",
              " 'setosa',\n",
              " 'setosa',\n",
              " 'setosa',\n",
              " 'setosa',\n",
              " 'setosa',\n",
              " 'setosa',\n",
              " 'setosa',\n",
              " 'setosa',\n",
              " 'setosa',\n",
              " 'setosa',\n",
              " 'setosa',\n",
              " 'setosa',\n",
              " 'setosa',\n",
              " 'setosa',\n",
              " 'setosa',\n",
              " 'setosa',\n",
              " 'setosa',\n",
              " 'setosa',\n",
              " 'setosa',\n",
              " 'setosa',\n",
              " 'setosa',\n",
              " 'setosa',\n",
              " 'setosa',\n",
              " 'setosa',\n",
              " 'setosa',\n",
              " 'setosa',\n",
              " 'setosa',\n",
              " 'setosa',\n",
              " 'setosa',\n",
              " 'setosa',\n",
              " 'setosa',\n",
              " 'setosa',\n",
              " 'setosa',\n",
              " 'setosa',\n",
              " 'setosa',\n",
              " 'setosa',\n",
              " 'setosa',\n",
              " 'setosa',\n",
              " 'setosa',\n",
              " 'setosa',\n",
              " 'setosa',\n",
              " 'setosa',\n",
              " 'setosa',\n",
              " 'setosa',\n",
              " 'setosa',\n",
              " 'setosa',\n",
              " 'setosa',\n",
              " 'setosa',\n",
              " 'setosa',\n",
              " 'versicolor',\n",
              " 'versicolor',\n",
              " 'versicolor',\n",
              " 'versicolor',\n",
              " 'versicolor',\n",
              " 'versicolor',\n",
              " 'versicolor',\n",
              " 'versicolor',\n",
              " 'versicolor',\n",
              " 'versicolor',\n",
              " 'versicolor',\n",
              " 'versicolor',\n",
              " 'versicolor',\n",
              " 'versicolor',\n",
              " 'versicolor',\n",
              " 'versicolor',\n",
              " 'versicolor',\n",
              " 'versicolor',\n",
              " 'versicolor',\n",
              " 'versicolor',\n",
              " 'virginica',\n",
              " 'versicolor',\n",
              " 'virginica',\n",
              " 'versicolor',\n",
              " 'versicolor',\n",
              " 'versicolor',\n",
              " 'versicolor',\n",
              " 'versicolor',\n",
              " 'versicolor',\n",
              " 'versicolor',\n",
              " 'versicolor',\n",
              " 'versicolor',\n",
              " 'versicolor',\n",
              " 'virginica',\n",
              " 'versicolor',\n",
              " 'versicolor',\n",
              " 'versicolor',\n",
              " 'versicolor',\n",
              " 'versicolor',\n",
              " 'versicolor',\n",
              " 'versicolor',\n",
              " 'versicolor',\n",
              " 'versicolor',\n",
              " 'versicolor',\n",
              " 'versicolor',\n",
              " 'versicolor',\n",
              " 'versicolor',\n",
              " 'versicolor',\n",
              " 'versicolor',\n",
              " 'versicolor',\n",
              " 'virginica',\n",
              " 'virginica',\n",
              " 'virginica',\n",
              " 'virginica',\n",
              " 'virginica',\n",
              " 'virginica',\n",
              " 'versicolor',\n",
              " 'virginica',\n",
              " 'virginica',\n",
              " 'virginica',\n",
              " 'virginica',\n",
              " 'virginica',\n",
              " 'virginica',\n",
              " 'virginica',\n",
              " 'virginica',\n",
              " 'virginica',\n",
              " 'virginica',\n",
              " 'virginica',\n",
              " 'virginica',\n",
              " 'versicolor',\n",
              " 'virginica',\n",
              " 'virginica',\n",
              " 'virginica',\n",
              " 'virginica',\n",
              " 'virginica',\n",
              " 'virginica',\n",
              " 'virginica',\n",
              " 'virginica',\n",
              " 'virginica',\n",
              " 'virginica',\n",
              " 'virginica',\n",
              " 'virginica',\n",
              " 'virginica',\n",
              " 'virginica',\n",
              " 'virginica',\n",
              " 'virginica',\n",
              " 'virginica',\n",
              " 'virginica',\n",
              " 'virginica',\n",
              " 'virginica',\n",
              " 'virginica',\n",
              " 'virginica',\n",
              " 'virginica',\n",
              " 'virginica',\n",
              " 'virginica',\n",
              " 'virginica',\n",
              " 'virginica',\n",
              " 'virginica',\n",
              " 'virginica',\n",
              " 'virginica']"
            ]
          },
          "execution_count": 61,
          "metadata": {},
          "output_type": "execute_result"
        }
      ],
      "source": [
        "# initiate KNN model\n",
        "knn = KNN(5)\n",
        "X = iris_df.values\n",
        "y = iris.target\n",
        "\n",
        "# fit model\n",
        "knn.fit(X, y)\n",
        "\n",
        "# make predictions\n",
        "y_pred = knn.predict(X)\n",
        "y_pred_named = [target_names[pred] for pred in y_pred]     # results with names instead of encoded values\n",
        "y_pred_named"
      ]
    },
    {
      "cell_type": "markdown",
      "metadata": {
        "id": "aVMa16PflnBv"
      },
      "source": [
        "**Q3** 15 pts\n",
        "\n",
        "**Data set: Iris**\n",
        "\n",
        "* Split the Iris dataset into a train / test model with the split ratio between the two established by the function parameter split.\n",
        "\n",
        "* Fit KNN with the training data with number of neighbors equal to the function parameter neighbors.\n",
        "\n",
        "* Generate and return back an accuracy score using the test data that was split out."
      ]
    },
    {
      "cell_type": "code",
      "execution_count": 62,
      "metadata": {
        "id": "5VIRae0xlA20"
      },
      "outputs": [
        {
          "data": {
            "text/plain": [
              "1.0"
            ]
          },
          "execution_count": 62,
          "metadata": {},
          "output_type": "execute_result"
        }
      ],
      "source": [
        "# split into train/test 70:30\n",
        "X_train, X_test, y_train, y_test = tts(X, y, test_size=0.3, random_state=23)\n",
        "\n",
        "# fit KNN with training data\n",
        "knn = KNN(5)\n",
        "knn.fit(X_train, y_train)\n",
        "\n",
        "# predict\n",
        "y_pred = knn.predict(X_test)\n",
        "\n",
        "# return accuracy score\n",
        "from sklearn.metrics import accuracy_score\n",
        "accuracy_score(y_test, y_pred)"
      ]
    },
    {
      "cell_type": "markdown",
      "metadata": {
        "id": "GupwxBDVl8n2"
      },
      "source": [
        "**Q4**\n",
        "\n",
        "**Data set: Iris**\n",
        "\n",
        "* Generate an overfitting / underfitting curve of kNN each of the testing and training accuracy performance scores series for a range of neighbor (k) values from 1 to 30 and plot the curves (number of neighbors is x-axis, performance score is y-axis on the chart)."
      ]
    },
    {
      "cell_type": "code",
      "execution_count": 63,
      "metadata": {
        "id": "M-6Ig8_QlA6J"
      },
      "outputs": [
        {
          "data": {
            "image/png": "[encoded data removed]",
            "text/plain": [
              "<Figure size 1000x600 with 1 Axes>"
            ]
          },
          "metadata": {},
          "output_type": "display_data"
        }
      ],
      "source": [
        "# initialize lists for training and testing accuracies\n",
        "train_accuracy = []\n",
        "test_accuracy = []\n",
        "\n",
        "k_vals = range(1,30)\n",
        "\n",
        "# loop through k values\n",
        "for k in k_vals:\n",
        "    knn = KNN(n_neighbors=k)    # initialize KNN classifier\n",
        "    knn.fit(X_train, y_train)   # fit on training data\n",
        "    train_accuracy.append(knn.score(X_train, y_train))  # train accuracy\n",
        "    test_accuracy.append(knn.score(X_test, y_test))   # test accuracy\n",
        "\n",
        "# plot overfitting/underfitting curves\n",
        "plt.figure(figsize=(10, 6))\n",
        "plt.plot(k_vals, train_accuracy, label='Training Accuracy')\n",
        "plt.plot(k_vals, test_accuracy, label='Testing Accuracy')\n",
        "plt.title('kNN Overfitting/Underfitting Curve')\n",
        "plt.xlabel('Number of Neighbors (k)')\n",
        "plt.ylabel('Accuracy')\n",
        "plt.legend()\n",
        "plt.show()"
      ]
    }
  ],
  "metadata": {
    "colab": {
      "name": "assignment_10.ipynb",
      "provenance": []
    },
    "kernelspec": {
      "display_name": "Python 3",
      "name": "python3"
    },
    "language_info": {
      "codemirror_mode": {
        "name": "ipython",
        "version": 3
      },
      "file_extension": ".py",
      "mimetype": "text/x-python",
      "name": "python",
      "nbconvert_exporter": "python",
      "pygments_lexer": "ipython3",
      "version": "3.10.6"
    }
  },
  "nbformat": 4,
  "nbformat_minor": 0
}
