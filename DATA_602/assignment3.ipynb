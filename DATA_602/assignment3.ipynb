{
 "cells": [
  {
   "cell_type": "markdown",
   "metadata": {},
   "source": [
    "**Q1**: Write a program that prompts the user for a meal: breakfast, lunch, or dinner. Then using if statements and else statements print the user a message recommending a meal. For example, if the meal was breakfast, you could say something like, “How about some bacon and eggs?”\n",
    "The user may enter something else in, but you only have to respond to breakfast, lunch, or dinner."
   ]
  },
  {
   "cell_type": "code",
   "execution_count": 36,
   "metadata": {},
   "outputs": [
    {
     "name": "stdout",
     "output_type": "stream",
     "text": [
      "Have some cereal!\n"
     ]
    }
   ],
   "source": [
    "meal = input(\"Are you having breakfast, lunch, or dinner? \")\n",
    "\n",
    "while meal.lower() not in [\"breakfast\", \"lunch\", \"dinner\"]:\n",
    "    meal = input(\"Only ask for breakfast, lunch, or dinner. What will you be having? \")\n",
    "\n",
    "if meal.lower() == \"breakfast\":\n",
    "    print(\"Have some cereal!\")\n",
    "elif meal.lower() == \"lunch\":\n",
    "    print(\"What about some gilled cheese?\")\n",
    "else:\n",
    "    print(\"Go out for pizza!\")"
   ]
  },
  {
   "cell_type": "markdown",
   "metadata": {},
   "source": [
    "**Q2**: The mailroom has asked you to design a simple payroll program that calculates a student employee’s gross pay, including any overtime wages. If any employee works over 20 hours in a week, the mailroom pays them 1.5 times their regular hourly pay rate for all hours over 20. \n",
    "You should take in the user’s input for the number of hours worked, and their rate of pay."
   ]
  },
  {
   "cell_type": "code",
   "execution_count": 37,
   "metadata": {},
   "outputs": [
    {
     "name": "stdout",
     "output_type": "stream",
     "text": [
      "You made $800.0 this week!\n"
     ]
    }
   ],
   "source": [
    "hours = int(input(\"How many hours did you work? \"))\n",
    "pay = int(input(\"What is your hourly pay? $\"))\n",
    "\n",
    "def payroll(hours_worked, pay_rate):\n",
    "    if hours_worked <= 20:\n",
    "        return hours_worked*pay_rate\n",
    "    else:\n",
    "        overtime = hours_worked - 20\n",
    "        return 20*pay_rate + overtime*pay_rate*1.5\n",
    "\n",
    "print(f'You made ${payroll(hours, pay):,} this week!')"
   ]
  },
  {
   "cell_type": "markdown",
   "metadata": {},
   "source": [
    "**Q3**: Write a function named times_ten. The function should accept an argument and display the product of its argument multiplied times 10."
   ]
  },
  {
   "cell_type": "code",
   "execution_count": 38,
   "metadata": {},
   "outputs": [
    {
     "name": "stdout",
     "output_type": "stream",
     "text": [
      "90\n",
      "aaaaaaaaaa\n"
     ]
    }
   ],
   "source": [
    "def times_ten(arg):\n",
    "    return arg*10\n",
    "\n",
    "print(times_ten(9))\n",
    "print(times_ten(\"a\"))"
   ]
  },
  {
   "cell_type": "markdown",
   "metadata": {},
   "source": [
    "**Q4**: Find the errors, debug the program, and then execute to show the output."
   ]
  },
  {
   "cell_type": "code",
   "execution_count": 39,
   "metadata": {},
   "outputs": [
    {
     "name": "stdout",
     "output_type": "stream",
     "text": [
      "The total calories you ate today: 701.60\n"
     ]
    }
   ],
   "source": [
    "def main():    # error - was missing ':'\n",
    "      Calories1 = float(input(\"How many calories are in the first food?\"))    # convert from string to float\n",
    "      Calories2 = float(input(\"How many calories are in the first food?\"))\n",
    "      showCalories(Calories1, Calories2)   # local variables named with first letter uppercase\n",
    "\n",
    "def showCalories(calories1, calories2):   # error - missing args; missing ':'\n",
    "   print(\"The total calories you ate today:\",  \"{:.2f}\".format(calories1+calories2))   # fix format()\n",
    "\n",
    "main()   # execute the program"
   ]
  },
  {
   "cell_type": "markdown",
   "metadata": {},
   "source": [
    "**Q5**: Write a program that uses any loop (while or for) that calculates the total of the following series of numbers:\n",
    "         1/30 + 2/29 + 3/28 ............. + 30/1"
   ]
  },
  {
   "cell_type": "code",
   "execution_count": 40,
   "metadata": {},
   "outputs": [
    {
     "name": "stdout",
     "output_type": "stream",
     "text": [
      "93.84460105853213\n"
     ]
    }
   ],
   "source": [
    "total = 0\n",
    "den = 30\n",
    "\n",
    "for num in range(1, 31):\n",
    "    total += num/den\n",
    "    den -= 1\n",
    "    \n",
    "print(total)"
   ]
  },
  {
   "cell_type": "markdown",
   "metadata": {},
   "source": [
    "**Q6**: Write a function that computes the area of a triangle given its base and height.\n",
    "The formula for an area of a triangle is:\n",
    "AREA = 1/2 * BASE * HEIGHT\n",
    "\n",
    "For example, if the base was 5 and the height was 4, the area would be 10.\n",
    "triangle_area(5, 4)   # should print 10\n"
   ]
  },
  {
   "cell_type": "code",
   "execution_count": 41,
   "metadata": {},
   "outputs": [
    {
     "name": "stdout",
     "output_type": "stream",
     "text": [
      "10.0\n"
     ]
    }
   ],
   "source": [
    "def tri_area(base, height):\n",
    "    return .5*base*height\n",
    "\n",
    "print(tri_area(5,4))"
   ]
  }
 ],
 "metadata": {
  "kernelspec": {
   "display_name": "Python 3",
   "language": "python",
   "name": "python3"
  },
  "language_info": {
   "codemirror_mode": {
    "name": "ipython",
    "version": 3
   },
   "file_extension": ".py",
   "mimetype": "text/x-python",
   "name": "python",
   "nbconvert_exporter": "python",
   "pygments_lexer": "ipython3",
   "version": "3.10.6"
  },
  "orig_nbformat": 4
 },
 "nbformat": 4,
 "nbformat_minor": 2
}
