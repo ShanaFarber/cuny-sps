{
 "cells": [
  {
   "cell_type": "markdown",
   "metadata": {},
   "source": [
    "**Q1**: What will the following code display?\n",
    "\n",
    "numbers = [1, 2, 3, 4, 5]\n",
    "\n",
    "print(numbers[1:-5])\n",
    "\n",
    "Can you debug and fix the output? The code should return the entire list. \n",
    "\n",
    "**A1**: This would print an empty list. List indicese start at 0 for the first term in the list. numbers[1] would therefore be the second term in the list ('2'). Negative indices start from -1 and go in the reverse from the last term. numbers[-5] would be the first term in the list ('1'). Since numbers[1:-5] is slicing from the second term to the first term, no elements will be included and this will result in an empty list. \n",
    "\n",
    "To fix this code to print the entire list, we can do a number of things. The simplest would be to remove the indices from the code and just call the entire list itself. Alternatively, you could splice the list from index 0 to index 5 (splicing is non-inclusive of the second index so this would print the list from indices 0-4). You could also use just a colon in brackets to indicate splicing from the start to the end. "
   ]
  },
  {
   "cell_type": "code",
   "execution_count": 1,
   "metadata": {},
   "outputs": [
    {
     "name": "stdout",
     "output_type": "stream",
     "text": [
      "[1, 2, 3, 4, 5]\n",
      "[1, 2, 3, 4, 5]\n",
      "[1, 2, 3, 4, 5]\n"
     ]
    }
   ],
   "source": [
    "numbers = [1,2,3,4,5]\n",
    "print(numbers)  # prints entire list\n",
    "print(numbers[0:5]) # prints from index 0-4 (non-inclusive of index 5)\n",
    "print(numbers[:])   # \"splice\" from start to end"
   ]
  },
  {
   "cell_type": "markdown",
   "metadata": {},
   "source": [
    "**Q2**: Design a program that asks the user to enter a store's sales for each day of the week. The amounts should be stored in a list. Use a loop to calculate the total sales for the week and display the result. \n",
    "\n",
    "**A2**:"
   ]
  },
  {
   "cell_type": "code",
   "execution_count": 2,
   "metadata": {},
   "outputs": [
    {
     "name": "stdout",
     "output_type": "stream",
     "text": [
      "Your total revenue for the week was $37,827.17.\n"
     ]
    }
   ],
   "source": [
    "daily_sales = []    # initialize list\n",
    "\n",
    "days = [\"Sunday\", \"Monday\", \"Tuesday\", \"Wednesday\", \"Thursday\", \"Friday\", \"Saturday\"]\n",
    "\n",
    "for i in range(7):\n",
    "    daily_sales.append(float(input(f\"What was {days[i]}'s revenue? \")))    # loop through to add daily revenues to list\n",
    "\n",
    "total_week = 0  # initialize total\n",
    "for revenue in daily_sales:\n",
    "    total_week += revenue\n",
    "\n",
    "print(f\"Your total revenue for the week was ${total_week:,}.\")"
   ]
  },
  {
   "cell_type": "markdown",
   "metadata": {},
   "source": [
    "**Q3**: Create a list with at least 5 places you'd like to travel to. Make sure the list isn't in alphabetical order.\n",
    "\n",
    "- Print your list in its original order.\n",
    "- Use the sort() function to arrange your list in order and reprint your list.\n",
    "- Use sort(reverse = True) and reprint your list.\n",
    "\n",
    "**A3**:"
   ]
  },
  {
   "cell_type": "code",
   "execution_count": 43,
   "metadata": {},
   "outputs": [
    {
     "name": "stdout",
     "output_type": "stream",
     "text": [
      "['Italy', 'England', 'Australia', 'Ireland', 'New Zealand']\n",
      "['Australia', 'England', 'Ireland', 'Italy', 'New Zealand']\n",
      "['New Zealand', 'Italy', 'Ireland', 'England', 'Australia']\n"
     ]
    }
   ],
   "source": [
    "places = [\"Italy\", \"England\", \"Australia\", \"Ireland\", \"New Zealand\"]\n",
    "print(places) \n",
    "\n",
    "# sort list ascending\n",
    "places.sort()\n",
    "print(places)\n",
    "\n",
    "# sort list descending\n",
    "places.sort(reverse=True)\n",
    "print(places)"
   ]
  },
  {
   "cell_type": "markdown",
   "metadata": {},
   "source": [
    "**Q4**: Write a program that creates a dictionary containing course numbers and the numbers of the rooms where the courses meet. The program should also create a dictionary containing course numbers and the names of the instructors that teach each course. After that, the program should let the user enter a course number, then it should display the course's room number, instructor, and meeting time. \n",
    "\n",
    "**A4**:"
   ]
  },
  {
   "cell_type": "code",
   "execution_count": 4,
   "metadata": {},
   "outputs": [
    {
     "name": "stdout",
     "output_type": "stream",
     "text": [
      "Course: CS111\n",
      "Location: Room 202\n",
      "Instructor: Prof. Matthew Taylor\n",
      "Meeting Time: M/W 8:00 PM\n"
     ]
    }
   ],
   "source": [
    "course_rooms = {\"MATH201\": \"Room 100\",\n",
    "                \"MATH220\": \"Room 101\",\n",
    "                \"CS48\": \"Room 108\",\n",
    "                \"CS111\": \"Room 202\",\n",
    "                \"DRAM2\": \"Room 204\"}\n",
    "\n",
    "course_profs = {\"MATH201\": \"Prof. Alexander Davis\",\n",
    "                \"MATH220\": \"Prof. Wilson Chau\",\n",
    "                \"CS48\": \"Prof. Elizabeth Johnson\",\n",
    "                \"CS111\": \"Prof. Matthew Taylor\",\n",
    "                \"DRAM2\": \"Prof. Rebecca Smith\"}\n",
    "\n",
    "meeting_times = {\"MATH201\": \"M/W 8:00 AM\",\n",
    "                \"MATH220\": \"T/Th 4:30 PM\",\n",
    "                \"CS48\": \"M/Th 10:15 AM\",\n",
    "                \"CS111\": \"M/W 8:00 PM\",\n",
    "                \"DRAM2\": \"F 10:00 AM\"}\n",
    "\n",
    "course = input(\"Please enter a course number: \").upper()    # still work if student puts course number in lowercase\n",
    "\n",
    "while course not in course_rooms.keys():\n",
    "    course = input(\"There is no course with that number. Please double check your course number and try again: \")   # reask if provided course not given\n",
    "\n",
    "print(f'Course: {course}\\nLocation: {course_rooms[course]}\\nInstructor: {course_profs[course]}\\nMeeting Time: {meeting_times[course]}') "
   ]
  },
  {
   "cell_type": "markdown",
   "metadata": {},
   "source": [
    "**Q5**: Write a program that keeps names and email addresses in a dictionary as key-value pairs. The program should demonstrate the four options:\n",
    "\n",
    "- Look up a person's email address.\n",
    "- Add a new name and email address.\n",
    "- Change an existing email address.\n",
    "- Delete an existing name and email address. \n",
    "\n",
    "**A5**:"
   ]
  },
  {
   "cell_type": "code",
   "execution_count": 5,
   "metadata": {},
   "outputs": [
    {
     "name": "stdout",
     "output_type": "stream",
     "text": [
      "betty.suarez@mode.com\n",
      "purplepie@gmail.com\n",
      "{'Betty Suarez': 'betty.suarez@mode.com', 'Jennifer Dalton': 'jennydalton@gmail.com', 'Kevin Fitzpatrick': 'kevinfitz@aol.com', 'Violet Wingham': 'purplepie@gmail.com', 'Riley Jacobson': 'allriledup@gmail.com'}\n",
      "{'Betty Suarez': 'betty.suarez@mode.com', 'Jennifer Dalton': 'jennydalton@gmail.com', 'Kevin Fitzpatrick': 'kevinfitz@aol.com', 'Violet Wingham': 'violet.wingham34@spsmail.cuny.edu', 'Riley Jacobson': 'allriledup@gmail.com'}\n",
      "{'Jennifer Dalton': 'jennydalton@gmail.com', 'Kevin Fitzpatrick': 'kevinfitz@aol.com', 'Violet Wingham': 'violet.wingham34@spsmail.cuny.edu', 'Riley Jacobson': 'allriledup@gmail.com'}\n"
     ]
    }
   ],
   "source": [
    "emails = {\"Betty Suarez\": \"betty.suarez@mode.com\",\n",
    "          \"Jennifer Dalton\": \"jennydalton@gmail.com\",\n",
    "          \"Kevin Fitzpatrick\": \"kevinfitz@aol.com\",\n",
    "          \"Violet Wingham\": \"purplepie@gmail.com\"}\n",
    "\n",
    "# Look up email\n",
    "print(emails[\"Betty Suarez\"])\n",
    "print(emails[\"Violet Wingham\"])\n",
    "\n",
    "# Add name and email\n",
    "emails[\"Riley Jacobson\"] = \"allriledup@gmail.com\"\n",
    "print(emails)\n",
    "\n",
    "# Change existing email\n",
    "emails[\"Violet Wingham\"] = \"violet.wingham34@spsmail.cuny.edu\"\n",
    "print(emails)\n",
    "\n",
    "# Delete name and email\n",
    "del emails[\"Betty Suarez\"]\n",
    "print(emails)"
   ]
  }
 ],
 "metadata": {
  "kernelspec": {
   "display_name": "Python 3",
   "language": "python",
   "name": "python3"
  },
  "language_info": {
   "codemirror_mode": {
    "name": "ipython",
    "version": 3
   },
   "file_extension": ".py",
   "mimetype": "text/x-python",
   "name": "python",
   "nbconvert_exporter": "python",
   "pygments_lexer": "ipython3",
   "version": "3.10.6"
  },
  "orig_nbformat": 4
 },
 "nbformat": 4,
 "nbformat_minor": 2
}
