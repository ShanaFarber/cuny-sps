{
 "cells": [
  {
   "cell_type": "markdown",
   "metadata": {},
   "source": [
    "1. Create a list called animals that contain the following: cat, dog, manta ray, horse, crouching tiger."
   ]
  },
  {
   "cell_type": "code",
   "execution_count": 21,
   "metadata": {},
   "outputs": [],
   "source": [
    "animals = ['cat', 'dog', 'manta ray', 'horse', 'crouching tiger']"
   ]
  },
  {
   "cell_type": "markdown",
   "metadata": {},
   "source": [
    "2. Repeat question 1 and loop through and print each item in the animal list by iterating through an index number and using range(). Set a variable len_animals to the length of the animal list."
   ]
  },
  {
   "cell_type": "code",
   "execution_count": 22,
   "metadata": {},
   "outputs": [
    {
     "name": "stdout",
     "output_type": "stream",
     "text": [
      "cat\n",
      "dog\n",
      "manta ray\n",
      "horse\n",
      "crouching tiger\n"
     ]
    }
   ],
   "source": [
    "animals = ['cat', 'dog', 'manta ray', 'horse', 'crouching tiger']\n",
    "\n",
    "len_animals = len(animals)\n",
    "\n",
    "for index in range(len_animals):\n",
    "    print(animals[index])"
   ]
  },
  {
   "cell_type": "markdown",
   "metadata": {},
   "source": [
    "3. Programmatically reorganize the countdown list below in descending order and return the value of the 5th element in the sorted countdown list. The 5th element will be stored in the variable the_fifth_element, which currently below has a dummy value of -999. Remember, the index number of the 5th element is not 5."
   ]
  },
  {
   "cell_type": "code",
   "execution_count": 3,
   "metadata": {},
   "outputs": [
    {
     "name": "stdout",
     "output_type": "stream",
     "text": [
      "6\n"
     ]
    }
   ],
   "source": [
    "countdown = [9, 8, 7, 5, 4, 2, 1, 6, 10, 3, 0, -5]\n",
    "countdown.sort(reverse=True)     # sort descending\n",
    "the_fifth_element = countdown[4]    # switch the dummy variable (-999) with the fifth element (4th index)\n",
    "print(the_fifth_element)"
   ]
  },
  {
   "cell_type": "markdown",
   "metadata": {},
   "source": [
    "4. Write a program to add item 7000 after 6000 in the following Python List:"
   ]
  },
  {
   "cell_type": "code",
   "execution_count": 9,
   "metadata": {},
   "outputs": [
    {
     "name": "stdout",
     "output_type": "stream",
     "text": [
      "[10, 20, [300, 400, [5000, 6000, 7000], 500], 30, 40]\n"
     ]
    }
   ],
   "source": [
    "list1 = [10, 20, [300, 400, [5000, 6000], 500], 30, 40]\n",
    "\n",
    "#Expected output:\n",
    "#[10, 20, [300, 400, [5000, 6000, 7000], 500], 30, 40]\n",
    "\n",
    "list1[2][2].append(7000)     # third element of third element\n",
    "print(list1)"
   ]
  },
  {
   "cell_type": "markdown",
   "metadata": {},
   "source": [
    "5. Write a program to remove all occurrences of item 20 in the following list."
   ]
  },
  {
   "cell_type": "code",
   "execution_count": 35,
   "metadata": {},
   "outputs": [
    {
     "name": "stdout",
     "output_type": "stream",
     "text": [
      "[5, 30, 15, 30]\n"
     ]
    }
   ],
   "source": [
    "list2 = [5, 20, 30, 15, 20, 30, 20]\n",
    "\n",
    "list2 = [x for x in list2 if x != 20]    # only include if not 20\n",
    "print(list2)"
   ]
  },
  {
   "cell_type": "markdown",
   "metadata": {},
   "source": [
    "6. Using the following dictionary .. (Use python to solve for the answer.)\n",
    "\n",
    "    dict = {\"Course\": \"DATA 606\", \"Program\": \"MSDS\", \"School\": \"CUNYSPS\"}\n",
    "\n",
    "        a. What is the name of the course?\n",
    "\n",
    "        b. Change the course to DATA602\n",
    "\n",
    "        c. Add new information to the dictionary - \"Professor\" with \"Schettini\"\n",
    "        \n",
    "        d. Using the len function, find how many keys there are in the dictionary. "
   ]
  },
  {
   "cell_type": "code",
   "execution_count": 2,
   "metadata": {},
   "outputs": [
    {
     "name": "stdout",
     "output_type": "stream",
     "text": [
      "The name of the course is DATA 606\n",
      "There are 4 keys in the dictionary\n"
     ]
    }
   ],
   "source": [
    "dict = {\"Course\": \"DATA 606\", \"Program\": \"MSDS\", \"School\": \"CUNYSPS\"}\n",
    "\n",
    "#a\n",
    "print(f\"The name of the course is {dict['Course']}\")\n",
    "\n",
    "#b\n",
    "dict['Course'] = 'DATA602'\n",
    "\n",
    "#c\n",
    "dict['Professor'] = ['Schettini']\n",
    "\n",
    "#d\n",
    "print(f'There are {len(dict.keys())} keys in the dictionary')"
   ]
  },
  {
   "cell_type": "markdown",
   "metadata": {},
   "source": [
    "7.  Write a Python program to change Brad’s salary to 7500 in the following dictionary."
   ]
  },
  {
   "cell_type": "code",
   "execution_count": 39,
   "metadata": {},
   "outputs": [
    {
     "name": "stdout",
     "output_type": "stream",
     "text": [
      "{'emp1': {'name': 'Amanda', 'salary': 8200}, 'emp2': {'name': 'John', 'salary': 8000}, 'emp3': {'name': 'Brad', 'salary': 7500}}\n"
     ]
    }
   ],
   "source": [
    "sample_dict = {\n",
    "    'emp1': {'name': 'Amanda', 'salary': 8200},\n",
    "    'emp2': {'name': 'John', 'salary': 8000},\n",
    "    'emp3': {'name': 'Brad', 'salary': 700}\n",
    "}\n",
    "\n",
    "sample_dict['emp3']['salary'] = 7500    # changes salary value for dictionary corresponding with empt3\n",
    "print(sample_dict)"
   ]
  }
 ],
 "metadata": {
  "kernelspec": {
   "display_name": "Python 3",
   "language": "python",
   "name": "python3"
  },
  "language_info": {
   "codemirror_mode": {
    "name": "ipython",
    "version": 3
   },
   "file_extension": ".py",
   "mimetype": "text/x-python",
   "name": "python",
   "nbconvert_exporter": "python",
   "pygments_lexer": "ipython3",
   "version": "3.10.6"
  },
  "orig_nbformat": 4
 },
 "nbformat": 4,
 "nbformat_minor": 2
}
