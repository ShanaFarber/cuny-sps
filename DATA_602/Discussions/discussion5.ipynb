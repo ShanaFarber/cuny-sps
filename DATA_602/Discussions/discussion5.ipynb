{
 "cells": [
  {
   "cell_type": "markdown",
   "metadata": {},
   "source": [
    "1. Write a Python class to reverse a string word by word.\n",
    "\n",
    "    Example:\n",
    "\n",
    "    Input string : 'hello .py'\n",
    "\n",
    "    Expected Output : '.py hello'"
   ]
  },
  {
   "cell_type": "code",
   "execution_count": 23,
   "metadata": {},
   "outputs": [
    {
     "name": "stdout",
     "output_type": "stream",
     "text": [
      "string test a is this\n",
      ".py hello\n"
     ]
    }
   ],
   "source": [
    "class ReverseWords:\n",
    "    def __init__(self, string):\n",
    "        self.string = string\n",
    "\n",
    "    def reverseWords(self):\n",
    "        words = self.string.split(' ')\n",
    "        words.reverse()\n",
    "        reversed_string = ' '.join(words)\n",
    "            \n",
    "        return reversed_string\n",
    "    \n",
    "reverse1 = ReverseWords(\"this is a test string\")\n",
    "reverse2 = ReverseWords(\"hello .py\")\n",
    "print(reverse1.reverseWords())\n",
    "print(reverse2.reverseWords())\n"
   ]
  },
  {
   "cell_type": "markdown",
   "metadata": {},
   "source": [
    "2. Write a Python class named Circle constructed by a radius and two methods which will compute the area and the perimeter of a circle."
   ]
  },
  {
   "cell_type": "code",
   "execution_count": 24,
   "metadata": {},
   "outputs": [
    {
     "name": "stdout",
     "output_type": "stream",
     "text": [
      "Area: 201.06\n",
      "Perimiter: 50.27\n"
     ]
    }
   ],
   "source": [
    "import math\n",
    "\n",
    "class Circle:\n",
    "    def __init__(self, radius):\n",
    "        self.radius = radius\n",
    "\n",
    "    def area(self):\n",
    "        return round(math.pi*(self.radius**2), 2)\n",
    "    \n",
    "    def perimeter(self):\n",
    "        return round(2*math.pi*self.radius, 2)\n",
    "\n",
    "circle = Circle(8)\n",
    "print(f'Area: {circle.area()}')\n",
    "print(f'Perimiter: {circle.perimeter()}')\n"
   ]
  }
 ],
 "metadata": {
  "kernelspec": {
   "display_name": "Python 3",
   "language": "python",
   "name": "python3"
  },
  "language_info": {
   "codemirror_mode": {
    "name": "ipython",
    "version": 3
   },
   "file_extension": ".py",
   "mimetype": "text/x-python",
   "name": "python",
   "nbconvert_exporter": "python",
   "pygments_lexer": "ipython3",
   "version": "3.10.6"
  },
  "orig_nbformat": 4
 },
 "nbformat": 4,
 "nbformat_minor": 2
}
