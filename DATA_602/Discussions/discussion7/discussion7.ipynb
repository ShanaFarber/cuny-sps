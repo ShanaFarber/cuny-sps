{
 "cells": [
  {
   "cell_type": "markdown",
   "metadata": {},
   "source": [
    "**1**. What is pandas and why use it?\n",
    "\n",
    "**Pandas** is a python library used for working with tabular or structured data. It can store data into series or data frames which can then be explored through statistical analysis methods, data visualization, and aggregations. You can also use it to join data from different sources. "
   ]
  },
  {
   "cell_type": "markdown",
   "metadata": {},
   "source": [
    "**2**. Give an example of how to import a csv file using pandas\n",
    "\n",
    "Here is a Harry Potter movie dataset: https://www.kaggle.com/datasets/maricinnamon/harry-potter-movies-dataset/. Let's load the \"spells\" dataset using **pandas**."
   ]
  },
  {
   "cell_type": "code",
   "execution_count": 46,
   "metadata": {},
   "outputs": [
    {
     "data": {
      "text/html": [
       "<div>\n",
       "<style scoped>\n",
       "    .dataframe tbody tr th:only-of-type {\n",
       "        vertical-align: middle;\n",
       "    }\n",
       "\n",
       "    .dataframe tbody tr th {\n",
       "        vertical-align: top;\n",
       "    }\n",
       "\n",
       "    .dataframe thead th {\n",
       "        text-align: right;\n",
       "    }\n",
       "</style>\n",
       "<table border=\"1\" class=\"dataframe\">\n",
       "  <thead>\n",
       "    <tr style=\"text-align: right;\">\n",
       "      <th></th>\n",
       "      <th>Spell ID</th>\n",
       "      <th>Incantation</th>\n",
       "      <th>Spell Name</th>\n",
       "      <th>Effect</th>\n",
       "      <th>Light</th>\n",
       "    </tr>\n",
       "  </thead>\n",
       "  <tbody>\n",
       "    <tr>\n",
       "      <th>0</th>\n",
       "      <td>1</td>\n",
       "      <td>Accio</td>\n",
       "      <td>Summoning Charm</td>\n",
       "      <td>Summons an object</td>\n",
       "      <td>NaN</td>\n",
       "    </tr>\n",
       "    <tr>\n",
       "      <th>1</th>\n",
       "      <td>2</td>\n",
       "      <td>Aguamenti</td>\n",
       "      <td>Water-Making Spell</td>\n",
       "      <td>Conjures water</td>\n",
       "      <td>Icy blue</td>\n",
       "    </tr>\n",
       "    <tr>\n",
       "      <th>2</th>\n",
       "      <td>3</td>\n",
       "      <td>Alarte Ascendare</td>\n",
       "      <td>Launch an object up into the air</td>\n",
       "      <td>Rockets target upward</td>\n",
       "      <td>Red</td>\n",
       "    </tr>\n",
       "    <tr>\n",
       "      <th>3</th>\n",
       "      <td>4</td>\n",
       "      <td>Alohomora</td>\n",
       "      <td>Unlocking Charm</td>\n",
       "      <td>Unlocks target</td>\n",
       "      <td>Blue</td>\n",
       "    </tr>\n",
       "    <tr>\n",
       "      <th>4</th>\n",
       "      <td>5</td>\n",
       "      <td>Arania Exumai</td>\n",
       "      <td>Spider repelling spell</td>\n",
       "      <td>Repels spiders</td>\n",
       "      <td>Blue</td>\n",
       "    </tr>\n",
       "    <tr>\n",
       "      <th>...</th>\n",
       "      <td>...</td>\n",
       "      <td>...</td>\n",
       "      <td>...</td>\n",
       "      <td>...</td>\n",
       "      <td>...</td>\n",
       "    </tr>\n",
       "    <tr>\n",
       "      <th>56</th>\n",
       "      <td>57</td>\n",
       "      <td>Serpensortia</td>\n",
       "      <td>Snake Summons Spell</td>\n",
       "      <td>Conjures snake</td>\n",
       "      <td>White</td>\n",
       "    </tr>\n",
       "    <tr>\n",
       "      <th>57</th>\n",
       "      <td>58</td>\n",
       "      <td>Stupefy</td>\n",
       "      <td>Stunning Spell</td>\n",
       "      <td>Knocks out target</td>\n",
       "      <td>Red</td>\n",
       "    </tr>\n",
       "    <tr>\n",
       "      <th>58</th>\n",
       "      <td>59</td>\n",
       "      <td>Vera Verto</td>\n",
       "      <td>Vera Verto</td>\n",
       "      <td>Transforms animals into water goblets</td>\n",
       "      <td>Crystal clear</td>\n",
       "    </tr>\n",
       "    <tr>\n",
       "      <th>59</th>\n",
       "      <td>60</td>\n",
       "      <td>Vipera Evanesca</td>\n",
       "      <td>Snake-Vanishing Spell</td>\n",
       "      <td>Vanishes snakes</td>\n",
       "      <td>Black smoke</td>\n",
       "    </tr>\n",
       "    <tr>\n",
       "      <th>60</th>\n",
       "      <td>61</td>\n",
       "      <td>Wingardium Leviosa</td>\n",
       "      <td>Levitation Charm</td>\n",
       "      <td>Makes objects fly</td>\n",
       "      <td>NaN</td>\n",
       "    </tr>\n",
       "  </tbody>\n",
       "</table>\n",
       "<p>61 rows × 5 columns</p>\n",
       "</div>"
      ],
      "text/plain": [
       "    Spell ID         Incantation                        Spell Name  \\\n",
       "0          1               Accio                   Summoning Charm   \n",
       "1          2           Aguamenti                Water-Making Spell   \n",
       "2          3    Alarte Ascendare  Launch an object up into the air   \n",
       "3          4           Alohomora                   Unlocking Charm   \n",
       "4          5       Arania Exumai            Spider repelling spell   \n",
       "..       ...                 ...                               ...   \n",
       "56        57        Serpensortia               Snake Summons Spell   \n",
       "57        58             Stupefy                    Stunning Spell   \n",
       "58        59          Vera Verto                        Vera Verto   \n",
       "59        60     Vipera Evanesca             Snake-Vanishing Spell   \n",
       "60        61  Wingardium Leviosa                  Levitation Charm   \n",
       "\n",
       "                                   Effect          Light  \n",
       "0                       Summons an object            NaN  \n",
       "1                          Conjures water       Icy blue  \n",
       "2                   Rockets target upward            Red  \n",
       "3                          Unlocks target           Blue  \n",
       "4                          Repels spiders           Blue  \n",
       "..                                    ...            ...  \n",
       "56                         Conjures snake          White  \n",
       "57                      Knocks out target            Red  \n",
       "58  Transforms animals into water goblets  Crystal clear  \n",
       "59                        Vanishes snakes    Black smoke  \n",
       "60                      Makes objects fly            NaN  \n",
       "\n",
       "[61 rows x 5 columns]"
      ]
     },
     "execution_count": 46,
     "metadata": {},
     "output_type": "execute_result"
    }
   ],
   "source": [
    "import pandas as pd \n",
    "\n",
    "spells_df = pd.read_csv('https://raw.githubusercontent.com/ShanaFarber/cuny-sps/master/DATA_602/Discussions/discussion7/Spells.csv')\n",
    "spells_df"
   ]
  },
  {
   "cell_type": "markdown",
   "metadata": {},
   "source": [
    "**3**. Show how to view the first 10 rows of a dataset using pandas\n",
    "\n",
    "Let's view the first 10 rows of the spells dataset."
   ]
  },
  {
   "cell_type": "code",
   "execution_count": 47,
   "metadata": {},
   "outputs": [
    {
     "data": {
      "text/html": [
       "<div>\n",
       "<style scoped>\n",
       "    .dataframe tbody tr th:only-of-type {\n",
       "        vertical-align: middle;\n",
       "    }\n",
       "\n",
       "    .dataframe tbody tr th {\n",
       "        vertical-align: top;\n",
       "    }\n",
       "\n",
       "    .dataframe thead th {\n",
       "        text-align: right;\n",
       "    }\n",
       "</style>\n",
       "<table border=\"1\" class=\"dataframe\">\n",
       "  <thead>\n",
       "    <tr style=\"text-align: right;\">\n",
       "      <th></th>\n",
       "      <th>Spell ID</th>\n",
       "      <th>Incantation</th>\n",
       "      <th>Spell Name</th>\n",
       "      <th>Effect</th>\n",
       "      <th>Light</th>\n",
       "    </tr>\n",
       "  </thead>\n",
       "  <tbody>\n",
       "    <tr>\n",
       "      <th>0</th>\n",
       "      <td>1</td>\n",
       "      <td>Accio</td>\n",
       "      <td>Summoning Charm</td>\n",
       "      <td>Summons an object</td>\n",
       "      <td>NaN</td>\n",
       "    </tr>\n",
       "    <tr>\n",
       "      <th>1</th>\n",
       "      <td>2</td>\n",
       "      <td>Aguamenti</td>\n",
       "      <td>Water-Making Spell</td>\n",
       "      <td>Conjures water</td>\n",
       "      <td>Icy blue</td>\n",
       "    </tr>\n",
       "    <tr>\n",
       "      <th>2</th>\n",
       "      <td>3</td>\n",
       "      <td>Alarte Ascendare</td>\n",
       "      <td>Launch an object up into the air</td>\n",
       "      <td>Rockets target upward</td>\n",
       "      <td>Red</td>\n",
       "    </tr>\n",
       "    <tr>\n",
       "      <th>3</th>\n",
       "      <td>4</td>\n",
       "      <td>Alohomora</td>\n",
       "      <td>Unlocking Charm</td>\n",
       "      <td>Unlocks target</td>\n",
       "      <td>Blue</td>\n",
       "    </tr>\n",
       "    <tr>\n",
       "      <th>4</th>\n",
       "      <td>5</td>\n",
       "      <td>Arania Exumai</td>\n",
       "      <td>Spider repelling spell</td>\n",
       "      <td>Repels spiders</td>\n",
       "      <td>Blue</td>\n",
       "    </tr>\n",
       "    <tr>\n",
       "      <th>5</th>\n",
       "      <td>6</td>\n",
       "      <td>Arresto Momentum</td>\n",
       "      <td>Slowing Charm</td>\n",
       "      <td>Slows or stops target's velocity</td>\n",
       "      <td>NaN</td>\n",
       "    </tr>\n",
       "    <tr>\n",
       "      <th>6</th>\n",
       "      <td>7</td>\n",
       "      <td>Avada Kedavra</td>\n",
       "      <td>Killing Curse</td>\n",
       "      <td>Instantaneous death</td>\n",
       "      <td>Green</td>\n",
       "    </tr>\n",
       "    <tr>\n",
       "      <th>7</th>\n",
       "      <td>8</td>\n",
       "      <td>Bombarda</td>\n",
       "      <td>Exploding Charm</td>\n",
       "      <td>Small explosion</td>\n",
       "      <td>NaN</td>\n",
       "    </tr>\n",
       "    <tr>\n",
       "      <th>8</th>\n",
       "      <td>9</td>\n",
       "      <td>Brackium Emendo</td>\n",
       "      <td>Brackium Emendo</td>\n",
       "      <td>Mends bones</td>\n",
       "      <td>Blue</td>\n",
       "    </tr>\n",
       "    <tr>\n",
       "      <th>9</th>\n",
       "      <td>10</td>\n",
       "      <td>Cistem Aperio</td>\n",
       "      <td>Cistem Aperio</td>\n",
       "      <td>Opens chests</td>\n",
       "      <td>White</td>\n",
       "    </tr>\n",
       "  </tbody>\n",
       "</table>\n",
       "</div>"
      ],
      "text/plain": [
       "   Spell ID       Incantation                        Spell Name  \\\n",
       "0         1             Accio                   Summoning Charm   \n",
       "1         2         Aguamenti                Water-Making Spell   \n",
       "2         3  Alarte Ascendare  Launch an object up into the air   \n",
       "3         4         Alohomora                   Unlocking Charm   \n",
       "4         5     Arania Exumai            Spider repelling spell   \n",
       "5         6  Arresto Momentum                     Slowing Charm   \n",
       "6         7     Avada Kedavra                     Killing Curse   \n",
       "7         8          Bombarda                   Exploding Charm   \n",
       "8         9   Brackium Emendo                   Brackium Emendo   \n",
       "9        10     Cistem Aperio                     Cistem Aperio   \n",
       "\n",
       "                             Effect     Light  \n",
       "0                 Summons an object       NaN  \n",
       "1                    Conjures water  Icy blue  \n",
       "2             Rockets target upward       Red  \n",
       "3                    Unlocks target      Blue  \n",
       "4                    Repels spiders      Blue  \n",
       "5  Slows or stops target's velocity       NaN  \n",
       "6               Instantaneous death     Green  \n",
       "7                   Small explosion       NaN  \n",
       "8                       Mends bones      Blue  \n",
       "9                      Opens chests     White  "
      ]
     },
     "execution_count": 47,
     "metadata": {},
     "output_type": "execute_result"
    }
   ],
   "source": [
    "spells_df.head(10)"
   ]
  },
  {
   "cell_type": "markdown",
   "metadata": {},
   "source": [
    "**4**. Write a Pandas program to compare the elements of the two Pandas Series.\n",
    "\n",
    "Sample Series: [2, 4, 6, 8, 10], [1, 3, 5, 7, 10]"
   ]
  },
  {
   "cell_type": "code",
   "execution_count": 52,
   "metadata": {},
   "outputs": [
    {
     "data": {
      "text/html": [
       "<div>\n",
       "<style scoped>\n",
       "    .dataframe tbody tr th:only-of-type {\n",
       "        vertical-align: middle;\n",
       "    }\n",
       "\n",
       "    .dataframe tbody tr th {\n",
       "        vertical-align: top;\n",
       "    }\n",
       "\n",
       "    .dataframe thead th {\n",
       "        text-align: right;\n",
       "    }\n",
       "</style>\n",
       "<table border=\"1\" class=\"dataframe\">\n",
       "  <thead>\n",
       "    <tr style=\"text-align: right;\">\n",
       "      <th></th>\n",
       "      <th>self</th>\n",
       "      <th>other</th>\n",
       "    </tr>\n",
       "  </thead>\n",
       "  <tbody>\n",
       "    <tr>\n",
       "      <th>0</th>\n",
       "      <td>2.0</td>\n",
       "      <td>1.0</td>\n",
       "    </tr>\n",
       "    <tr>\n",
       "      <th>1</th>\n",
       "      <td>4.0</td>\n",
       "      <td>3.0</td>\n",
       "    </tr>\n",
       "    <tr>\n",
       "      <th>2</th>\n",
       "      <td>6.0</td>\n",
       "      <td>5.0</td>\n",
       "    </tr>\n",
       "    <tr>\n",
       "      <th>3</th>\n",
       "      <td>8.0</td>\n",
       "      <td>7.0</td>\n",
       "    </tr>\n",
       "  </tbody>\n",
       "</table>\n",
       "</div>"
      ],
      "text/plain": [
       "   self  other\n",
       "0   2.0    1.0\n",
       "1   4.0    3.0\n",
       "2   6.0    5.0\n",
       "3   8.0    7.0"
      ]
     },
     "execution_count": 52,
     "metadata": {},
     "output_type": "execute_result"
    }
   ],
   "source": [
    "series1 = pd.Series([2,4,6,8,10])\n",
    "series2 = pd.Series([1,3,5,7,10])\n",
    "\n",
    "# compare equal\n",
    "series1 == series2"
   ]
  },
  {
   "cell_type": "code",
   "execution_count": 49,
   "metadata": {},
   "outputs": [
    {
     "data": {
      "text/plain": [
       "0     True\n",
       "1     True\n",
       "2     True\n",
       "3     True\n",
       "4    False\n",
       "dtype: bool"
      ]
     },
     "execution_count": 49,
     "metadata": {},
     "output_type": "execute_result"
    }
   ],
   "source": [
    "# compare greater than\n",
    "series1 > series2"
   ]
  },
  {
   "cell_type": "code",
   "execution_count": 50,
   "metadata": {},
   "outputs": [
    {
     "data": {
      "text/plain": [
       "0    False\n",
       "1    False\n",
       "2    False\n",
       "3    False\n",
       "4    False\n",
       "dtype: bool"
      ]
     },
     "execution_count": 50,
     "metadata": {},
     "output_type": "execute_result"
    }
   ],
   "source": [
    "# compare less than\n",
    "series1 < series2"
   ]
  },
  {
   "cell_type": "markdown",
   "metadata": {},
   "source": [
    "**5**. Change the first character of each word to upper case in each word of df1"
   ]
  },
  {
   "cell_type": "code",
   "execution_count": 51,
   "metadata": {},
   "outputs": [
    {
     "name": "stdout",
     "output_type": "stream",
     "text": [
      "0     Hello\n",
      "1        To\n",
      "2      Cuny\n",
      "3    Class?\n",
      "dtype: object\n"
     ]
    }
   ],
   "source": [
    "df1 = pd.Series(['hello', 'to', 'cuny', 'class?'])\n",
    "\n",
    "title_df1 = df1.apply(lambda x: x.title())\n",
    "print(title_df1)"
   ]
  }
 ],
 "metadata": {
  "kernelspec": {
   "display_name": "Python 3",
   "language": "python",
   "name": "python3"
  },
  "language_info": {
   "codemirror_mode": {
    "name": "ipython",
    "version": 3
   },
   "file_extension": ".py",
   "mimetype": "text/x-python",
   "name": "python",
   "nbconvert_exporter": "python",
   "pygments_lexer": "ipython3",
   "version": "3.10.6"
  },
  "orig_nbformat": 4
 },
 "nbformat": 4,
 "nbformat_minor": 2
}
