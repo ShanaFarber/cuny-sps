{
 "cells": [
  {
   "cell_type": "markdown",
   "metadata": {},
   "source": [
    "## Data 602 - Final Project\n",
    "\n",
    "Shoshana Farber\n",
    "\n",
    "**Abtract:**\n",
    "\n",
    "The movie industry is ever changing and \n",
    "\n",
    "**Introduction:**\n",
    "\n",
    "The dataset selected for this project encompasses IMDb movies and their associated attributes, including release year, rating, genre, certification, and key production details such as director, stars, runtime, and more. IMDb is an internet movie database featuring information on thousands of movies, TV shows, video games, and more worldwide. From timeless classics to the latest releases, IMDb spans the entire spectrum of entertainment. Registered users can rate movies, helping others discover popular and noteworthy films.\n",
    "\n",
    "This project aims to identify features influencing film popularity on IMDb. Utilizing Python, we will analyze genres, directors, actors, and more to uncover the factors contributing to a movie's success.\n",
    "\n",
    "**Data Sources:**\n",
    "\n",
    "Data was sourced from Kaggle and can be found [here](https://www.kaggle.com/datasets/dk123891/10000-movies-data?select=data.csv).\n",
    "\n",
    "**EDA and Summary Statistics:**"
   ]
  },
  {
   "cell_type": "code",
   "execution_count": 142,
   "metadata": {},
   "outputs": [
    {
     "data": {
      "text/html": [
       "<div>\n",
       "<style scoped>\n",
       "    .dataframe tbody tr th:only-of-type {\n",
       "        vertical-align: middle;\n",
       "    }\n",
       "\n",
       "    .dataframe tbody tr th {\n",
       "        vertical-align: top;\n",
       "    }\n",
       "\n",
       "    .dataframe thead th {\n",
       "        text-align: right;\n",
       "    }\n",
       "</style>\n",
       "<table border=\"1\" class=\"dataframe\">\n",
       "  <thead>\n",
       "    <tr style=\"text-align: right;\">\n",
       "      <th></th>\n",
       "      <th>Movie Name</th>\n",
       "      <th>Year of Release</th>\n",
       "      <th>Run Time in minutes</th>\n",
       "      <th>Movie Rating</th>\n",
       "      <th>Votes</th>\n",
       "      <th>MetaScore</th>\n",
       "      <th>Gross</th>\n",
       "      <th>Genre</th>\n",
       "      <th>Certification</th>\n",
       "      <th>Director</th>\n",
       "      <th>Stars</th>\n",
       "      <th>Description</th>\n",
       "    </tr>\n",
       "  </thead>\n",
       "  <tbody>\n",
       "    <tr>\n",
       "      <th>0</th>\n",
       "      <td>The Shawshank Redemption</td>\n",
       "      <td>1994</td>\n",
       "      <td>142</td>\n",
       "      <td>9.3</td>\n",
       "      <td>2804443</td>\n",
       "      <td>82.0</td>\n",
       "      <td>28340000.0</td>\n",
       "      <td>['Drama']</td>\n",
       "      <td>R</td>\n",
       "      <td>['Frank Darabont']</td>\n",
       "      <td>['Tim Robbins', 'Morgan Freeman', 'Bob Gunton'...</td>\n",
       "      <td>['Over', 'the', 'course', 'of', 'several', 'ye...</td>\n",
       "    </tr>\n",
       "    <tr>\n",
       "      <th>1</th>\n",
       "      <td>The Godfather</td>\n",
       "      <td>1972</td>\n",
       "      <td>175</td>\n",
       "      <td>9.2</td>\n",
       "      <td>1954174</td>\n",
       "      <td>100.0</td>\n",
       "      <td>134970000.0</td>\n",
       "      <td>['Crime', ' Drama']</td>\n",
       "      <td>R</td>\n",
       "      <td>['Francis Ford Coppola']</td>\n",
       "      <td>['Marlon Brando', 'Al Pacino', 'James Caan', '...</td>\n",
       "      <td>['Don', 'Vito', 'Corleone,', 'head', 'of', 'a'...</td>\n",
       "    </tr>\n",
       "    <tr>\n",
       "      <th>2</th>\n",
       "      <td>Ramayana: The Legend of Prince Rama</td>\n",
       "      <td>1993</td>\n",
       "      <td>135</td>\n",
       "      <td>9.2</td>\n",
       "      <td>12995</td>\n",
       "      <td>NaN</td>\n",
       "      <td>NaN</td>\n",
       "      <td>['Animation', ' Action', ' Adventure']</td>\n",
       "      <td>PG</td>\n",
       "      <td>['Ram Mohan', 'Yûgô Sakô', 'Koichi Saski']</td>\n",
       "      <td>['Arun Govil', 'Nikhil Kapoor', 'Edie Mirman',...</td>\n",
       "      <td>['An', 'anime', 'adaptation', 'of', 'the', 'Hi...</td>\n",
       "    </tr>\n",
       "    <tr>\n",
       "      <th>3</th>\n",
       "      <td>The Chaos Class</td>\n",
       "      <td>1975</td>\n",
       "      <td>87</td>\n",
       "      <td>9.2</td>\n",
       "      <td>42231</td>\n",
       "      <td>NaN</td>\n",
       "      <td>NaN</td>\n",
       "      <td>['Comedy', ' Drama']</td>\n",
       "      <td>NaN</td>\n",
       "      <td>['Ertem Egilmez']</td>\n",
       "      <td>['Kemal Sunal', 'Münir Özkul', 'Halit Akçatepe...</td>\n",
       "      <td>['Lazy,', 'uneducated', 'students', 'share', '...</td>\n",
       "    </tr>\n",
       "    <tr>\n",
       "      <th>4</th>\n",
       "      <td>The Dark Knight</td>\n",
       "      <td>2008</td>\n",
       "      <td>152</td>\n",
       "      <td>9.0</td>\n",
       "      <td>2786129</td>\n",
       "      <td>84.0</td>\n",
       "      <td>534860000.0</td>\n",
       "      <td>['Action', ' Crime', ' Drama']</td>\n",
       "      <td>PG-13</td>\n",
       "      <td>['Christopher Nolan']</td>\n",
       "      <td>['Christian Bale', 'Heath Ledger', 'Aaron Eckh...</td>\n",
       "      <td>['When', 'the', 'menace', 'known', 'as', 'the'...</td>\n",
       "    </tr>\n",
       "  </tbody>\n",
       "</table>\n",
       "</div>"
      ],
      "text/plain": [
       "                            Movie Name  Year of Release  Run Time in minutes  \\\n",
       "0             The Shawshank Redemption             1994                  142   \n",
       "1                        The Godfather             1972                  175   \n",
       "2  Ramayana: The Legend of Prince Rama             1993                  135   \n",
       "3                      The Chaos Class             1975                   87   \n",
       "4                      The Dark Knight             2008                  152   \n",
       "\n",
       "   Movie Rating    Votes  MetaScore        Gross  \\\n",
       "0           9.3  2804443       82.0   28340000.0   \n",
       "1           9.2  1954174      100.0  134970000.0   \n",
       "2           9.2    12995        NaN          NaN   \n",
       "3           9.2    42231        NaN          NaN   \n",
       "4           9.0  2786129       84.0  534860000.0   \n",
       "\n",
       "                                    Genre Certification  \\\n",
       "0                               ['Drama']             R   \n",
       "1                     ['Crime', ' Drama']             R   \n",
       "2  ['Animation', ' Action', ' Adventure']            PG   \n",
       "3                    ['Comedy', ' Drama']           NaN   \n",
       "4          ['Action', ' Crime', ' Drama']         PG-13   \n",
       "\n",
       "                                     Director  \\\n",
       "0                          ['Frank Darabont']   \n",
       "1                    ['Francis Ford Coppola']   \n",
       "2  ['Ram Mohan', 'Yûgô Sakô', 'Koichi Saski']   \n",
       "3                           ['Ertem Egilmez']   \n",
       "4                       ['Christopher Nolan']   \n",
       "\n",
       "                                               Stars  \\\n",
       "0  ['Tim Robbins', 'Morgan Freeman', 'Bob Gunton'...   \n",
       "1  ['Marlon Brando', 'Al Pacino', 'James Caan', '...   \n",
       "2  ['Arun Govil', 'Nikhil Kapoor', 'Edie Mirman',...   \n",
       "3  ['Kemal Sunal', 'Münir Özkul', 'Halit Akçatepe...   \n",
       "4  ['Christian Bale', 'Heath Ledger', 'Aaron Eckh...   \n",
       "\n",
       "                                         Description  \n",
       "0  ['Over', 'the', 'course', 'of', 'several', 'ye...  \n",
       "1  ['Don', 'Vito', 'Corleone,', 'head', 'of', 'a'...  \n",
       "2  ['An', 'anime', 'adaptation', 'of', 'the', 'Hi...  \n",
       "3  ['Lazy,', 'uneducated', 'students', 'share', '...  \n",
       "4  ['When', 'the', 'menace', 'known', 'as', 'the'...  "
      ]
     },
     "execution_count": 142,
     "metadata": {},
     "output_type": "execute_result"
    }
   ],
   "source": [
    "import pandas as pd\n",
    "import matplotlib.pyplot as plt\n",
    "import seaborn as sns\n",
    "import numpy as np\n",
    "import re\n",
    "\n",
    "# import data\n",
    "movies_df = pd.read_csv('https://raw.githubusercontent.com/ShanaFarber/cuny-sps/master/DATA_602/assignment7/sup-imdb-movies.csv', index_col=0)\n",
    "\n",
    "# preview data\n",
    "movies_df.head()"
   ]
  },
  {
   "cell_type": "code",
   "execution_count": 143,
   "metadata": {},
   "outputs": [
    {
     "name": "stdout",
     "output_type": "stream",
     "text": [
      "<class 'pandas.core.frame.DataFrame'>\n",
      "Index: 10000 entries, 0 to 9999\n",
      "Data columns (total 12 columns):\n",
      " #   Column               Non-Null Count  Dtype  \n",
      "---  ------               --------------  -----  \n",
      " 0   Movie Name           10000 non-null  object \n",
      " 1   Year of Release      10000 non-null  int64  \n",
      " 2   Run Time in minutes  10000 non-null  int64  \n",
      " 3   Movie Rating         10000 non-null  float64\n",
      " 4   Votes                10000 non-null  int64  \n",
      " 5   MetaScore            7974 non-null   float64\n",
      " 6   Gross                7085 non-null   float64\n",
      " 7   Genre                10000 non-null  object \n",
      " 8   Certification        9631 non-null   object \n",
      " 9   Director             10000 non-null  object \n",
      " 10  Stars                10000 non-null  object \n",
      " 11  Description          10000 non-null  object \n",
      "dtypes: float64(3), int64(3), object(6)\n",
      "memory usage: 1015.6+ KB\n"
     ]
    }
   ],
   "source": [
    "movies_df.info()"
   ]
  },
  {
   "cell_type": "markdown",
   "metadata": {},
   "source": [
    "There are 10,000 rows and 12 columns in the dataset. \n",
    "\n",
    "From the datatypes of each of the columns and the descriptions of each, it seems all columns are cast correctly."
   ]
  },
  {
   "cell_type": "code",
   "execution_count": 144,
   "metadata": {},
   "outputs": [
    {
     "data": {
      "text/plain": [
       "Movie Name                0\n",
       "Year of Release           0\n",
       "Run Time in minutes       0\n",
       "Movie Rating              0\n",
       "Votes                     0\n",
       "MetaScore              2026\n",
       "Gross                  2915\n",
       "Genre                     0\n",
       "Certification           369\n",
       "Director                  0\n",
       "Stars                     0\n",
       "Description               0\n",
       "dtype: int64"
      ]
     },
     "execution_count": 144,
     "metadata": {},
     "output_type": "execute_result"
    }
   ],
   "source": [
    "movies_df.isnull().sum()"
   ]
  },
  {
   "cell_type": "markdown",
   "metadata": {},
   "source": [
    "Most of the columns are not missing any values. `MetaScore`, `Gross`, and `Certification` have missing values. `Gross` is missing almost 3,000 values. "
   ]
  },
  {
   "cell_type": "markdown",
   "metadata": {},
   "source": [
    "Let's take a look at the summary statistics for some of the numeric variables."
   ]
  },
  {
   "cell_type": "code",
   "execution_count": 145,
   "metadata": {},
   "outputs": [
    {
     "data": {
      "text/html": [
       "<div>\n",
       "<style scoped>\n",
       "    .dataframe tbody tr th:only-of-type {\n",
       "        vertical-align: middle;\n",
       "    }\n",
       "\n",
       "    .dataframe tbody tr th {\n",
       "        vertical-align: top;\n",
       "    }\n",
       "\n",
       "    .dataframe thead th {\n",
       "        text-align: right;\n",
       "    }\n",
       "</style>\n",
       "<table border=\"1\" class=\"dataframe\">\n",
       "  <thead>\n",
       "    <tr style=\"text-align: right;\">\n",
       "      <th></th>\n",
       "      <th>count</th>\n",
       "      <th>mean</th>\n",
       "      <th>std</th>\n",
       "      <th>min</th>\n",
       "      <th>25%</th>\n",
       "      <th>50%</th>\n",
       "      <th>75%</th>\n",
       "      <th>max</th>\n",
       "    </tr>\n",
       "  </thead>\n",
       "  <tbody>\n",
       "    <tr>\n",
       "      <th>Run Time in minutes</th>\n",
       "      <td>10000.0</td>\n",
       "      <td>1.107250e+02</td>\n",
       "      <td>2.205307e+01</td>\n",
       "      <td>45.0</td>\n",
       "      <td>96.00</td>\n",
       "      <td>107.0</td>\n",
       "      <td>121.0</td>\n",
       "      <td>439.0</td>\n",
       "    </tr>\n",
       "    <tr>\n",
       "      <th>Movie Rating</th>\n",
       "      <td>10000.0</td>\n",
       "      <td>6.727020e+00</td>\n",
       "      <td>8.212645e-01</td>\n",
       "      <td>4.9</td>\n",
       "      <td>6.10</td>\n",
       "      <td>6.7</td>\n",
       "      <td>7.3</td>\n",
       "      <td>9.3</td>\n",
       "    </tr>\n",
       "    <tr>\n",
       "      <th>Votes</th>\n",
       "      <td>10000.0</td>\n",
       "      <td>9.279738e+04</td>\n",
       "      <td>1.716509e+05</td>\n",
       "      <td>10002.0</td>\n",
       "      <td>16851.75</td>\n",
       "      <td>34179.5</td>\n",
       "      <td>91546.0</td>\n",
       "      <td>2804443.0</td>\n",
       "    </tr>\n",
       "    <tr>\n",
       "      <th>MetaScore</th>\n",
       "      <td>7974.0</td>\n",
       "      <td>5.917143e+01</td>\n",
       "      <td>1.726880e+01</td>\n",
       "      <td>7.0</td>\n",
       "      <td>47.00</td>\n",
       "      <td>60.0</td>\n",
       "      <td>72.0</td>\n",
       "      <td>100.0</td>\n",
       "    </tr>\n",
       "    <tr>\n",
       "      <th>Gross</th>\n",
       "      <td>7085.0</td>\n",
       "      <td>4.017500e+07</td>\n",
       "      <td>6.748658e+07</td>\n",
       "      <td>0.0</td>\n",
       "      <td>2340000.00</td>\n",
       "      <td>16930000.0</td>\n",
       "      <td>48640000.0</td>\n",
       "      <td>936660000.0</td>\n",
       "    </tr>\n",
       "  </tbody>\n",
       "</table>\n",
       "</div>"
      ],
      "text/plain": [
       "                       count          mean           std      min         25%  \\\n",
       "Run Time in minutes  10000.0  1.107250e+02  2.205307e+01     45.0       96.00   \n",
       "Movie Rating         10000.0  6.727020e+00  8.212645e-01      4.9        6.10   \n",
       "Votes                10000.0  9.279738e+04  1.716509e+05  10002.0    16851.75   \n",
       "MetaScore             7974.0  5.917143e+01  1.726880e+01      7.0       47.00   \n",
       "Gross                 7085.0  4.017500e+07  6.748658e+07      0.0  2340000.00   \n",
       "\n",
       "                            50%         75%          max  \n",
       "Run Time in minutes       107.0       121.0        439.0  \n",
       "Movie Rating                6.7         7.3          9.3  \n",
       "Votes                   34179.5     91546.0    2804443.0  \n",
       "MetaScore                  60.0        72.0        100.0  \n",
       "Gross                16930000.0  48640000.0  936660000.0  "
      ]
     },
     "execution_count": 145,
     "metadata": {},
     "output_type": "execute_result"
    }
   ],
   "source": [
    "movies_df[['Run Time in minutes', 'Movie Rating', 'Votes', 'MetaScore', 'Gross']].describe().T"
   ]
  },
  {
   "cell_type": "markdown",
   "metadata": {},
   "source": [
    "The average rating for the entire dataset is about 6.7 and the average MetaScore is about 59. \n",
    "\n",
    "The average gross is about $43M. The average number of votes for a movie is about 126,000. \n",
    "\n",
    "The average runtime is about 110 minutes. \n",
    "\n",
    "Let's take a look at descriptive statistics for the character columns:"
   ]
  },
  {
   "cell_type": "code",
   "execution_count": 146,
   "metadata": {},
   "outputs": [
    {
     "data": {
      "text/html": [
       "<div>\n",
       "<style scoped>\n",
       "    .dataframe tbody tr th:only-of-type {\n",
       "        vertical-align: middle;\n",
       "    }\n",
       "\n",
       "    .dataframe tbody tr th {\n",
       "        vertical-align: top;\n",
       "    }\n",
       "\n",
       "    .dataframe thead th {\n",
       "        text-align: right;\n",
       "    }\n",
       "</style>\n",
       "<table border=\"1\" class=\"dataframe\">\n",
       "  <thead>\n",
       "    <tr style=\"text-align: right;\">\n",
       "      <th></th>\n",
       "      <th>count</th>\n",
       "      <th>unique</th>\n",
       "      <th>top</th>\n",
       "      <th>freq</th>\n",
       "    </tr>\n",
       "  </thead>\n",
       "  <tbody>\n",
       "    <tr>\n",
       "      <th>Movie Name</th>\n",
       "      <td>10000</td>\n",
       "      <td>9632</td>\n",
       "      <td>The Mummy</td>\n",
       "      <td>4</td>\n",
       "    </tr>\n",
       "    <tr>\n",
       "      <th>Genre</th>\n",
       "      <td>10000</td>\n",
       "      <td>425</td>\n",
       "      <td>['Comedy', ' Drama', ' Romance']</td>\n",
       "      <td>481</td>\n",
       "    </tr>\n",
       "    <tr>\n",
       "      <th>Certification</th>\n",
       "      <td>9631</td>\n",
       "      <td>24</td>\n",
       "      <td>R</td>\n",
       "      <td>4048</td>\n",
       "    </tr>\n",
       "    <tr>\n",
       "      <th>Director</th>\n",
       "      <td>10000</td>\n",
       "      <td>4162</td>\n",
       "      <td>['Woody Allen']</td>\n",
       "      <td>47</td>\n",
       "    </tr>\n",
       "    <tr>\n",
       "      <th>Stars</th>\n",
       "      <td>10000</td>\n",
       "      <td>9947</td>\n",
       "      <td>['William Shatner', 'Leonard Nimoy', 'DeForest...</td>\n",
       "      <td>6</td>\n",
       "    </tr>\n",
       "  </tbody>\n",
       "</table>\n",
       "</div>"
      ],
      "text/plain": [
       "               count unique  \\\n",
       "Movie Name     10000   9632   \n",
       "Genre          10000    425   \n",
       "Certification   9631     24   \n",
       "Director       10000   4162   \n",
       "Stars          10000   9947   \n",
       "\n",
       "                                                             top  freq  \n",
       "Movie Name                                             The Mummy     4  \n",
       "Genre                           ['Comedy', ' Drama', ' Romance']   481  \n",
       "Certification                                                  R  4048  \n",
       "Director                                         ['Woody Allen']    47  \n",
       "Stars          ['William Shatner', 'Leonard Nimoy', 'DeForest...     6  "
      ]
     },
     "execution_count": 146,
     "metadata": {},
     "output_type": "execute_result"
    }
   ],
   "source": [
    "movies_df[['Movie Name', 'Genre', 'Certification', 'Director', 'Stars']].describe().T"
   ]
  },
  {
   "cell_type": "markdown",
   "metadata": {},
   "source": [
    "Not all movie names are unique. _The Mummy_ appears four times. This is probably due to remakes in later years or sequels to movies with the same title. Before doing the analysis, we will be sure to remove any duplicates. We will also add the year of production to the movie title to ensure that each movie is unique. \n",
    "\n",
    "The top certification among these movies is R.\n",
    "\n",
    "Woody Allen directed 47 movies in the dataset.\n",
    "\n",
    "`Stars` is not either all unique. There are 6 instances of the top stars from a movie all appearing in another movie within the dataset. This can be due to a cast being in multiple movies (for example sequels to movies) and we will make sure to drop any possible duplicate rows. \n",
    "\n",
    "Let's check for any possible duplicate rows:"
   ]
  },
  {
   "cell_type": "code",
   "execution_count": 147,
   "metadata": {},
   "outputs": [
    {
     "data": {
      "text/plain": [
       "True"
      ]
     },
     "execution_count": 147,
     "metadata": {},
     "output_type": "execute_result"
    }
   ],
   "source": [
    "# drop any possible duplicate rows\n",
    "len(movies_df) == len(movies_df.drop_duplicates())"
   ]
  },
  {
   "cell_type": "markdown",
   "metadata": {},
   "source": [
    "There are no duplicate rows (i.e. no film appearing more than once in the dataset).\n",
    "\n",
    "**How many certifications (content ratings) are there in the dataset?**"
   ]
  },
  {
   "cell_type": "code",
   "execution_count": 148,
   "metadata": {},
   "outputs": [
    {
     "name": "stdout",
     "output_type": "stream",
     "text": [
      "There are 25 certifications in the dataset\n"
     ]
    }
   ],
   "source": [
    "print(f\"There are {len(movies_df['Certification'].unique())} certifications in the dataset\")"
   ]
  },
  {
   "cell_type": "markdown",
   "metadata": {},
   "source": [
    "**Which certifications appear the most?**"
   ]
  },
  {
   "cell_type": "code",
   "execution_count": 149,
   "metadata": {},
   "outputs": [
    {
     "data": {
      "image/png": "[encoded data removed]",
      "text/plain": [
       "<Figure size 1000x600 with 1 Axes>"
      ]
     },
     "metadata": {},
     "output_type": "display_data"
    }
   ],
   "source": [
    "# get counts of movie ratings (certification)\n",
    "cert_count = movies_df['Certification'].value_counts().reset_index()\n",
    "\n",
    "# graph\n",
    "fig = plt.figure(figsize=(10,6))\n",
    "\n",
    "sns.barplot(x = 'count', y = 'Certification', data=cert_count)\n",
    "plt.xlabel('Count')\n",
    "plt.title('IMDb Movies per Certification (Content Rating)', fontweight='bold')\n",
    "\n",
    "plt.show()"
   ]
  },
  {
   "cell_type": "markdown",
   "metadata": {},
   "source": [
    "R-rated and PG-13 movies make up more than half the movies in the dataset.\n",
    "\n",
    "**How many combinations of genres are there?**"
   ]
  },
  {
   "cell_type": "code",
   "execution_count": 150,
   "metadata": {},
   "outputs": [
    {
     "name": "stdout",
     "output_type": "stream",
     "text": [
      "There are 425 combinations of genres in the dataset\n"
     ]
    }
   ],
   "source": [
    "print(f\"There are {len(movies_df['Genre'].unique())} combinations of genres in the dataset\")"
   ]
  },
  {
   "cell_type": "markdown",
   "metadata": {},
   "source": [
    "What is the distribution of ratings? MetaScore? Gross revenue?"
   ]
  },
  {
   "cell_type": "code",
   "execution_count": 151,
   "metadata": {},
   "outputs": [
    {
     "data": {
      "image/png": "[encoded data removed]",
      "text/plain": [
       "<Figure size 2000x400 with 3 Axes>"
      ]
     },
     "metadata": {},
     "output_type": "display_data"
    }
   ],
   "source": [
    "fig, ax = plt.subplots(ncols=3, nrows=1, figsize=(20,4))\n",
    "\n",
    "ax[0].hist(x = movies_df['Movie Rating'], bins=15)\n",
    "ax[0].ticklabel_format(style='plain', axis='both')\n",
    "ax[0].set_title('Distribution of Rating for IMDb Movies', fontweight='bold')\n",
    "ax[0].set_xlabel('Rating')\n",
    "ax[0].set_ylabel('Count')\n",
    "\n",
    "ax[1].hist(x = movies_df['MetaScore'], bins=15)\n",
    "ax[1].ticklabel_format(style='plain', axis='both')\n",
    "ax[1].set_title('Distribution of MetaScore for IMDb Movies', fontweight='bold')\n",
    "ax[1].set_xlabel('MetaScore')\n",
    "ax[1].set_ylabel('Count')\n",
    "\n",
    "ax[2].hist(x = movies_df['Gross'], bins=30)\n",
    "ax[2].ticklabel_format(style='plain', axis='both')\n",
    "ax[2].set_title('Distribution of Gross Revenue for IMDb Movies', fontweight='bold')\n",
    "ax[2].set_xlabel('Gross Revenue ($)')\n",
    "ax[2].set_ylabel('Count')\n",
    "\n",
    "plt.show()"
   ]
  },
  {
   "cell_type": "markdown",
   "metadata": {},
   "source": [
    "Ratings and MetaScores seem to be relatively normally distributed. Gross revenue has a severe right skew. \n",
    "\n",
    "What are the top movies in the dataset?\n",
    "\n",
    "Let's find the top 10 movies by various methods - highest rated, highest metascore, highest gross, highest voted."
   ]
  },
  {
   "cell_type": "code",
   "execution_count": 152,
   "metadata": {},
   "outputs": [
    {
     "data": {
      "image/png": "[encoded data removed]",
      "text/plain": [
       "<Figure size 2000x500 with 1 Axes>"
      ]
     },
     "metadata": {},
     "output_type": "display_data"
    }
   ],
   "source": [
    "# top rated\n",
    "top_rated = movies_df.sort_values('Movie Rating', ascending = False)\n",
    "\n",
    "fig=plt.figure(figsize=(20,5))\n",
    "\n",
    "plt.bar(x=top_rated['Movie Name'][:10], height=top_rated['Movie Rating'][:10])\n",
    "plt.xticks(size=5.5)\n",
    "plt.title('IMDb Highest Rated Movies', fontweight='bold')\n",
    "plt.ylabel('Rating')\n",
    "\n",
    "plt.show()"
   ]
  },
  {
   "cell_type": "code",
   "execution_count": 153,
   "metadata": {},
   "outputs": [
    {
     "data": {
      "image/png": "[encoded data removed]",
      "text/plain": [
       "<Figure size 2000x500 with 1 Axes>"
      ]
     },
     "metadata": {},
     "output_type": "display_data"
    }
   ],
   "source": [
    "# top metascore\n",
    "top_meta = movies_df.sort_values('MetaScore', ascending = False)\n",
    "\n",
    "fig=plt.figure(figsize=(20,5))\n",
    "\n",
    "plt.bar(x=top_meta['Movie Name'][:10], height=top_meta['MetaScore'][:10])\n",
    "plt.xticks(size=5.5)\n",
    "plt.title('IMDb Highest MetaScore Movies', fontweight='bold')\n",
    "plt.ylabel('MetaScore')\n",
    "\n",
    "plt.show()"
   ]
  },
  {
   "cell_type": "code",
   "execution_count": 154,
   "metadata": {},
   "outputs": [
    {
     "data": {
      "image/png": "[encoded data removed]",
      "text/plain": [
       "<Figure size 2000x500 with 1 Axes>"
      ]
     },
     "metadata": {},
     "output_type": "display_data"
    }
   ],
   "source": [
    "# highest gross\n",
    "top_gross = movies_df.sort_values('Gross', ascending = False)\n",
    "\n",
    "fig=plt.figure(figsize=(20,5))\n",
    "\n",
    "plt.bar(x=top_gross['Movie Name'][:10], height=top_gross['Gross'][:10])\n",
    "plt.xticks(size=5.5)\n",
    "plt.title('IMDb Highest Grossing Movies', fontweight='bold')\n",
    "plt.ylabel('Gross ($)')\n",
    "\n",
    "plt.show()"
   ]
  },
  {
   "cell_type": "code",
   "execution_count": 155,
   "metadata": {},
   "outputs": [
    {
     "data": {
      "image/png": "[encoded data removed]",
      "text/plain": [
       "<Figure size 2000x500 with 1 Axes>"
      ]
     },
     "metadata": {},
     "output_type": "display_data"
    }
   ],
   "source": [
    "# top voted\n",
    "top_voted = movies_df.sort_values('Votes', ascending = False)\n",
    "\n",
    "fig=plt.figure(figsize=(20,5))\n",
    "\n",
    "plt.bar(x=top_voted['Movie Name'][:10], height=top_voted['Votes'][:10])\n",
    "plt.xticks(size=5.5)\n",
    "plt.title('IMDb Most Voted Movies', fontweight='bold')\n",
    "plt.ylabel('Rating')\n",
    "\n",
    "plt.show()"
   ]
  },
  {
   "cell_type": "code",
   "execution_count": 156,
   "metadata": {},
   "outputs": [
    {
     "data": {
      "image/png": "[encoded data removed]",
      "text/plain": [
       "<Figure size 2000x500 with 1 Axes>"
      ]
     },
     "metadata": {},
     "output_type": "display_data"
    }
   ],
   "source": [
    "# gross of highest rated movies\n",
    "top_rated = movies_df.sort_values('Movie Rating', ascending = False)\n",
    "\n",
    "fig=plt.figure(figsize=(20,5))\n",
    "\n",
    "plt.bar(x=top_rated['Movie Name'][:10], height=top_rated['Gross'][:10])\n",
    "plt.xticks(size=5.5)\n",
    "plt.title('Movie Gross for Top 10 Rated IMDb Movies', fontweight='bold')\n",
    "plt.ylabel('Gross')\n",
    "\n",
    "plt.show()"
   ]
  },
  {
   "cell_type": "markdown",
   "metadata": {},
   "source": [
    "The top rated movies in the dataset do not necessarily have the highest grosses. "
   ]
  },
  {
   "cell_type": "code",
   "execution_count": 157,
   "metadata": {},
   "outputs": [
    {
     "data": {
      "image/png": "[encoded data removed]",
      "text/plain": [
       "<Figure size 2000x500 with 1 Axes>"
      ]
     },
     "metadata": {},
     "output_type": "display_data"
    }
   ],
   "source": [
    "# vote count for highest rated movies\n",
    "top_rated = movies_df.sort_values('Movie Rating', ascending = False)\n",
    "\n",
    "fig=plt.figure(figsize=(20,5))\n",
    "\n",
    "plt.bar(x=top_rated['Movie Name'][:10], height=top_rated['Votes'][:10])\n",
    "plt.xticks(size=5.5)\n",
    "plt.title('Votes for Top 10 Rated IMDb Movies', fontweight='bold')\n",
    "plt.ylabel('Votes')\n",
    "\n",
    "plt.show()"
   ]
  },
  {
   "cell_type": "markdown",
   "metadata": {},
   "source": [
    "Some of the top rated movies have less than half the amount of votes of others. This may lead to an unfair advantage for these movies which allow them to appear in the \"Top Rated\" category. \n",
    "\n",
    "We will need to come up with a metric for an average rating based on the IMDb rating and the number of votes for that movie. "
   ]
  },
  {
   "cell_type": "code",
   "execution_count": 158,
   "metadata": {},
   "outputs": [
    {
     "data": {
      "image/png": "[encoded data removed]",
      "text/plain": [
       "<Figure size 2000x500 with 1 Axes>"
      ]
     },
     "metadata": {},
     "output_type": "display_data"
    }
   ],
   "source": [
    "# ratings of highest grossing movies\n",
    "top_gross = movies_df.sort_values('Gross', ascending = False)\n",
    "\n",
    "fig=plt.figure(figsize=(20,5))\n",
    "\n",
    "plt.bar(x=top_gross['Movie Name'][:10], height=top_gross['Movie Rating'][:10])\n",
    "plt.xticks(size=5.5)\n",
    "plt.title('Ratings for Top 10 Highest Grossing IMDb Movies', fontweight='bold')\n",
    "plt.ylabel('Rating')\n",
    "\n",
    "plt.show()"
   ]
  },
  {
   "cell_type": "markdown",
   "metadata": {},
   "source": [
    "The ratings for the highest grossing movies are all quite high and all well above the average rating of 6.7."
   ]
  },
  {
   "cell_type": "markdown",
   "metadata": {},
   "source": [
    "### Data Wrangling\n",
    "\n",
    "First, let's clean up some of the columns in the dataset. Specifically, the `Genre`, `Stars`, `Director`, and `Description` columns are all in the form of lists, but do not perform as such. We will turn the entries of these columns into lists for easier manipulation later on. Let's also rename the `Run Time in minutes` column."
   ]
  },
  {
   "cell_type": "code",
   "execution_count": 159,
   "metadata": {},
   "outputs": [
    {
     "data": {
      "text/html": [
       "<div>\n",
       "<style scoped>\n",
       "    .dataframe tbody tr th:only-of-type {\n",
       "        vertical-align: middle;\n",
       "    }\n",
       "\n",
       "    .dataframe tbody tr th {\n",
       "        vertical-align: top;\n",
       "    }\n",
       "\n",
       "    .dataframe thead th {\n",
       "        text-align: right;\n",
       "    }\n",
       "</style>\n",
       "<table border=\"1\" class=\"dataframe\">\n",
       "  <thead>\n",
       "    <tr style=\"text-align: right;\">\n",
       "      <th></th>\n",
       "      <th>Movie Name</th>\n",
       "      <th>Year of Release</th>\n",
       "      <th>Runtime Mins</th>\n",
       "      <th>Movie Rating</th>\n",
       "      <th>Votes</th>\n",
       "      <th>MetaScore</th>\n",
       "      <th>Gross</th>\n",
       "      <th>Genre</th>\n",
       "      <th>Certification</th>\n",
       "      <th>Director</th>\n",
       "      <th>Stars</th>\n",
       "      <th>Description</th>\n",
       "    </tr>\n",
       "  </thead>\n",
       "  <tbody>\n",
       "    <tr>\n",
       "      <th>0</th>\n",
       "      <td>The Shawshank Redemption</td>\n",
       "      <td>1994</td>\n",
       "      <td>142</td>\n",
       "      <td>9.3</td>\n",
       "      <td>2804443</td>\n",
       "      <td>82.0</td>\n",
       "      <td>28340000.0</td>\n",
       "      <td>[DRAMA]</td>\n",
       "      <td>R</td>\n",
       "      <td>[Frank Darabont]</td>\n",
       "      <td>[Tim Robbins,  Morgan Freeman,  Bob Gunton,  W...</td>\n",
       "      <td>[Over,  the,  course,  of,  several,  years, ,...</td>\n",
       "    </tr>\n",
       "    <tr>\n",
       "      <th>1</th>\n",
       "      <td>The Godfather</td>\n",
       "      <td>1972</td>\n",
       "      <td>175</td>\n",
       "      <td>9.2</td>\n",
       "      <td>1954174</td>\n",
       "      <td>100.0</td>\n",
       "      <td>134970000.0</td>\n",
       "      <td>[CRIME, DRAMA]</td>\n",
       "      <td>R</td>\n",
       "      <td>[Francis Ford Coppola]</td>\n",
       "      <td>[Marlon Brando,  Al Pacino,  James Caan,  Dian...</td>\n",
       "      <td>[Don,  Vito,  Corleone, ,  head,  of,  a,  maf...</td>\n",
       "    </tr>\n",
       "    <tr>\n",
       "      <th>2</th>\n",
       "      <td>Ramayana: The Legend of Prince Rama</td>\n",
       "      <td>1993</td>\n",
       "      <td>135</td>\n",
       "      <td>9.2</td>\n",
       "      <td>12995</td>\n",
       "      <td>NaN</td>\n",
       "      <td>NaN</td>\n",
       "      <td>[ANIMATION, ACTION, ADVENTURE]</td>\n",
       "      <td>PG</td>\n",
       "      <td>[Ram Mohan,  Yûgô Sakô,  Koichi Saski]</td>\n",
       "      <td>[Arun Govil,  Nikhil Kapoor,  Edie Mirman,  Ra...</td>\n",
       "      <td>[An,  anime,  adaptation,  of,  the,  Hindu,  ...</td>\n",
       "    </tr>\n",
       "    <tr>\n",
       "      <th>3</th>\n",
       "      <td>The Chaos Class</td>\n",
       "      <td>1975</td>\n",
       "      <td>87</td>\n",
       "      <td>9.2</td>\n",
       "      <td>42231</td>\n",
       "      <td>NaN</td>\n",
       "      <td>NaN</td>\n",
       "      <td>[COMEDY, DRAMA]</td>\n",
       "      <td>NaN</td>\n",
       "      <td>[Ertem Egilmez]</td>\n",
       "      <td>[Kemal Sunal,  Münir Özkul,  Halit Akçatepe,  ...</td>\n",
       "      <td>[Lazy, ,  uneducated,  students,  share,  a,  ...</td>\n",
       "    </tr>\n",
       "    <tr>\n",
       "      <th>4</th>\n",
       "      <td>The Dark Knight</td>\n",
       "      <td>2008</td>\n",
       "      <td>152</td>\n",
       "      <td>9.0</td>\n",
       "      <td>2786129</td>\n",
       "      <td>84.0</td>\n",
       "      <td>534860000.0</td>\n",
       "      <td>[ACTION, CRIME, DRAMA]</td>\n",
       "      <td>PG-13</td>\n",
       "      <td>[Christopher Nolan]</td>\n",
       "      <td>[Christian Bale,  Heath Ledger,  Aaron Eckhart...</td>\n",
       "      <td>[When,  the,  menace,  known,  as,  the,  Joke...</td>\n",
       "    </tr>\n",
       "  </tbody>\n",
       "</table>\n",
       "</div>"
      ],
      "text/plain": [
       "                            Movie Name  Year of Release  Runtime Mins  \\\n",
       "0             The Shawshank Redemption             1994           142   \n",
       "1                        The Godfather             1972           175   \n",
       "2  Ramayana: The Legend of Prince Rama             1993           135   \n",
       "3                      The Chaos Class             1975            87   \n",
       "4                      The Dark Knight             2008           152   \n",
       "\n",
       "   Movie Rating    Votes  MetaScore        Gross  \\\n",
       "0           9.3  2804443       82.0   28340000.0   \n",
       "1           9.2  1954174      100.0  134970000.0   \n",
       "2           9.2    12995        NaN          NaN   \n",
       "3           9.2    42231        NaN          NaN   \n",
       "4           9.0  2786129       84.0  534860000.0   \n",
       "\n",
       "                            Genre Certification  \\\n",
       "0                         [DRAMA]             R   \n",
       "1                  [CRIME, DRAMA]             R   \n",
       "2  [ANIMATION, ACTION, ADVENTURE]            PG   \n",
       "3                 [COMEDY, DRAMA]           NaN   \n",
       "4          [ACTION, CRIME, DRAMA]         PG-13   \n",
       "\n",
       "                                 Director  \\\n",
       "0                        [Frank Darabont]   \n",
       "1                  [Francis Ford Coppola]   \n",
       "2  [Ram Mohan,  Yûgô Sakô,  Koichi Saski]   \n",
       "3                         [Ertem Egilmez]   \n",
       "4                     [Christopher Nolan]   \n",
       "\n",
       "                                               Stars  \\\n",
       "0  [Tim Robbins,  Morgan Freeman,  Bob Gunton,  W...   \n",
       "1  [Marlon Brando,  Al Pacino,  James Caan,  Dian...   \n",
       "2  [Arun Govil,  Nikhil Kapoor,  Edie Mirman,  Ra...   \n",
       "3  [Kemal Sunal,  Münir Özkul,  Halit Akçatepe,  ...   \n",
       "4  [Christian Bale,  Heath Ledger,  Aaron Eckhart...   \n",
       "\n",
       "                                         Description  \n",
       "0  [Over,  the,  course,  of,  several,  years, ,...  \n",
       "1  [Don,  Vito,  Corleone, ,  head,  of,  a,  maf...  \n",
       "2  [An,  anime,  adaptation,  of,  the,  Hindu,  ...  \n",
       "3  [Lazy, ,  uneducated,  students,  share,  a,  ...  \n",
       "4  [When,  the,  menace,  known,  as,  the,  Joke...  "
      ]
     },
     "execution_count": 159,
     "metadata": {},
     "output_type": "execute_result"
    }
   ],
   "source": [
    "# turn genre column into list\n",
    "movies_df['Genre'] = movies_df['Genre'].apply(lambda x: x.strip('(\\[|\\]|\\s*)').upper().replace(' ', '').replace(\"'\", '').split(','))\n",
    "\n",
    "# function to turn column into list\n",
    "def convert_to_list(str_list):\n",
    "    cleaned = re.sub(\"'\", '', str_list)\n",
    "    return cleaned.strip('(\\[|\\]|)').split(',')    # remove brackets and split on comma\n",
    "\n",
    "# turn rest of list-like columns into lists\n",
    "movies_df['Director'] = movies_df['Director'].apply(convert_to_list)\n",
    "movies_df['Stars'] = movies_df['Stars'].apply(convert_to_list)\n",
    "movies_df['Description'] = movies_df['Description'].apply(convert_to_list)\n",
    "\n",
    "# rename Run Time in minutes\n",
    "movies_df.rename({'Run Time in minutes': 'Runtime Mins'}, axis=1, inplace=True)\n",
    "\n",
    "movies_df.head()"
   ]
  },
  {
   "cell_type": "code",
   "execution_count": 160,
   "metadata": {},
   "outputs": [
    {
     "data": {
      "text/html": [
       "<div>\n",
       "<style scoped>\n",
       "    .dataframe tbody tr th:only-of-type {\n",
       "        vertical-align: middle;\n",
       "    }\n",
       "\n",
       "    .dataframe tbody tr th {\n",
       "        vertical-align: top;\n",
       "    }\n",
       "\n",
       "    .dataframe thead th {\n",
       "        text-align: right;\n",
       "    }\n",
       "</style>\n",
       "<table border=\"1\" class=\"dataframe\">\n",
       "  <thead>\n",
       "    <tr style=\"text-align: right;\">\n",
       "      <th></th>\n",
       "      <th>Movie Name</th>\n",
       "      <th>Year of Release</th>\n",
       "      <th>Runtime Mins</th>\n",
       "      <th>Movie Rating</th>\n",
       "      <th>Votes</th>\n",
       "      <th>MetaScore</th>\n",
       "      <th>Gross</th>\n",
       "      <th>Genre</th>\n",
       "      <th>Certification</th>\n",
       "      <th>Director</th>\n",
       "      <th>Stars</th>\n",
       "      <th>Description</th>\n",
       "    </tr>\n",
       "  </thead>\n",
       "  <tbody>\n",
       "    <tr>\n",
       "      <th>0</th>\n",
       "      <td>The Shawshank Redemption</td>\n",
       "      <td>1994</td>\n",
       "      <td>142</td>\n",
       "      <td>9.3</td>\n",
       "      <td>2804443</td>\n",
       "      <td>82.0</td>\n",
       "      <td>28340000.0</td>\n",
       "      <td>[DRAMA]</td>\n",
       "      <td>R</td>\n",
       "      <td>[Frank Darabont]</td>\n",
       "      <td>[Tim Robbins,  Morgan Freeman,  Bob Gunton,  W...</td>\n",
       "      <td>over  the  course  of  several  years   two  c...</td>\n",
       "    </tr>\n",
       "    <tr>\n",
       "      <th>1</th>\n",
       "      <td>The Godfather</td>\n",
       "      <td>1972</td>\n",
       "      <td>175</td>\n",
       "      <td>9.2</td>\n",
       "      <td>1954174</td>\n",
       "      <td>100.0</td>\n",
       "      <td>134970000.0</td>\n",
       "      <td>[CRIME, DRAMA]</td>\n",
       "      <td>R</td>\n",
       "      <td>[Francis Ford Coppola]</td>\n",
       "      <td>[Marlon Brando,  Al Pacino,  James Caan,  Dian...</td>\n",
       "      <td>don  vito  corleone   head  of  a  mafia  fami...</td>\n",
       "    </tr>\n",
       "    <tr>\n",
       "      <th>2</th>\n",
       "      <td>Ramayana: The Legend of Prince Rama</td>\n",
       "      <td>1993</td>\n",
       "      <td>135</td>\n",
       "      <td>9.2</td>\n",
       "      <td>12995</td>\n",
       "      <td>NaN</td>\n",
       "      <td>NaN</td>\n",
       "      <td>[ANIMATION, ACTION, ADVENTURE]</td>\n",
       "      <td>PG</td>\n",
       "      <td>[Ram Mohan,  Yûgô Sakô,  Koichi Saski]</td>\n",
       "      <td>[Arun Govil,  Nikhil Kapoor,  Edie Mirman,  Ra...</td>\n",
       "      <td>an  anime  adaptation  of  the  hindu  epic  t...</td>\n",
       "    </tr>\n",
       "    <tr>\n",
       "      <th>3</th>\n",
       "      <td>The Chaos Class</td>\n",
       "      <td>1975</td>\n",
       "      <td>87</td>\n",
       "      <td>9.2</td>\n",
       "      <td>42231</td>\n",
       "      <td>NaN</td>\n",
       "      <td>NaN</td>\n",
       "      <td>[COMEDY, DRAMA]</td>\n",
       "      <td>NaN</td>\n",
       "      <td>[Ertem Egilmez]</td>\n",
       "      <td>[Kemal Sunal,  Münir Özkul,  Halit Akçatepe,  ...</td>\n",
       "      <td>lazy   uneducated  students  share  a  very  c...</td>\n",
       "    </tr>\n",
       "    <tr>\n",
       "      <th>4</th>\n",
       "      <td>The Dark Knight</td>\n",
       "      <td>2008</td>\n",
       "      <td>152</td>\n",
       "      <td>9.0</td>\n",
       "      <td>2786129</td>\n",
       "      <td>84.0</td>\n",
       "      <td>534860000.0</td>\n",
       "      <td>[ACTION, CRIME, DRAMA]</td>\n",
       "      <td>PG-13</td>\n",
       "      <td>[Christopher Nolan]</td>\n",
       "      <td>[Christian Bale,  Heath Ledger,  Aaron Eckhart...</td>\n",
       "      <td>when  the  menace  known  as  the  joker  wrea...</td>\n",
       "    </tr>\n",
       "  </tbody>\n",
       "</table>\n",
       "</div>"
      ],
      "text/plain": [
       "                            Movie Name  Year of Release  Runtime Mins  \\\n",
       "0             The Shawshank Redemption             1994           142   \n",
       "1                        The Godfather             1972           175   \n",
       "2  Ramayana: The Legend of Prince Rama             1993           135   \n",
       "3                      The Chaos Class             1975            87   \n",
       "4                      The Dark Knight             2008           152   \n",
       "\n",
       "   Movie Rating    Votes  MetaScore        Gross  \\\n",
       "0           9.3  2804443       82.0   28340000.0   \n",
       "1           9.2  1954174      100.0  134970000.0   \n",
       "2           9.2    12995        NaN          NaN   \n",
       "3           9.2    42231        NaN          NaN   \n",
       "4           9.0  2786129       84.0  534860000.0   \n",
       "\n",
       "                            Genre Certification  \\\n",
       "0                         [DRAMA]             R   \n",
       "1                  [CRIME, DRAMA]             R   \n",
       "2  [ANIMATION, ACTION, ADVENTURE]            PG   \n",
       "3                 [COMEDY, DRAMA]           NaN   \n",
       "4          [ACTION, CRIME, DRAMA]         PG-13   \n",
       "\n",
       "                                 Director  \\\n",
       "0                        [Frank Darabont]   \n",
       "1                  [Francis Ford Coppola]   \n",
       "2  [Ram Mohan,  Yûgô Sakô,  Koichi Saski]   \n",
       "3                         [Ertem Egilmez]   \n",
       "4                     [Christopher Nolan]   \n",
       "\n",
       "                                               Stars  \\\n",
       "0  [Tim Robbins,  Morgan Freeman,  Bob Gunton,  W...   \n",
       "1  [Marlon Brando,  Al Pacino,  James Caan,  Dian...   \n",
       "2  [Arun Govil,  Nikhil Kapoor,  Edie Mirman,  Ra...   \n",
       "3  [Kemal Sunal,  Münir Özkul,  Halit Akçatepe,  ...   \n",
       "4  [Christian Bale,  Heath Ledger,  Aaron Eckhart...   \n",
       "\n",
       "                                         Description  \n",
       "0  over  the  course  of  several  years   two  c...  \n",
       "1  don  vito  corleone   head  of  a  mafia  fami...  \n",
       "2  an  anime  adaptation  of  the  hindu  epic  t...  \n",
       "3  lazy   uneducated  students  share  a  very  c...  \n",
       "4  when  the  menace  known  as  the  joker  wrea...  "
      ]
     },
     "execution_count": 160,
     "metadata": {},
     "output_type": "execute_result"
    }
   ],
   "source": [
    "# join description into string and remove all special characters\n",
    "movies_df['Description'] = movies_df['Description'].apply(lambda x: ' '.join(x).lower())\n",
    "movies_df.head()"
   ]
  },
  {
   "cell_type": "markdown",
   "metadata": {},
   "source": [
    "Since there are some movies with the same titles (movies with a sequel of the same name or with a remake in another year), let's add the release year into the title for each movie."
   ]
  },
  {
   "cell_type": "code",
   "execution_count": 161,
   "metadata": {},
   "outputs": [
    {
     "data": {
      "text/html": [
       "<div>\n",
       "<style scoped>\n",
       "    .dataframe tbody tr th:only-of-type {\n",
       "        vertical-align: middle;\n",
       "    }\n",
       "\n",
       "    .dataframe tbody tr th {\n",
       "        vertical-align: top;\n",
       "    }\n",
       "\n",
       "    .dataframe thead th {\n",
       "        text-align: right;\n",
       "    }\n",
       "</style>\n",
       "<table border=\"1\" class=\"dataframe\">\n",
       "  <thead>\n",
       "    <tr style=\"text-align: right;\">\n",
       "      <th></th>\n",
       "      <th>Movie Name</th>\n",
       "      <th>Year of Release</th>\n",
       "      <th>Runtime Mins</th>\n",
       "      <th>Movie Rating</th>\n",
       "      <th>Votes</th>\n",
       "      <th>MetaScore</th>\n",
       "      <th>Gross</th>\n",
       "      <th>Genre</th>\n",
       "      <th>Certification</th>\n",
       "      <th>Director</th>\n",
       "      <th>Stars</th>\n",
       "      <th>Description</th>\n",
       "    </tr>\n",
       "  </thead>\n",
       "  <tbody>\n",
       "    <tr>\n",
       "      <th>0</th>\n",
       "      <td>The Shawshank Redemption (1994)</td>\n",
       "      <td>1994</td>\n",
       "      <td>142</td>\n",
       "      <td>9.3</td>\n",
       "      <td>2804443</td>\n",
       "      <td>82.0</td>\n",
       "      <td>28340000.0</td>\n",
       "      <td>[DRAMA]</td>\n",
       "      <td>R</td>\n",
       "      <td>[Frank Darabont]</td>\n",
       "      <td>[Tim Robbins,  Morgan Freeman,  Bob Gunton,  W...</td>\n",
       "      <td>over  the  course  of  several  years   two  c...</td>\n",
       "    </tr>\n",
       "    <tr>\n",
       "      <th>1</th>\n",
       "      <td>The Godfather (1972)</td>\n",
       "      <td>1972</td>\n",
       "      <td>175</td>\n",
       "      <td>9.2</td>\n",
       "      <td>1954174</td>\n",
       "      <td>100.0</td>\n",
       "      <td>134970000.0</td>\n",
       "      <td>[CRIME, DRAMA]</td>\n",
       "      <td>R</td>\n",
       "      <td>[Francis Ford Coppola]</td>\n",
       "      <td>[Marlon Brando,  Al Pacino,  James Caan,  Dian...</td>\n",
       "      <td>don  vito  corleone   head  of  a  mafia  fami...</td>\n",
       "    </tr>\n",
       "    <tr>\n",
       "      <th>2</th>\n",
       "      <td>Ramayana: The Legend of Prince Rama (1993)</td>\n",
       "      <td>1993</td>\n",
       "      <td>135</td>\n",
       "      <td>9.2</td>\n",
       "      <td>12995</td>\n",
       "      <td>NaN</td>\n",
       "      <td>NaN</td>\n",
       "      <td>[ANIMATION, ACTION, ADVENTURE]</td>\n",
       "      <td>PG</td>\n",
       "      <td>[Ram Mohan,  Yûgô Sakô,  Koichi Saski]</td>\n",
       "      <td>[Arun Govil,  Nikhil Kapoor,  Edie Mirman,  Ra...</td>\n",
       "      <td>an  anime  adaptation  of  the  hindu  epic  t...</td>\n",
       "    </tr>\n",
       "    <tr>\n",
       "      <th>3</th>\n",
       "      <td>The Chaos Class (1975)</td>\n",
       "      <td>1975</td>\n",
       "      <td>87</td>\n",
       "      <td>9.2</td>\n",
       "      <td>42231</td>\n",
       "      <td>NaN</td>\n",
       "      <td>NaN</td>\n",
       "      <td>[COMEDY, DRAMA]</td>\n",
       "      <td>NaN</td>\n",
       "      <td>[Ertem Egilmez]</td>\n",
       "      <td>[Kemal Sunal,  Münir Özkul,  Halit Akçatepe,  ...</td>\n",
       "      <td>lazy   uneducated  students  share  a  very  c...</td>\n",
       "    </tr>\n",
       "    <tr>\n",
       "      <th>4</th>\n",
       "      <td>The Dark Knight (2008)</td>\n",
       "      <td>2008</td>\n",
       "      <td>152</td>\n",
       "      <td>9.0</td>\n",
       "      <td>2786129</td>\n",
       "      <td>84.0</td>\n",
       "      <td>534860000.0</td>\n",
       "      <td>[ACTION, CRIME, DRAMA]</td>\n",
       "      <td>PG-13</td>\n",
       "      <td>[Christopher Nolan]</td>\n",
       "      <td>[Christian Bale,  Heath Ledger,  Aaron Eckhart...</td>\n",
       "      <td>when  the  menace  known  as  the  joker  wrea...</td>\n",
       "    </tr>\n",
       "  </tbody>\n",
       "</table>\n",
       "</div>"
      ],
      "text/plain": [
       "                                   Movie Name  Year of Release  Runtime Mins  \\\n",
       "0             The Shawshank Redemption (1994)             1994           142   \n",
       "1                        The Godfather (1972)             1972           175   \n",
       "2  Ramayana: The Legend of Prince Rama (1993)             1993           135   \n",
       "3                      The Chaos Class (1975)             1975            87   \n",
       "4                      The Dark Knight (2008)             2008           152   \n",
       "\n",
       "   Movie Rating    Votes  MetaScore        Gross  \\\n",
       "0           9.3  2804443       82.0   28340000.0   \n",
       "1           9.2  1954174      100.0  134970000.0   \n",
       "2           9.2    12995        NaN          NaN   \n",
       "3           9.2    42231        NaN          NaN   \n",
       "4           9.0  2786129       84.0  534860000.0   \n",
       "\n",
       "                            Genre Certification  \\\n",
       "0                         [DRAMA]             R   \n",
       "1                  [CRIME, DRAMA]             R   \n",
       "2  [ANIMATION, ACTION, ADVENTURE]            PG   \n",
       "3                 [COMEDY, DRAMA]           NaN   \n",
       "4          [ACTION, CRIME, DRAMA]         PG-13   \n",
       "\n",
       "                                 Director  \\\n",
       "0                        [Frank Darabont]   \n",
       "1                  [Francis Ford Coppola]   \n",
       "2  [Ram Mohan,  Yûgô Sakô,  Koichi Saski]   \n",
       "3                         [Ertem Egilmez]   \n",
       "4                     [Christopher Nolan]   \n",
       "\n",
       "                                               Stars  \\\n",
       "0  [Tim Robbins,  Morgan Freeman,  Bob Gunton,  W...   \n",
       "1  [Marlon Brando,  Al Pacino,  James Caan,  Dian...   \n",
       "2  [Arun Govil,  Nikhil Kapoor,  Edie Mirman,  Ra...   \n",
       "3  [Kemal Sunal,  Münir Özkul,  Halit Akçatepe,  ...   \n",
       "4  [Christian Bale,  Heath Ledger,  Aaron Eckhart...   \n",
       "\n",
       "                                         Description  \n",
       "0  over  the  course  of  several  years   two  c...  \n",
       "1  don  vito  corleone   head  of  a  mafia  fami...  \n",
       "2  an  anime  adaptation  of  the  hindu  epic  t...  \n",
       "3  lazy   uneducated  students  share  a  very  c...  \n",
       "4  when  the  menace  known  as  the  joker  wrea...  "
      ]
     },
     "execution_count": 161,
     "metadata": {},
     "output_type": "execute_result"
    }
   ],
   "source": [
    "# combine movie title and year into one column\n",
    "movies_df['Movie Name'] = movies_df['Movie Name'] + ' (' + movies_df['Year of Release'].astype(str) +')'\n",
    "movies_df.head()"
   ]
  },
  {
   "cell_type": "markdown",
   "metadata": {},
   "source": [
    "For any certification that is null, let's fill with \"Not Rated.\""
   ]
  },
  {
   "cell_type": "code",
   "execution_count": 162,
   "metadata": {},
   "outputs": [],
   "source": [
    "movies_df['Certification'].fillna('Not Rated', inplace=True)"
   ]
  },
  {
   "cell_type": "markdown",
   "metadata": {},
   "source": [
    "Let's drop any other rows with missing values. "
   ]
  },
  {
   "cell_type": "code",
   "execution_count": 163,
   "metadata": {},
   "outputs": [
    {
     "data": {
      "text/plain": [
       "(6480, 12)"
      ]
     },
     "execution_count": 163,
     "metadata": {},
     "output_type": "execute_result"
    }
   ],
   "source": [
    "movies_df.dropna(inplace=True)\n",
    "\n",
    "movies_df.shape"
   ]
  },
  {
   "cell_type": "markdown",
   "metadata": {},
   "source": [
    "There are now 6,480 rows in the dataset remaining. "
   ]
  },
  {
   "cell_type": "code",
   "execution_count": 164,
   "metadata": {},
   "outputs": [
    {
     "data": {
      "text/plain": [
       "0"
      ]
     },
     "execution_count": 164,
     "metadata": {},
     "output_type": "execute_result"
    }
   ],
   "source": [
    "movies_df.isnull().sum().sum()"
   ]
  },
  {
   "cell_type": "markdown",
   "metadata": {},
   "source": [
    "There are no more null values in the dataset."
   ]
  },
  {
   "cell_type": "markdown",
   "metadata": {},
   "source": [
    "For each movie, let's extract the main genre (the first appearing), the number of directors, the main director, the number of stars, and the main stars."
   ]
  },
  {
   "cell_type": "code",
   "execution_count": 165,
   "metadata": {},
   "outputs": [],
   "source": [
    "movies_df['Main Genre'] = movies_df['Genre'].apply(lambda x: x[0])  # extract first genre as main genre\n",
    "movies_df['Num Directors'] = movies_df['Director'].apply(lambda x: len(x))   # the number of directors\n",
    "movies_df['Main Director'] = movies_df['Director'].apply(lambda x: x[0])  # extract first director\n",
    "movies_df['Num Stars'] = movies_df['Stars'].apply(lambda x: len(x))   # the number of stars\n",
    "movies_df['Star One'] = movies_df['Stars'].apply(lambda x: x[0])   # main star 1\n",
    "movies_df['Star Two'] = movies_df['Stars'].apply(lambda x: x[1] if len(x) > 1 else 'Unknown')   # main star 2\n",
    "movies_df['Star Three'] = movies_df['Stars'].apply(lambda x: x[2] if len(x) > 2 else 'Unknown')   # main star 2"
   ]
  },
  {
   "cell_type": "code",
   "execution_count": 166,
   "metadata": {},
   "outputs": [
    {
     "data": {
      "text/html": [
       "<div>\n",
       "<style scoped>\n",
       "    .dataframe tbody tr th:only-of-type {\n",
       "        vertical-align: middle;\n",
       "    }\n",
       "\n",
       "    .dataframe tbody tr th {\n",
       "        vertical-align: top;\n",
       "    }\n",
       "\n",
       "    .dataframe thead th {\n",
       "        text-align: right;\n",
       "    }\n",
       "</style>\n",
       "<table border=\"1\" class=\"dataframe\">\n",
       "  <thead>\n",
       "    <tr style=\"text-align: right;\">\n",
       "      <th></th>\n",
       "      <th>Movie Name</th>\n",
       "      <th>Year of Release</th>\n",
       "      <th>Runtime Mins</th>\n",
       "      <th>Movie Rating</th>\n",
       "      <th>Votes</th>\n",
       "      <th>MetaScore</th>\n",
       "      <th>Gross</th>\n",
       "      <th>Genre</th>\n",
       "      <th>Certification</th>\n",
       "      <th>Director</th>\n",
       "      <th>Stars</th>\n",
       "      <th>Description</th>\n",
       "      <th>Main Genre</th>\n",
       "      <th>Num Directors</th>\n",
       "      <th>Main Director</th>\n",
       "      <th>Num Stars</th>\n",
       "      <th>Star One</th>\n",
       "      <th>Star Two</th>\n",
       "      <th>Star Three</th>\n",
       "    </tr>\n",
       "  </thead>\n",
       "  <tbody>\n",
       "    <tr>\n",
       "      <th>0</th>\n",
       "      <td>The Shawshank Redemption (1994)</td>\n",
       "      <td>1994</td>\n",
       "      <td>142</td>\n",
       "      <td>9.3</td>\n",
       "      <td>2804443</td>\n",
       "      <td>82.0</td>\n",
       "      <td>28340000.0</td>\n",
       "      <td>[DRAMA]</td>\n",
       "      <td>R</td>\n",
       "      <td>[Frank Darabont]</td>\n",
       "      <td>[Tim Robbins,  Morgan Freeman,  Bob Gunton,  W...</td>\n",
       "      <td>over  the  course  of  several  years   two  c...</td>\n",
       "      <td>DRAMA</td>\n",
       "      <td>1</td>\n",
       "      <td>Frank Darabont</td>\n",
       "      <td>4</td>\n",
       "      <td>Tim Robbins</td>\n",
       "      <td>Morgan Freeman</td>\n",
       "      <td>Bob Gunton</td>\n",
       "    </tr>\n",
       "    <tr>\n",
       "      <th>1</th>\n",
       "      <td>The Godfather (1972)</td>\n",
       "      <td>1972</td>\n",
       "      <td>175</td>\n",
       "      <td>9.2</td>\n",
       "      <td>1954174</td>\n",
       "      <td>100.0</td>\n",
       "      <td>134970000.0</td>\n",
       "      <td>[CRIME, DRAMA]</td>\n",
       "      <td>R</td>\n",
       "      <td>[Francis Ford Coppola]</td>\n",
       "      <td>[Marlon Brando,  Al Pacino,  James Caan,  Dian...</td>\n",
       "      <td>don  vito  corleone   head  of  a  mafia  fami...</td>\n",
       "      <td>CRIME</td>\n",
       "      <td>1</td>\n",
       "      <td>Francis Ford Coppola</td>\n",
       "      <td>4</td>\n",
       "      <td>Marlon Brando</td>\n",
       "      <td>Al Pacino</td>\n",
       "      <td>James Caan</td>\n",
       "    </tr>\n",
       "    <tr>\n",
       "      <th>4</th>\n",
       "      <td>The Dark Knight (2008)</td>\n",
       "      <td>2008</td>\n",
       "      <td>152</td>\n",
       "      <td>9.0</td>\n",
       "      <td>2786129</td>\n",
       "      <td>84.0</td>\n",
       "      <td>534860000.0</td>\n",
       "      <td>[ACTION, CRIME, DRAMA]</td>\n",
       "      <td>PG-13</td>\n",
       "      <td>[Christopher Nolan]</td>\n",
       "      <td>[Christian Bale,  Heath Ledger,  Aaron Eckhart...</td>\n",
       "      <td>when  the  menace  known  as  the  joker  wrea...</td>\n",
       "      <td>ACTION</td>\n",
       "      <td>1</td>\n",
       "      <td>Christopher Nolan</td>\n",
       "      <td>4</td>\n",
       "      <td>Christian Bale</td>\n",
       "      <td>Heath Ledger</td>\n",
       "      <td>Aaron Eckhart</td>\n",
       "    </tr>\n",
       "    <tr>\n",
       "      <th>5</th>\n",
       "      <td>Schindler's List (1993)</td>\n",
       "      <td>1993</td>\n",
       "      <td>195</td>\n",
       "      <td>9.0</td>\n",
       "      <td>1409869</td>\n",
       "      <td>95.0</td>\n",
       "      <td>96900000.0</td>\n",
       "      <td>[BIOGRAPHY, DRAMA, HISTORY]</td>\n",
       "      <td>R</td>\n",
       "      <td>[Steven Spielberg]</td>\n",
       "      <td>[Liam Neeson,  Ralph Fiennes,  Ben Kingsley,  ...</td>\n",
       "      <td>in  german-occupied  poland  during  world  wa...</td>\n",
       "      <td>BIOGRAPHY</td>\n",
       "      <td>1</td>\n",
       "      <td>Steven Spielberg</td>\n",
       "      <td>4</td>\n",
       "      <td>Liam Neeson</td>\n",
       "      <td>Ralph Fiennes</td>\n",
       "      <td>Ben Kingsley</td>\n",
       "    </tr>\n",
       "    <tr>\n",
       "      <th>6</th>\n",
       "      <td>The Lord of the Rings: The Return of the King ...</td>\n",
       "      <td>2003</td>\n",
       "      <td>201</td>\n",
       "      <td>9.0</td>\n",
       "      <td>1919908</td>\n",
       "      <td>94.0</td>\n",
       "      <td>377850000.0</td>\n",
       "      <td>[ACTION, ADVENTURE, DRAMA]</td>\n",
       "      <td>PG-13</td>\n",
       "      <td>[Peter Jackson]</td>\n",
       "      <td>[Elijah Wood,  Viggo Mortensen,  Ian McKellen,...</td>\n",
       "      <td>gandalf  and  aragorn  lead  the  world  of  m...</td>\n",
       "      <td>ACTION</td>\n",
       "      <td>1</td>\n",
       "      <td>Peter Jackson</td>\n",
       "      <td>4</td>\n",
       "      <td>Elijah Wood</td>\n",
       "      <td>Viggo Mortensen</td>\n",
       "      <td>Ian McKellen</td>\n",
       "    </tr>\n",
       "  </tbody>\n",
       "</table>\n",
       "</div>"
      ],
      "text/plain": [
       "                                          Movie Name  Year of Release  \\\n",
       "0                    The Shawshank Redemption (1994)             1994   \n",
       "1                               The Godfather (1972)             1972   \n",
       "4                             The Dark Knight (2008)             2008   \n",
       "5                            Schindler's List (1993)             1993   \n",
       "6  The Lord of the Rings: The Return of the King ...             2003   \n",
       "\n",
       "   Runtime Mins  Movie Rating    Votes  MetaScore        Gross  \\\n",
       "0           142           9.3  2804443       82.0   28340000.0   \n",
       "1           175           9.2  1954174      100.0  134970000.0   \n",
       "4           152           9.0  2786129       84.0  534860000.0   \n",
       "5           195           9.0  1409869       95.0   96900000.0   \n",
       "6           201           9.0  1919908       94.0  377850000.0   \n",
       "\n",
       "                         Genre Certification                Director  \\\n",
       "0                      [DRAMA]             R        [Frank Darabont]   \n",
       "1               [CRIME, DRAMA]             R  [Francis Ford Coppola]   \n",
       "4       [ACTION, CRIME, DRAMA]         PG-13     [Christopher Nolan]   \n",
       "5  [BIOGRAPHY, DRAMA, HISTORY]             R      [Steven Spielberg]   \n",
       "6   [ACTION, ADVENTURE, DRAMA]         PG-13         [Peter Jackson]   \n",
       "\n",
       "                                               Stars  \\\n",
       "0  [Tim Robbins,  Morgan Freeman,  Bob Gunton,  W...   \n",
       "1  [Marlon Brando,  Al Pacino,  James Caan,  Dian...   \n",
       "4  [Christian Bale,  Heath Ledger,  Aaron Eckhart...   \n",
       "5  [Liam Neeson,  Ralph Fiennes,  Ben Kingsley,  ...   \n",
       "6  [Elijah Wood,  Viggo Mortensen,  Ian McKellen,...   \n",
       "\n",
       "                                         Description Main Genre  \\\n",
       "0  over  the  course  of  several  years   two  c...      DRAMA   \n",
       "1  don  vito  corleone   head  of  a  mafia  fami...      CRIME   \n",
       "4  when  the  menace  known  as  the  joker  wrea...     ACTION   \n",
       "5  in  german-occupied  poland  during  world  wa...  BIOGRAPHY   \n",
       "6  gandalf  and  aragorn  lead  the  world  of  m...     ACTION   \n",
       "\n",
       "   Num Directors         Main Director  Num Stars        Star One  \\\n",
       "0              1        Frank Darabont          4     Tim Robbins   \n",
       "1              1  Francis Ford Coppola          4   Marlon Brando   \n",
       "4              1     Christopher Nolan          4  Christian Bale   \n",
       "5              1      Steven Spielberg          4     Liam Neeson   \n",
       "6              1         Peter Jackson          4     Elijah Wood   \n",
       "\n",
       "           Star Two      Star Three  \n",
       "0    Morgan Freeman      Bob Gunton  \n",
       "1         Al Pacino      James Caan  \n",
       "4      Heath Ledger   Aaron Eckhart  \n",
       "5     Ralph Fiennes    Ben Kingsley  \n",
       "6   Viggo Mortensen    Ian McKellen  "
      ]
     },
     "execution_count": 166,
     "metadata": {},
     "output_type": "execute_result"
    }
   ],
   "source": [
    "movies_df.head()"
   ]
  },
  {
   "cell_type": "markdown",
   "metadata": {},
   "source": [
    "### Analysis\n",
    "\n",
    "Let's examine the correlation between different numerical features and the movie rating. "
   ]
  },
  {
   "cell_type": "code",
   "execution_count": 168,
   "metadata": {},
   "outputs": [
    {
     "data": {
      "text/html": [
       "<div>\n",
       "<style scoped>\n",
       "    .dataframe tbody tr th:only-of-type {\n",
       "        vertical-align: middle;\n",
       "    }\n",
       "\n",
       "    .dataframe tbody tr th {\n",
       "        vertical-align: top;\n",
       "    }\n",
       "\n",
       "    .dataframe thead th {\n",
       "        text-align: right;\n",
       "    }\n",
       "</style>\n",
       "<table border=\"1\" class=\"dataframe\">\n",
       "  <thead>\n",
       "    <tr style=\"text-align: right;\">\n",
       "      <th></th>\n",
       "      <th>Year of Release</th>\n",
       "      <th>Runtime Mins</th>\n",
       "      <th>Votes</th>\n",
       "      <th>MetaScore</th>\n",
       "      <th>Gross</th>\n",
       "      <th>Num Directors</th>\n",
       "      <th>Num Stars</th>\n",
       "      <th>Movie Rating</th>\n",
       "    </tr>\n",
       "  </thead>\n",
       "  <tbody>\n",
       "    <tr>\n",
       "      <th>0</th>\n",
       "      <td>1994</td>\n",
       "      <td>142</td>\n",
       "      <td>2804443</td>\n",
       "      <td>82.0</td>\n",
       "      <td>28340000.0</td>\n",
       "      <td>1</td>\n",
       "      <td>4</td>\n",
       "      <td>9.3</td>\n",
       "    </tr>\n",
       "    <tr>\n",
       "      <th>1</th>\n",
       "      <td>1972</td>\n",
       "      <td>175</td>\n",
       "      <td>1954174</td>\n",
       "      <td>100.0</td>\n",
       "      <td>134970000.0</td>\n",
       "      <td>1</td>\n",
       "      <td>4</td>\n",
       "      <td>9.2</td>\n",
       "    </tr>\n",
       "    <tr>\n",
       "      <th>4</th>\n",
       "      <td>2008</td>\n",
       "      <td>152</td>\n",
       "      <td>2786129</td>\n",
       "      <td>84.0</td>\n",
       "      <td>534860000.0</td>\n",
       "      <td>1</td>\n",
       "      <td>4</td>\n",
       "      <td>9.0</td>\n",
       "    </tr>\n",
       "    <tr>\n",
       "      <th>5</th>\n",
       "      <td>1993</td>\n",
       "      <td>195</td>\n",
       "      <td>1409869</td>\n",
       "      <td>95.0</td>\n",
       "      <td>96900000.0</td>\n",
       "      <td>1</td>\n",
       "      <td>4</td>\n",
       "      <td>9.0</td>\n",
       "    </tr>\n",
       "    <tr>\n",
       "      <th>6</th>\n",
       "      <td>2003</td>\n",
       "      <td>201</td>\n",
       "      <td>1919908</td>\n",
       "      <td>94.0</td>\n",
       "      <td>377850000.0</td>\n",
       "      <td>1</td>\n",
       "      <td>4</td>\n",
       "      <td>9.0</td>\n",
       "    </tr>\n",
       "  </tbody>\n",
       "</table>\n",
       "</div>"
      ],
      "text/plain": [
       "   Year of Release  Runtime Mins    Votes  MetaScore        Gross  \\\n",
       "0             1994           142  2804443       82.0   28340000.0   \n",
       "1             1972           175  1954174      100.0  134970000.0   \n",
       "4             2008           152  2786129       84.0  534860000.0   \n",
       "5             1993           195  1409869       95.0   96900000.0   \n",
       "6             2003           201  1919908       94.0  377850000.0   \n",
       "\n",
       "   Num Directors  Num Stars  Movie Rating  \n",
       "0              1          4           9.3  \n",
       "1              1          4           9.2  \n",
       "4              1          4           9.0  \n",
       "5              1          4           9.0  \n",
       "6              1          4           9.0  "
      ]
     },
     "execution_count": 168,
     "metadata": {},
     "output_type": "execute_result"
    }
   ],
   "source": [
    "numeric_features = movies_df[['Year of Release', 'Runtime Mins', 'Votes', 'MetaScore', 'Gross', 'Num Directors', 'Num Stars', 'Movie Rating']]\n",
    "numeric_features.head()"
   ]
  },
  {
   "cell_type": "code",
   "execution_count": 169,
   "metadata": {},
   "outputs": [
    {
     "data": {
      "text/plain": [
       "<Axes: >"
      ]
     },
     "execution_count": 169,
     "metadata": {},
     "output_type": "execute_result"
    },
    {
     "data": {
      "image/png": "[encoded data removed]",
      "text/plain": [
       "<Figure size 640x480 with 2 Axes>"
      ]
     },
     "metadata": {},
     "output_type": "display_data"
    }
   ],
   "source": [
    "corr = numeric_features.corr()\n",
    "\n",
    "sns.heatmap(corr, annot=True, cmap='RdBu')"
   ]
  },
  {
   "cell_type": "markdown",
   "metadata": {},
   "source": [
    "- There is a large positive correlation between `MetaScore` and `Movie Rating` and between `Votes` and `Gross`. \n",
    "- There is a slight positive correlation between `Runtime Mins` and `Movie Rating', 'Votes` and `Movie Rating`, and `Runtime Mins` and `Gross`.\n",
    "- There is a very small positive correlation between `Gross` and `Movie Rating`. \n",
    "- There is a slight negative correlation between `Year of Release` and `Movie Rating` and `Year of Release` and `MetaScore`."
   ]
  },
  {
   "cell_type": "code",
   "execution_count": null,
   "metadata": {},
   "outputs": [
    {
     "data": {
      "text/html": [
       "<div>\n",
       "<style scoped>\n",
       "    .dataframe tbody tr th:only-of-type {\n",
       "        vertical-align: middle;\n",
       "    }\n",
       "\n",
       "    .dataframe tbody tr th {\n",
       "        vertical-align: top;\n",
       "    }\n",
       "\n",
       "    .dataframe thead th {\n",
       "        text-align: right;\n",
       "    }\n",
       "</style>\n",
       "<table border=\"1\" class=\"dataframe\">\n",
       "  <thead>\n",
       "    <tr style=\"text-align: right;\">\n",
       "      <th></th>\n",
       "      <th>Year of Release</th>\n",
       "      <th>Run Time in minutes</th>\n",
       "      <th>Votes</th>\n",
       "      <th>MetaScore</th>\n",
       "      <th>Gross</th>\n",
       "      <th>Main Genre</th>\n",
       "      <th>Certification</th>\n",
       "      <th>Num Directors</th>\n",
       "      <th>Main Director</th>\n",
       "      <th>Num Stars</th>\n",
       "      <th>Star One</th>\n",
       "      <th>Star Two</th>\n",
       "      <th>Star Three</th>\n",
       "      <th>Movie Rating</th>\n",
       "    </tr>\n",
       "  </thead>\n",
       "  <tbody>\n",
       "    <tr>\n",
       "      <th>0</th>\n",
       "      <td>1994</td>\n",
       "      <td>142</td>\n",
       "      <td>2804443</td>\n",
       "      <td>82.0</td>\n",
       "      <td>28340000.0</td>\n",
       "      <td>DRAMA</td>\n",
       "      <td>R</td>\n",
       "      <td>1</td>\n",
       "      <td>Frank Darabont</td>\n",
       "      <td>4</td>\n",
       "      <td>Tim Robbins</td>\n",
       "      <td>Morgan Freeman</td>\n",
       "      <td>Bob Gunton</td>\n",
       "      <td>9.3</td>\n",
       "    </tr>\n",
       "    <tr>\n",
       "      <th>1</th>\n",
       "      <td>1972</td>\n",
       "      <td>175</td>\n",
       "      <td>1954174</td>\n",
       "      <td>100.0</td>\n",
       "      <td>134970000.0</td>\n",
       "      <td>CRIME</td>\n",
       "      <td>R</td>\n",
       "      <td>1</td>\n",
       "      <td>Francis Ford Coppola</td>\n",
       "      <td>4</td>\n",
       "      <td>Marlon Brando</td>\n",
       "      <td>Al Pacino</td>\n",
       "      <td>James Caan</td>\n",
       "      <td>9.2</td>\n",
       "    </tr>\n",
       "    <tr>\n",
       "      <th>4</th>\n",
       "      <td>2008</td>\n",
       "      <td>152</td>\n",
       "      <td>2786129</td>\n",
       "      <td>84.0</td>\n",
       "      <td>534860000.0</td>\n",
       "      <td>ACTION</td>\n",
       "      <td>PG-13</td>\n",
       "      <td>1</td>\n",
       "      <td>Christopher Nolan</td>\n",
       "      <td>4</td>\n",
       "      <td>Christian Bale</td>\n",
       "      <td>Heath Ledger</td>\n",
       "      <td>Aaron Eckhart</td>\n",
       "      <td>9.0</td>\n",
       "    </tr>\n",
       "    <tr>\n",
       "      <th>5</th>\n",
       "      <td>1993</td>\n",
       "      <td>195</td>\n",
       "      <td>1409869</td>\n",
       "      <td>95.0</td>\n",
       "      <td>96900000.0</td>\n",
       "      <td>BIOGRAPHY</td>\n",
       "      <td>R</td>\n",
       "      <td>1</td>\n",
       "      <td>Steven Spielberg</td>\n",
       "      <td>4</td>\n",
       "      <td>Liam Neeson</td>\n",
       "      <td>Ralph Fiennes</td>\n",
       "      <td>Ben Kingsley</td>\n",
       "      <td>9.0</td>\n",
       "    </tr>\n",
       "    <tr>\n",
       "      <th>6</th>\n",
       "      <td>2003</td>\n",
       "      <td>201</td>\n",
       "      <td>1919908</td>\n",
       "      <td>94.0</td>\n",
       "      <td>377850000.0</td>\n",
       "      <td>ACTION</td>\n",
       "      <td>PG-13</td>\n",
       "      <td>1</td>\n",
       "      <td>Peter Jackson</td>\n",
       "      <td>4</td>\n",
       "      <td>Elijah Wood</td>\n",
       "      <td>Viggo Mortensen</td>\n",
       "      <td>Ian McKellen</td>\n",
       "      <td>9.0</td>\n",
       "    </tr>\n",
       "  </tbody>\n",
       "</table>\n",
       "</div>"
      ],
      "text/plain": [
       "   Year of Release  Run Time in minutes    Votes  MetaScore        Gross  \\\n",
       "0             1994                  142  2804443       82.0   28340000.0   \n",
       "1             1972                  175  1954174      100.0  134970000.0   \n",
       "4             2008                  152  2786129       84.0  534860000.0   \n",
       "5             1993                  195  1409869       95.0   96900000.0   \n",
       "6             2003                  201  1919908       94.0  377850000.0   \n",
       "\n",
       "  Main Genre Certification  Num Directors         Main Director  Num Stars  \\\n",
       "0      DRAMA             R              1        Frank Darabont          4   \n",
       "1      CRIME             R              1  Francis Ford Coppola          4   \n",
       "4     ACTION         PG-13              1     Christopher Nolan          4   \n",
       "5  BIOGRAPHY             R              1      Steven Spielberg          4   \n",
       "6     ACTION         PG-13              1         Peter Jackson          4   \n",
       "\n",
       "         Star One          Star Two      Star Three  Movie Rating  \n",
       "0     Tim Robbins    Morgan Freeman      Bob Gunton           9.3  \n",
       "1   Marlon Brando         Al Pacino      James Caan           9.2  \n",
       "4  Christian Bale      Heath Ledger   Aaron Eckhart           9.0  \n",
       "5     Liam Neeson     Ralph Fiennes    Ben Kingsley           9.0  \n",
       "6     Elijah Wood   Viggo Mortensen    Ian McKellen           9.0  "
      ]
     },
     "execution_count": 128,
     "metadata": {},
     "output_type": "execute_result"
    }
   ],
   "source": [
    "features_df = movies_df[['Year of Release', 'Run Time in minutes', 'Votes', 'MetaScore', 'Gross', 'Main Genre', 'Certification', 'Num Directors', 'Main Director', 'Num Stars', 'Star One', 'Star Two', 'Star Three', 'Movie Rating']]\n",
    "features_df.head()"
   ]
  },
  {
   "cell_type": "markdown",
   "metadata": {},
   "source": [
    "In order to get the correlation with categorical variables, these need to be recoded as dummy variables. "
   ]
  },
  {
   "cell_type": "code",
   "execution_count": null,
   "metadata": {},
   "outputs": [
    {
     "name": "stdout",
     "output_type": "stream",
     "text": [
      "[ 6  5  0  3  1  2  4 10 13 17  9  7 16  8 15 12 14 11]\n",
      "['DRAMA' 'CRIME' 'ACTION' 'BIOGRAPHY' 'ADVENTURE' 'ANIMATION' 'COMEDY'\n",
      " 'HORROR' 'MYSTERY' 'WESTERN' 'FILM-NOIR' 'FAMILY' 'THRILLER' 'FANTASY'\n",
      " 'SCI-FI' 'MUSICAL' 'ROMANCE' 'MUSIC']\n"
     ]
    }
   ],
   "source": [
    "from sklearn.preprocessing import LabelEncoder\n",
    "\n",
    "genre_labels = ['DRAMA', 'CRIME', 'ACTION', 'BIOGRAPHY', 'ADVENTURE', 'ANIMATION', 'COMEDY', 'HORROR', 'MYSTERY', 'WESTERN', 'FILM-NOIR', 'FAMILY', 'THRILLER', 'FANTASY', 'SCI-FI', 'MUSICAL', 'ROMANCE', 'MUSIC']\n",
    "\n",
    "# Initialize LabelEncoder\n",
    "label_encoder = LabelEncoder()\n",
    "\n",
    "# Fit and transform the labels\n",
    "encoded_labels = label_encoder.fit_transform(genre_labels)\n",
    "\n",
    "# Display the encoded labels\n",
    "print(encoded_labels)\n",
    "# Output: array([0, 1, 2, 1])\n",
    "\n",
    "# Inverse transform to get back the original labels\n",
    "original_labels = label_encoder.inverse_transform(encoded_labels)\n",
    "print(original_labels)\n",
    "# Output: array(['cat', 'dog', 'bird', 'dog'], dtype='<U4')"
   ]
  },
  {
   "cell_type": "code",
   "execution_count": null,
   "metadata": {},
   "outputs": [
    {
     "data": {
      "text/plain": [
       "array(['DRAMA', 'CRIME', 'ACTION', 'BIOGRAPHY', 'ADVENTURE', 'ANIMATION',\n",
       "       'COMEDY', 'HORROR', 'MYSTERY', 'WESTERN', 'FILM-NOIR', 'FAMILY',\n",
       "       'THRILLER', 'FANTASY', 'SCI-FI', 'MUSICAL', 'ROMANCE', 'MUSIC'],\n",
       "      dtype=object)"
      ]
     },
     "execution_count": 130,
     "metadata": {},
     "output_type": "execute_result"
    }
   ],
   "source": [
    "movies_df['Main Genre'].unique()"
   ]
  },
  {
   "cell_type": "markdown",
   "metadata": {},
   "source": [
    "\n",
    "**Which genres are most popular?**\n",
    "\n",
    "The dataset is comprised of the top 10,000 movies on IMDb. In order to determine the most popular genres, let's see which genres appear the most within the dataset."
   ]
  },
  {
   "cell_type": "code",
   "execution_count": null,
   "metadata": {},
   "outputs": [
    {
     "data": {
      "text/html": [
       "<div>\n",
       "<style scoped>\n",
       "    .dataframe tbody tr th:only-of-type {\n",
       "        vertical-align: middle;\n",
       "    }\n",
       "\n",
       "    .dataframe tbody tr th {\n",
       "        vertical-align: top;\n",
       "    }\n",
       "\n",
       "    .dataframe thead th {\n",
       "        text-align: right;\n",
       "    }\n",
       "</style>\n",
       "<table border=\"1\" class=\"dataframe\">\n",
       "  <thead>\n",
       "    <tr style=\"text-align: right;\">\n",
       "      <th></th>\n",
       "      <th>Genre</th>\n",
       "      <th>count</th>\n",
       "    </tr>\n",
       "  </thead>\n",
       "  <tbody>\n",
       "    <tr>\n",
       "      <th>0</th>\n",
       "      <td>DRAMA</td>\n",
       "      <td>3690</td>\n",
       "    </tr>\n",
       "    <tr>\n",
       "      <th>1</th>\n",
       "      <td>COMEDY</td>\n",
       "      <td>2465</td>\n",
       "    </tr>\n",
       "    <tr>\n",
       "      <th>2</th>\n",
       "      <td>ACTION</td>\n",
       "      <td>1599</td>\n",
       "    </tr>\n",
       "    <tr>\n",
       "      <th>3</th>\n",
       "      <td>CRIME</td>\n",
       "      <td>1299</td>\n",
       "    </tr>\n",
       "    <tr>\n",
       "      <th>4</th>\n",
       "      <td>ADVENTURE</td>\n",
       "      <td>1240</td>\n",
       "    </tr>\n",
       "    <tr>\n",
       "      <th>5</th>\n",
       "      <td>ROMANCE</td>\n",
       "      <td>1166</td>\n",
       "    </tr>\n",
       "    <tr>\n",
       "      <th>6</th>\n",
       "      <td>THRILLER</td>\n",
       "      <td>1030</td>\n",
       "    </tr>\n",
       "    <tr>\n",
       "      <th>7</th>\n",
       "      <td>HORROR</td>\n",
       "      <td>671</td>\n",
       "    </tr>\n",
       "    <tr>\n",
       "      <th>8</th>\n",
       "      <td>MYSTERY</td>\n",
       "      <td>641</td>\n",
       "    </tr>\n",
       "    <tr>\n",
       "      <th>9</th>\n",
       "      <td>FANTASY</td>\n",
       "      <td>506</td>\n",
       "    </tr>\n",
       "    <tr>\n",
       "      <th>10</th>\n",
       "      <td>BIOGRAPHY</td>\n",
       "      <td>496</td>\n",
       "    </tr>\n",
       "    <tr>\n",
       "      <th>11</th>\n",
       "      <td>SCI-FI</td>\n",
       "      <td>477</td>\n",
       "    </tr>\n",
       "    <tr>\n",
       "      <th>12</th>\n",
       "      <td>ANIMATION</td>\n",
       "      <td>338</td>\n",
       "    </tr>\n",
       "    <tr>\n",
       "      <th>13</th>\n",
       "      <td>FAMILY</td>\n",
       "      <td>336</td>\n",
       "    </tr>\n",
       "    <tr>\n",
       "      <th>14</th>\n",
       "      <td>HISTORY</td>\n",
       "      <td>215</td>\n",
       "    </tr>\n",
       "    <tr>\n",
       "      <th>15</th>\n",
       "      <td>MUSIC</td>\n",
       "      <td>215</td>\n",
       "    </tr>\n",
       "    <tr>\n",
       "      <th>16</th>\n",
       "      <td>SPORT</td>\n",
       "      <td>155</td>\n",
       "    </tr>\n",
       "    <tr>\n",
       "      <th>17</th>\n",
       "      <td>WAR</td>\n",
       "      <td>138</td>\n",
       "    </tr>\n",
       "    <tr>\n",
       "      <th>18</th>\n",
       "      <td>MUSICAL</td>\n",
       "      <td>73</td>\n",
       "    </tr>\n",
       "    <tr>\n",
       "      <th>19</th>\n",
       "      <td>WESTERN</td>\n",
       "      <td>63</td>\n",
       "    </tr>\n",
       "    <tr>\n",
       "      <th>20</th>\n",
       "      <td>FILM-NOIR</td>\n",
       "      <td>13</td>\n",
       "    </tr>\n",
       "  </tbody>\n",
       "</table>\n",
       "</div>"
      ],
      "text/plain": [
       "        Genre  count\n",
       "0       DRAMA   3690\n",
       "1      COMEDY   2465\n",
       "2      ACTION   1599\n",
       "3       CRIME   1299\n",
       "4   ADVENTURE   1240\n",
       "5     ROMANCE   1166\n",
       "6    THRILLER   1030\n",
       "7      HORROR    671\n",
       "8     MYSTERY    641\n",
       "9     FANTASY    506\n",
       "10  BIOGRAPHY    496\n",
       "11     SCI-FI    477\n",
       "12  ANIMATION    338\n",
       "13     FAMILY    336\n",
       "14    HISTORY    215\n",
       "15      MUSIC    215\n",
       "16      SPORT    155\n",
       "17        WAR    138\n",
       "18    MUSICAL     73\n",
       "19    WESTERN     63\n",
       "20  FILM-NOIR     13"
      ]
     },
     "execution_count": 131,
     "metadata": {},
     "output_type": "execute_result"
    }
   ],
   "source": [
    "movies_df.explode('Genre', ',')['Genre'].value_counts().reset_index()"
   ]
  },
  {
   "cell_type": "markdown",
   "metadata": {},
   "source": [
    "The top 5 genres which appear the most in the dataset are drama, comedy, action, crime, and romance. "
   ]
  },
  {
   "cell_type": "markdown",
   "metadata": {},
   "source": [
    "### Basic Recommender\n",
    "\n",
    "IMDb ratings are weighted based on user authenticity. They have another rating system which they use to determine top movies, specifically implemented in their \"Top 250\" page.\n",
    "\n",
    "The formula is as follows: \n",
    "\n",
    "$ WR = \\frac{v}{v+m} * R + \\frac{m}{v+m} * C $\n",
    "\n",
    "where: \n",
    "\n",
    "- R = average rating for movie\n",
    "- v = number of votes for movie\n",
    "- m = minimum votes to be listed in Top 250 (25,000 votes)\n",
    "- C = mean vote across dataset\n",
    "\n",
    "Let's come up with a function to calculate the weighted rating for each movie. "
   ]
  },
  {
   "cell_type": "code",
   "execution_count": null,
   "metadata": {},
   "outputs": [],
   "source": [
    "def weighted_rating(df, m=25000):\n",
    "    R = df['Movie Rating']\n",
    "    v = df['Votes']\n",
    "    C = df['Movie Rating'].mean()\n",
    "\n",
    "    return (v/(v+m) * R) + (m/(v+m) * C)"
   ]
  },
  {
   "cell_type": "markdown",
   "metadata": {},
   "source": [
    "Now let's apply this to create a weighted rating column. "
   ]
  },
  {
   "cell_type": "code",
   "execution_count": null,
   "metadata": {},
   "outputs": [
    {
     "data": {
      "text/html": [
       "<div>\n",
       "<style scoped>\n",
       "    .dataframe tbody tr th:only-of-type {\n",
       "        vertical-align: middle;\n",
       "    }\n",
       "\n",
       "    .dataframe tbody tr th {\n",
       "        vertical-align: top;\n",
       "    }\n",
       "\n",
       "    .dataframe thead th {\n",
       "        text-align: right;\n",
       "    }\n",
       "</style>\n",
       "<table border=\"1\" class=\"dataframe\">\n",
       "  <thead>\n",
       "    <tr style=\"text-align: right;\">\n",
       "      <th></th>\n",
       "      <th>Movie Name</th>\n",
       "      <th>Year of Release</th>\n",
       "      <th>Run Time in minutes</th>\n",
       "      <th>Movie Rating</th>\n",
       "      <th>Votes</th>\n",
       "      <th>MetaScore</th>\n",
       "      <th>Gross</th>\n",
       "      <th>Genre</th>\n",
       "      <th>Certification</th>\n",
       "      <th>Director</th>\n",
       "      <th>Stars</th>\n",
       "      <th>Description</th>\n",
       "      <th>Main Genre</th>\n",
       "      <th>Num Directors</th>\n",
       "      <th>Main Director</th>\n",
       "      <th>Num Stars</th>\n",
       "      <th>Star One</th>\n",
       "      <th>Star Two</th>\n",
       "      <th>Star Three</th>\n",
       "      <th>Weighted Rating</th>\n",
       "    </tr>\n",
       "  </thead>\n",
       "  <tbody>\n",
       "    <tr>\n",
       "      <th>0</th>\n",
       "      <td>The Shawshank Redemption (1994)</td>\n",
       "      <td>1994</td>\n",
       "      <td>142</td>\n",
       "      <td>9.3</td>\n",
       "      <td>2804443</td>\n",
       "      <td>82.0</td>\n",
       "      <td>28340000.0</td>\n",
       "      <td>[DRAMA]</td>\n",
       "      <td>R</td>\n",
       "      <td>[Frank Darabont]</td>\n",
       "      <td>[Tim Robbins,  Morgan Freeman,  Bob Gunton,  W...</td>\n",
       "      <td>over  the  course  of  several  years   two  c...</td>\n",
       "      <td>DRAMA</td>\n",
       "      <td>1</td>\n",
       "      <td>Frank Darabont</td>\n",
       "      <td>4</td>\n",
       "      <td>Tim Robbins</td>\n",
       "      <td>Morgan Freeman</td>\n",
       "      <td>Bob Gunton</td>\n",
       "      <td>9.3</td>\n",
       "    </tr>\n",
       "    <tr>\n",
       "      <th>1</th>\n",
       "      <td>The Godfather (1972)</td>\n",
       "      <td>1972</td>\n",
       "      <td>175</td>\n",
       "      <td>9.2</td>\n",
       "      <td>1954174</td>\n",
       "      <td>100.0</td>\n",
       "      <td>134970000.0</td>\n",
       "      <td>[CRIME, DRAMA]</td>\n",
       "      <td>R</td>\n",
       "      <td>[Francis Ford Coppola]</td>\n",
       "      <td>[Marlon Brando,  Al Pacino,  James Caan,  Dian...</td>\n",
       "      <td>don  vito  corleone   head  of  a  mafia  fami...</td>\n",
       "      <td>CRIME</td>\n",
       "      <td>1</td>\n",
       "      <td>Francis Ford Coppola</td>\n",
       "      <td>4</td>\n",
       "      <td>Marlon Brando</td>\n",
       "      <td>Al Pacino</td>\n",
       "      <td>James Caan</td>\n",
       "      <td>9.2</td>\n",
       "    </tr>\n",
       "    <tr>\n",
       "      <th>4</th>\n",
       "      <td>The Dark Knight (2008)</td>\n",
       "      <td>2008</td>\n",
       "      <td>152</td>\n",
       "      <td>9.0</td>\n",
       "      <td>2786129</td>\n",
       "      <td>84.0</td>\n",
       "      <td>534860000.0</td>\n",
       "      <td>[ACTION, CRIME, DRAMA]</td>\n",
       "      <td>PG-13</td>\n",
       "      <td>[Christopher Nolan]</td>\n",
       "      <td>[Christian Bale,  Heath Ledger,  Aaron Eckhart...</td>\n",
       "      <td>when  the  menace  known  as  the  joker  wrea...</td>\n",
       "      <td>ACTION</td>\n",
       "      <td>1</td>\n",
       "      <td>Christopher Nolan</td>\n",
       "      <td>4</td>\n",
       "      <td>Christian Bale</td>\n",
       "      <td>Heath Ledger</td>\n",
       "      <td>Aaron Eckhart</td>\n",
       "      <td>9.0</td>\n",
       "    </tr>\n",
       "    <tr>\n",
       "      <th>5</th>\n",
       "      <td>Schindler's List (1993)</td>\n",
       "      <td>1993</td>\n",
       "      <td>195</td>\n",
       "      <td>9.0</td>\n",
       "      <td>1409869</td>\n",
       "      <td>95.0</td>\n",
       "      <td>96900000.0</td>\n",
       "      <td>[BIOGRAPHY, DRAMA, HISTORY]</td>\n",
       "      <td>R</td>\n",
       "      <td>[Steven Spielberg]</td>\n",
       "      <td>[Liam Neeson,  Ralph Fiennes,  Ben Kingsley,  ...</td>\n",
       "      <td>in  german-occupied  poland  during  world  wa...</td>\n",
       "      <td>BIOGRAPHY</td>\n",
       "      <td>1</td>\n",
       "      <td>Steven Spielberg</td>\n",
       "      <td>4</td>\n",
       "      <td>Liam Neeson</td>\n",
       "      <td>Ralph Fiennes</td>\n",
       "      <td>Ben Kingsley</td>\n",
       "      <td>9.0</td>\n",
       "    </tr>\n",
       "    <tr>\n",
       "      <th>6</th>\n",
       "      <td>The Lord of the Rings: The Return of the King ...</td>\n",
       "      <td>2003</td>\n",
       "      <td>201</td>\n",
       "      <td>9.0</td>\n",
       "      <td>1919908</td>\n",
       "      <td>94.0</td>\n",
       "      <td>377850000.0</td>\n",
       "      <td>[ACTION, ADVENTURE, DRAMA]</td>\n",
       "      <td>PG-13</td>\n",
       "      <td>[Peter Jackson]</td>\n",
       "      <td>[Elijah Wood,  Viggo Mortensen,  Ian McKellen,...</td>\n",
       "      <td>gandalf  and  aragorn  lead  the  world  of  m...</td>\n",
       "      <td>ACTION</td>\n",
       "      <td>1</td>\n",
       "      <td>Peter Jackson</td>\n",
       "      <td>4</td>\n",
       "      <td>Elijah Wood</td>\n",
       "      <td>Viggo Mortensen</td>\n",
       "      <td>Ian McKellen</td>\n",
       "      <td>9.0</td>\n",
       "    </tr>\n",
       "  </tbody>\n",
       "</table>\n",
       "</div>"
      ],
      "text/plain": [
       "                                          Movie Name  Year of Release  \\\n",
       "0                    The Shawshank Redemption (1994)             1994   \n",
       "1                               The Godfather (1972)             1972   \n",
       "4                             The Dark Knight (2008)             2008   \n",
       "5                            Schindler's List (1993)             1993   \n",
       "6  The Lord of the Rings: The Return of the King ...             2003   \n",
       "\n",
       "   Run Time in minutes  Movie Rating    Votes  MetaScore        Gross  \\\n",
       "0                  142           9.3  2804443       82.0   28340000.0   \n",
       "1                  175           9.2  1954174      100.0  134970000.0   \n",
       "4                  152           9.0  2786129       84.0  534860000.0   \n",
       "5                  195           9.0  1409869       95.0   96900000.0   \n",
       "6                  201           9.0  1919908       94.0  377850000.0   \n",
       "\n",
       "                         Genre Certification                Director  \\\n",
       "0                      [DRAMA]             R        [Frank Darabont]   \n",
       "1               [CRIME, DRAMA]             R  [Francis Ford Coppola]   \n",
       "4       [ACTION, CRIME, DRAMA]         PG-13     [Christopher Nolan]   \n",
       "5  [BIOGRAPHY, DRAMA, HISTORY]             R      [Steven Spielberg]   \n",
       "6   [ACTION, ADVENTURE, DRAMA]         PG-13         [Peter Jackson]   \n",
       "\n",
       "                                               Stars  \\\n",
       "0  [Tim Robbins,  Morgan Freeman,  Bob Gunton,  W...   \n",
       "1  [Marlon Brando,  Al Pacino,  James Caan,  Dian...   \n",
       "4  [Christian Bale,  Heath Ledger,  Aaron Eckhart...   \n",
       "5  [Liam Neeson,  Ralph Fiennes,  Ben Kingsley,  ...   \n",
       "6  [Elijah Wood,  Viggo Mortensen,  Ian McKellen,...   \n",
       "\n",
       "                                         Description Main Genre  \\\n",
       "0  over  the  course  of  several  years   two  c...      DRAMA   \n",
       "1  don  vito  corleone   head  of  a  mafia  fami...      CRIME   \n",
       "4  when  the  menace  known  as  the  joker  wrea...     ACTION   \n",
       "5  in  german-occupied  poland  during  world  wa...  BIOGRAPHY   \n",
       "6  gandalf  and  aragorn  lead  the  world  of  m...     ACTION   \n",
       "\n",
       "   Num Directors         Main Director  Num Stars        Star One  \\\n",
       "0              1        Frank Darabont          4     Tim Robbins   \n",
       "1              1  Francis Ford Coppola          4   Marlon Brando   \n",
       "4              1     Christopher Nolan          4  Christian Bale   \n",
       "5              1      Steven Spielberg          4     Liam Neeson   \n",
       "6              1         Peter Jackson          4     Elijah Wood   \n",
       "\n",
       "           Star Two      Star Three  Weighted Rating  \n",
       "0    Morgan Freeman      Bob Gunton              9.3  \n",
       "1         Al Pacino      James Caan              9.2  \n",
       "4      Heath Ledger   Aaron Eckhart              9.0  \n",
       "5     Ralph Fiennes    Ben Kingsley              9.0  \n",
       "6   Viggo Mortensen    Ian McKellen              9.0  "
      ]
     },
     "execution_count": 133,
     "metadata": {},
     "output_type": "execute_result"
    }
   ],
   "source": [
    "movies_df['Weighted Rating'] = round(weighted_rating(movies_df), 1)\n",
    "movies_df.head()"
   ]
  },
  {
   "cell_type": "markdown",
   "metadata": {},
   "source": [
    "Now let's print the top movies for each genre. Since there are a lot of genres, let's print out the top 5 movies for the top 5 most occuring genres.\n",
    "\n",
    "First, let's see the most occuring genres."
   ]
  },
  {
   "cell_type": "code",
   "execution_count": null,
   "metadata": {},
   "outputs": [
    {
     "data": {
      "text/html": [
       "<div>\n",
       "<style scoped>\n",
       "    .dataframe tbody tr th:only-of-type {\n",
       "        vertical-align: middle;\n",
       "    }\n",
       "\n",
       "    .dataframe tbody tr th {\n",
       "        vertical-align: top;\n",
       "    }\n",
       "\n",
       "    .dataframe thead th {\n",
       "        text-align: right;\n",
       "    }\n",
       "</style>\n",
       "<table border=\"1\" class=\"dataframe\">\n",
       "  <thead>\n",
       "    <tr style=\"text-align: right;\">\n",
       "      <th></th>\n",
       "      <th>Genre</th>\n",
       "      <th>count</th>\n",
       "    </tr>\n",
       "  </thead>\n",
       "  <tbody>\n",
       "    <tr>\n",
       "      <th>0</th>\n",
       "      <td>DRAMA</td>\n",
       "      <td>3690</td>\n",
       "    </tr>\n",
       "    <tr>\n",
       "      <th>1</th>\n",
       "      <td>COMEDY</td>\n",
       "      <td>2465</td>\n",
       "    </tr>\n",
       "    <tr>\n",
       "      <th>2</th>\n",
       "      <td>ACTION</td>\n",
       "      <td>1599</td>\n",
       "    </tr>\n",
       "    <tr>\n",
       "      <th>3</th>\n",
       "      <td>CRIME</td>\n",
       "      <td>1299</td>\n",
       "    </tr>\n",
       "    <tr>\n",
       "      <th>4</th>\n",
       "      <td>ADVENTURE</td>\n",
       "      <td>1240</td>\n",
       "    </tr>\n",
       "  </tbody>\n",
       "</table>\n",
       "</div>"
      ],
      "text/plain": [
       "       Genre  count\n",
       "0      DRAMA   3690\n",
       "1     COMEDY   2465\n",
       "2     ACTION   1599\n",
       "3      CRIME   1299\n",
       "4  ADVENTURE   1240"
      ]
     },
     "execution_count": 134,
     "metadata": {},
     "output_type": "execute_result"
    }
   ],
   "source": [
    "# count the number of movies categorized in each genre\n",
    "movies_df.explode('Genre', ',')['Genre'].value_counts().reset_index()[:5]   # top 5"
   ]
  },
  {
   "cell_type": "markdown",
   "metadata": {},
   "source": [
    "The top 5 most occuring genres are drama, comedy, action, crime, and adventure. "
   ]
  },
  {
   "cell_type": "code",
   "execution_count": null,
   "metadata": {},
   "outputs": [
    {
     "data": {
      "text/plain": [
       "['DRAMA']"
      ]
     },
     "execution_count": 135,
     "metadata": {},
     "output_type": "execute_result"
    }
   ],
   "source": [
    "movies_df['Genre'][0]"
   ]
  },
  {
   "cell_type": "markdown",
   "metadata": {},
   "source": [
    "### Content Based Recommender\n",
    "\n",
    "Let's first create a content-based recommender using the description. In order to do this, we must first vectorize the description. "
   ]
  },
  {
   "cell_type": "code",
   "execution_count": null,
   "metadata": {},
   "outputs": [
    {
     "data": {
      "text/plain": [
       "(6480, 15772)"
      ]
     },
     "execution_count": 136,
     "metadata": {},
     "output_type": "execute_result"
    }
   ],
   "source": [
    "# import TfidfVectorizer\n",
    "from sklearn.feature_extraction.text import TfidfVectorizer\n",
    "\n",
    "tfidf = TfidfVectorizer(stop_words='english')\n",
    "\n",
    "# make TF-IDF matrix\n",
    "tfidf_matrix = tfidf.fit_transform(movies_df['Description'])\n",
    "\n",
    "# output shape\n",
    "tfidf_matrix.shape"
   ]
  },
  {
   "cell_type": "markdown",
   "metadata": {},
   "source": [
    "We will use cosine simlarity scores to compare the similarities between descriptions. "
   ]
  },
  {
   "cell_type": "code",
   "execution_count": null,
   "metadata": {},
   "outputs": [],
   "source": [
    "# import linear_kernel\n",
    "from sklearn.metrics.pairwise import linear_kernel\n",
    "\n",
    "# cosine similarity matrix\n",
    "cosine_sim = linear_kernel(tfidf_matrix, tfidf_matrix)"
   ]
  },
  {
   "cell_type": "code",
   "execution_count": null,
   "metadata": {},
   "outputs": [],
   "source": [
    "# reverse map of indices and movie titles\n",
    "indices = pd.Series(movies_df.index, index=movies_df['Movie Name']).drop_duplicates()"
   ]
  },
  {
   "cell_type": "code",
   "execution_count": null,
   "metadata": {},
   "outputs": [],
   "source": [
    "# Function that takes in movie title as input and outputs most similar movies\n",
    "def get_recommendations(title, cosine_sim=cosine_sim):\n",
    "    # Get the index of the movie that matches the title\n",
    "    idx = indices[title]\n",
    "\n",
    "    # Get the pairwsie similarity scores of all movies with that movie\n",
    "    sim_scores = list(enumerate(cosine_sim[idx]))\n",
    "\n",
    "    # Sort the movies based on the similarity scores\n",
    "    sim_scores = sorted(sim_scores, key=lambda x: x[1], reverse=True)\n",
    "\n",
    "    # Get the scores of the 10 most similar movies\n",
    "    sim_scores = sim_scores[1:11]\n",
    "\n",
    "    # Get the movie indices\n",
    "    movie_indices = [i[0] for i in sim_scores]\n",
    "\n",
    "    # Return the top 10 most similar movies\n",
    "    return movies_df['Movie Name'].iloc[movie_indices]"
   ]
  },
  {
   "cell_type": "code",
   "execution_count": null,
   "metadata": {},
   "outputs": [
    {
     "data": {
      "text/plain": [
       "20      The Lord of the Rings: The Two Towers (2002)\n",
       "9178                    Beverly Hills Cop III (1994)\n",
       "704                X-Men: Days of Future Past (2014)\n",
       "910       The Hobbit: The Desolation of Smaug (2013)\n",
       "5870                    Under the Silver Lake (2018)\n",
       "1149                          The Dirty Dozen (1967)\n",
       "4194                      Conan the Barbarian (1982)\n",
       "6797                                Rock Star (2001)\n",
       "4894                                 Red Road (2006)\n",
       "6676                           Under the Skin (2013)\n",
       "Name: Movie Name, dtype: object"
      ]
     },
     "execution_count": 140,
     "metadata": {},
     "output_type": "execute_result"
    }
   ],
   "source": [
    "get_recommendations('The Dark Knight (2008)')"
   ]
  },
  {
   "cell_type": "code",
   "execution_count": null,
   "metadata": {},
   "outputs": [],
   "source": [
    "from sklearn.feature_extraction.text import TfidfVectorizer\n",
    "from sklearn.metrics.pairwise import linear_kernel"
   ]
  },
  {
   "cell_type": "markdown",
   "metadata": {},
   "source": [
    "### Additional Resources:\n",
    "\n",
    "- IMDb weighted rating: https://www.quora.com/How-does-IMDbs-rating-system-work\n",
    "- https://www.datacamp.com/tutorial/recommender-systems-python"
   ]
  }
 ],
 "metadata": {
  "kernelspec": {
   "display_name": "Python 3",
   "language": "python",
   "name": "python3"
  },
  "language_info": {
   "codemirror_mode": {
    "name": "ipython",
    "version": 3
   },
   "file_extension": ".py",
   "mimetype": "text/x-python",
   "name": "python",
   "nbconvert_exporter": "python",
   "pygments_lexer": "ipython3",
   "version": "3.10.6"
  }
 },
 "nbformat": 4,
 "nbformat_minor": 2
}
