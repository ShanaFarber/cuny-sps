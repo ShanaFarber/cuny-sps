{
 "cells": [
  {
   "cell_type": "markdown",
   "metadata": {},
   "source": [
    "# Story - 4 : How much do we get paid?\n",
    "\n",
    "I have introduced the term \"Data Practitioner\" as a generic job descriptor because we have so many different job role titles for individuals whose work activities overlap including Data Scientist, Data Engineer, Data Analyst, Business Analyst, Data Architect, etc.\n",
    "\n",
    "For this story we will answer the question, \"**How much do we get paid?**\" Your analysis and data visualizations must address the variation in average salary based on role descriptor and state.\n",
    "\n",
    "Notes:\n",
    "\n",
    "- You will need to identify reliable sources for salary data and assemble the data sets that you will need.\n",
    "- Your visualization(s) must show the most salient information (variation in average salary by role and by state).\n",
    "- For this Story you must use a code library and code that you have written in R, Python or Java Script (additional coding in other languages is allowed).\n",
    "- Post generation enhancements to you generated visualization will be allowed (e.g. Addition of kickers and labels).\n",
    "- This assignment is due at the end of the week eight of the semester."
   ]
  },
  {
   "cell_type": "markdown",
   "metadata": {},
   "source": [
    "Data was scraped from job listings on https://ai-jobs.net/ and supplemented with glassdoor job listings from a [Kaggle dataset](https://www.kaggle.com/datasets/thedevastator/jobs-dataset-from-glassdoor?select=salary_data_cleaned.csv)."
   ]
  },
  {
   "cell_type": "code",
   "execution_count": 776,
   "metadata": {},
   "outputs": [
    {
     "data": {
      "text/html": [
       "<div>\n",
       "<style scoped>\n",
       "    .dataframe tbody tr th:only-of-type {\n",
       "        vertical-align: middle;\n",
       "    }\n",
       "\n",
       "    .dataframe tbody tr th {\n",
       "        vertical-align: top;\n",
       "    }\n",
       "\n",
       "    .dataframe thead th {\n",
       "        text-align: right;\n",
       "    }\n",
       "</style>\n",
       "<table border=\"1\" class=\"dataframe\">\n",
       "  <thead>\n",
       "    <tr style=\"text-align: right;\">\n",
       "      <th></th>\n",
       "      <th>job_title</th>\n",
       "      <th>location</th>\n",
       "      <th>salary_range</th>\n",
       "      <th>level</th>\n",
       "      <th>skills</th>\n",
       "    </tr>\n",
       "  </thead>\n",
       "  <tbody>\n",
       "    <tr>\n",
       "      <th>0</th>\n",
       "      <td>Data Engineer</td>\n",
       "      <td>Remote, United States</td>\n",
       "      <td>USD 100K - 130K</td>\n",
       "      <td>Mid-level</td>\n",
       "      <td>Airflow, Architecture, AWS, Computer Science, ...</td>\n",
       "    </tr>\n",
       "    <tr>\n",
       "      <th>1</th>\n",
       "      <td>Lead AI/ML Engineer</td>\n",
       "      <td>Remote, Europe</td>\n",
       "      <td>NaN</td>\n",
       "      <td>Senior-level</td>\n",
       "      <td>APIs, Architecture, Computer Science, Engineer...</td>\n",
       "    </tr>\n",
       "    <tr>\n",
       "      <th>2</th>\n",
       "      <td>Founding AI Engineer</td>\n",
       "      <td>San Francisco, CA</td>\n",
       "      <td>USD 120K - 180K</td>\n",
       "      <td>NaN</td>\n",
       "      <td>Agile, Asana, AWS, Computer Vision, DevOps, GC...</td>\n",
       "    </tr>\n",
       "    <tr>\n",
       "      <th>3</th>\n",
       "      <td>Staff Research Scientist, AI/ML</td>\n",
       "      <td>Redwood City, CA</td>\n",
       "      <td>USD 270K - 405K</td>\n",
       "      <td>Mid-level</td>\n",
       "      <td>Architecture, Biology, Computer Science, Data ...</td>\n",
       "    </tr>\n",
       "    <tr>\n",
       "      <th>4</th>\n",
       "      <td>Senior Machine Learning Engineer, Science</td>\n",
       "      <td>Redwood City, California</td>\n",
       "      <td>USD 190K - 285K</td>\n",
       "      <td>Mid-level</td>\n",
       "      <td>Architecture, Biology, Computer Science, Data ...</td>\n",
       "    </tr>\n",
       "  </tbody>\n",
       "</table>\n",
       "</div>"
      ],
      "text/plain": [
       "                                   job_title                  location  \\\n",
       "0                              Data Engineer     Remote, United States   \n",
       "1                        Lead AI/ML Engineer            Remote, Europe   \n",
       "2                       Founding AI Engineer         San Francisco, CA   \n",
       "3            Staff Research Scientist, AI/ML          Redwood City, CA   \n",
       "4  Senior Machine Learning Engineer, Science  Redwood City, California   \n",
       "\n",
       "      salary_range         level  \\\n",
       "0  USD 100K - 130K     Mid-level   \n",
       "1              NaN  Senior-level   \n",
       "2  USD 120K - 180K           NaN   \n",
       "3  USD 270K - 405K     Mid-level   \n",
       "4  USD 190K - 285K     Mid-level   \n",
       "\n",
       "                                              skills  \n",
       "0  Airflow, Architecture, AWS, Computer Science, ...  \n",
       "1  APIs, Architecture, Computer Science, Engineer...  \n",
       "2  Agile, Asana, AWS, Computer Vision, DevOps, GC...  \n",
       "3  Architecture, Biology, Computer Science, Data ...  \n",
       "4  Architecture, Biology, Computer Science, Data ...  "
      ]
     },
     "execution_count": 776,
     "metadata": {},
     "output_type": "execute_result"
    }
   ],
   "source": [
    "import pandas as pd\n",
    "import numpy as np\n",
    "import re\n",
    "import warnings\n",
    "import matplotlib.pyplot as plt\n",
    "\n",
    "warnings.filterwarnings('ignore')\n",
    "\n",
    "scrape_df = pd.read_csv('https://raw.githubusercontent.com/ShanaFarber/cuny-sps/master/DATA_608/Story4/jobs_scrape.csv')\n",
    "glassdoor_df = pd.read_csv('https://raw.githubusercontent.com/ShanaFarber/cuny-sps/master/DATA_608/Story4/glassdoor_jobs.csv')\n",
    "states_df = pd.read_csv('https://raw.githubusercontent.com/ShanaFarber/cuny-sps/master/DATA_608/Story4/state-abbr.csv')\n",
    "\n",
    "scrape_df.head()"
   ]
  },
  {
   "cell_type": "code",
   "execution_count": 777,
   "metadata": {},
   "outputs": [
    {
     "data": {
      "text/html": [
       "<div>\n",
       "<style scoped>\n",
       "    .dataframe tbody tr th:only-of-type {\n",
       "        vertical-align: middle;\n",
       "    }\n",
       "\n",
       "    .dataframe tbody tr th {\n",
       "        vertical-align: top;\n",
       "    }\n",
       "\n",
       "    .dataframe thead th {\n",
       "        text-align: right;\n",
       "    }\n",
       "</style>\n",
       "<table border=\"1\" class=\"dataframe\">\n",
       "  <thead>\n",
       "    <tr style=\"text-align: right;\">\n",
       "      <th></th>\n",
       "      <th>Unnamed: 0</th>\n",
       "      <th>Job Title</th>\n",
       "      <th>Salary Estimate</th>\n",
       "      <th>Job Description</th>\n",
       "      <th>Rating</th>\n",
       "      <th>Company Name</th>\n",
       "      <th>Location</th>\n",
       "      <th>Headquarters</th>\n",
       "      <th>Size</th>\n",
       "      <th>Founded</th>\n",
       "      <th>Type of ownership</th>\n",
       "      <th>Industry</th>\n",
       "      <th>Sector</th>\n",
       "      <th>Revenue</th>\n",
       "      <th>Competitors</th>\n",
       "    </tr>\n",
       "  </thead>\n",
       "  <tbody>\n",
       "    <tr>\n",
       "      <th>0</th>\n",
       "      <td>0</td>\n",
       "      <td>Data Scientist</td>\n",
       "      <td>$53K-$91K (Glassdoor est.)</td>\n",
       "      <td>Data Scientist\\nLocation: Albuquerque, NM\\nEdu...</td>\n",
       "      <td>3.8</td>\n",
       "      <td>Tecolote Research\\n3.8</td>\n",
       "      <td>Albuquerque, NM</td>\n",
       "      <td>Goleta, CA</td>\n",
       "      <td>501 to 1000 employees</td>\n",
       "      <td>1973</td>\n",
       "      <td>Company - Private</td>\n",
       "      <td>Aerospace &amp; Defense</td>\n",
       "      <td>Aerospace &amp; Defense</td>\n",
       "      <td>$50 to $100 million (USD)</td>\n",
       "      <td>-1</td>\n",
       "    </tr>\n",
       "    <tr>\n",
       "      <th>1</th>\n",
       "      <td>1</td>\n",
       "      <td>Healthcare Data Scientist</td>\n",
       "      <td>$63K-$112K (Glassdoor est.)</td>\n",
       "      <td>What You Will Do:\\n\\nI. General Summary\\n\\nThe...</td>\n",
       "      <td>3.4</td>\n",
       "      <td>University of Maryland Medical System\\n3.4</td>\n",
       "      <td>Linthicum, MD</td>\n",
       "      <td>Baltimore, MD</td>\n",
       "      <td>10000+ employees</td>\n",
       "      <td>1984</td>\n",
       "      <td>Other Organization</td>\n",
       "      <td>Health Care Services &amp; Hospitals</td>\n",
       "      <td>Health Care</td>\n",
       "      <td>$2 to $5 billion (USD)</td>\n",
       "      <td>-1</td>\n",
       "    </tr>\n",
       "    <tr>\n",
       "      <th>2</th>\n",
       "      <td>2</td>\n",
       "      <td>Data Scientist</td>\n",
       "      <td>$80K-$90K (Glassdoor est.)</td>\n",
       "      <td>KnowBe4, Inc. is a high growth information sec...</td>\n",
       "      <td>4.8</td>\n",
       "      <td>KnowBe4\\n4.8</td>\n",
       "      <td>Clearwater, FL</td>\n",
       "      <td>Clearwater, FL</td>\n",
       "      <td>501 to 1000 employees</td>\n",
       "      <td>2010</td>\n",
       "      <td>Company - Private</td>\n",
       "      <td>Security Services</td>\n",
       "      <td>Business Services</td>\n",
       "      <td>$100 to $500 million (USD)</td>\n",
       "      <td>-1</td>\n",
       "    </tr>\n",
       "    <tr>\n",
       "      <th>3</th>\n",
       "      <td>3</td>\n",
       "      <td>Data Scientist</td>\n",
       "      <td>$56K-$97K (Glassdoor est.)</td>\n",
       "      <td>*Organization and Job ID**\\nJob ID: 310709\\n\\n...</td>\n",
       "      <td>3.8</td>\n",
       "      <td>PNNL\\n3.8</td>\n",
       "      <td>Richland, WA</td>\n",
       "      <td>Richland, WA</td>\n",
       "      <td>1001 to 5000 employees</td>\n",
       "      <td>1965</td>\n",
       "      <td>Government</td>\n",
       "      <td>Energy</td>\n",
       "      <td>Oil, Gas, Energy &amp; Utilities</td>\n",
       "      <td>$500 million to $1 billion (USD)</td>\n",
       "      <td>Oak Ridge National Laboratory, National Renewa...</td>\n",
       "    </tr>\n",
       "    <tr>\n",
       "      <th>4</th>\n",
       "      <td>4</td>\n",
       "      <td>Data Scientist</td>\n",
       "      <td>$86K-$143K (Glassdoor est.)</td>\n",
       "      <td>Data Scientist\\nAffinity Solutions / Marketing...</td>\n",
       "      <td>2.9</td>\n",
       "      <td>Affinity Solutions\\n2.9</td>\n",
       "      <td>New York, NY</td>\n",
       "      <td>New York, NY</td>\n",
       "      <td>51 to 200 employees</td>\n",
       "      <td>1998</td>\n",
       "      <td>Company - Private</td>\n",
       "      <td>Advertising &amp; Marketing</td>\n",
       "      <td>Business Services</td>\n",
       "      <td>Unknown / Non-Applicable</td>\n",
       "      <td>Commerce Signals, Cardlytics, Yodlee</td>\n",
       "    </tr>\n",
       "  </tbody>\n",
       "</table>\n",
       "</div>"
      ],
      "text/plain": [
       "   Unnamed: 0                  Job Title              Salary Estimate  \\\n",
       "0           0             Data Scientist   $53K-$91K (Glassdoor est.)   \n",
       "1           1  Healthcare Data Scientist  $63K-$112K (Glassdoor est.)   \n",
       "2           2             Data Scientist   $80K-$90K (Glassdoor est.)   \n",
       "3           3             Data Scientist   $56K-$97K (Glassdoor est.)   \n",
       "4           4             Data Scientist  $86K-$143K (Glassdoor est.)   \n",
       "\n",
       "                                     Job Description  Rating  \\\n",
       "0  Data Scientist\\nLocation: Albuquerque, NM\\nEdu...     3.8   \n",
       "1  What You Will Do:\\n\\nI. General Summary\\n\\nThe...     3.4   \n",
       "2  KnowBe4, Inc. is a high growth information sec...     4.8   \n",
       "3  *Organization and Job ID**\\nJob ID: 310709\\n\\n...     3.8   \n",
       "4  Data Scientist\\nAffinity Solutions / Marketing...     2.9   \n",
       "\n",
       "                                 Company Name         Location  \\\n",
       "0                      Tecolote Research\\n3.8  Albuquerque, NM   \n",
       "1  University of Maryland Medical System\\n3.4    Linthicum, MD   \n",
       "2                                KnowBe4\\n4.8   Clearwater, FL   \n",
       "3                                   PNNL\\n3.8     Richland, WA   \n",
       "4                     Affinity Solutions\\n2.9     New York, NY   \n",
       "\n",
       "     Headquarters                    Size  Founded   Type of ownership  \\\n",
       "0      Goleta, CA   501 to 1000 employees     1973   Company - Private   \n",
       "1   Baltimore, MD        10000+ employees     1984  Other Organization   \n",
       "2  Clearwater, FL   501 to 1000 employees     2010   Company - Private   \n",
       "3    Richland, WA  1001 to 5000 employees     1965          Government   \n",
       "4    New York, NY     51 to 200 employees     1998   Company - Private   \n",
       "\n",
       "                           Industry                        Sector  \\\n",
       "0               Aerospace & Defense           Aerospace & Defense   \n",
       "1  Health Care Services & Hospitals                   Health Care   \n",
       "2                 Security Services             Business Services   \n",
       "3                            Energy  Oil, Gas, Energy & Utilities   \n",
       "4           Advertising & Marketing             Business Services   \n",
       "\n",
       "                            Revenue  \\\n",
       "0         $50 to $100 million (USD)   \n",
       "1            $2 to $5 billion (USD)   \n",
       "2        $100 to $500 million (USD)   \n",
       "3  $500 million to $1 billion (USD)   \n",
       "4          Unknown / Non-Applicable   \n",
       "\n",
       "                                         Competitors  \n",
       "0                                                 -1  \n",
       "1                                                 -1  \n",
       "2                                                 -1  \n",
       "3  Oak Ridge National Laboratory, National Renewa...  \n",
       "4               Commerce Signals, Cardlytics, Yodlee  "
      ]
     },
     "execution_count": 777,
     "metadata": {},
     "output_type": "execute_result"
    }
   ],
   "source": [
    "glassdoor_df.head()"
   ]
  },
  {
   "cell_type": "markdown",
   "metadata": {},
   "source": [
    "### Merging Datasets\n",
    "\n",
    "The goal of this assignment is to compare salaries across job roles/titles and states. The relevant columsn for the scraped job listings are `job_title`, `location`, and `salary_range`. The relevant columns from the glassdoor listings taken from Kaggle are `Job Title`, `Location`, and `Salary Estimate`. In order to combine these datasets, the columns titles will need to be the same so we will use the columns names from the scraped job dataset. "
   ]
  },
  {
   "cell_type": "code",
   "execution_count": 778,
   "metadata": {},
   "outputs": [
    {
     "data": {
      "text/html": [
       "<div>\n",
       "<style scoped>\n",
       "    .dataframe tbody tr th:only-of-type {\n",
       "        vertical-align: middle;\n",
       "    }\n",
       "\n",
       "    .dataframe tbody tr th {\n",
       "        vertical-align: top;\n",
       "    }\n",
       "\n",
       "    .dataframe thead th {\n",
       "        text-align: right;\n",
       "    }\n",
       "</style>\n",
       "<table border=\"1\" class=\"dataframe\">\n",
       "  <thead>\n",
       "    <tr style=\"text-align: right;\">\n",
       "      <th></th>\n",
       "      <th>job_title</th>\n",
       "      <th>location</th>\n",
       "      <th>salary_range</th>\n",
       "    </tr>\n",
       "  </thead>\n",
       "  <tbody>\n",
       "    <tr>\n",
       "      <th>0</th>\n",
       "      <td>Data Engineer</td>\n",
       "      <td>Remote, United States</td>\n",
       "      <td>USD 100K - 130K</td>\n",
       "    </tr>\n",
       "    <tr>\n",
       "      <th>2</th>\n",
       "      <td>Founding AI Engineer</td>\n",
       "      <td>San Francisco, CA</td>\n",
       "      <td>USD 120K - 180K</td>\n",
       "    </tr>\n",
       "    <tr>\n",
       "      <th>3</th>\n",
       "      <td>Staff Research Scientist, AI/ML</td>\n",
       "      <td>Redwood City, CA</td>\n",
       "      <td>USD 270K - 405K</td>\n",
       "    </tr>\n",
       "    <tr>\n",
       "      <th>4</th>\n",
       "      <td>Senior Machine Learning Engineer, Science</td>\n",
       "      <td>Redwood City, California</td>\n",
       "      <td>USD 190K - 285K</td>\n",
       "    </tr>\n",
       "    <tr>\n",
       "      <th>6</th>\n",
       "      <td>Senior Machine Learning Engineer</td>\n",
       "      <td>remote</td>\n",
       "      <td>USD 175K - 200K</td>\n",
       "    </tr>\n",
       "  </tbody>\n",
       "</table>\n",
       "</div>"
      ],
      "text/plain": [
       "                                   job_title                  location  \\\n",
       "0                              Data Engineer     Remote, United States   \n",
       "2                       Founding AI Engineer         San Francisco, CA   \n",
       "3            Staff Research Scientist, AI/ML          Redwood City, CA   \n",
       "4  Senior Machine Learning Engineer, Science  Redwood City, California   \n",
       "6           Senior Machine Learning Engineer                    remote   \n",
       "\n",
       "      salary_range  \n",
       "0  USD 100K - 130K  \n",
       "2  USD 120K - 180K  \n",
       "3  USD 270K - 405K  \n",
       "4  USD 190K - 285K  \n",
       "6  USD 175K - 200K  "
      ]
     },
     "execution_count": 778,
     "metadata": {},
     "output_type": "execute_result"
    }
   ],
   "source": [
    "# extract relevant columns\n",
    "scrape_jobs_df = scrape_df[['job_title', 'location', 'salary_range']]\n",
    "scrape_jobs_df = scrape_jobs_df.dropna()    # drop listings without salary info\n",
    "scrape_jobs_df = scrape_jobs_df[scrape_jobs_df['salary_range'].str.contains('USD')]     # only keep listings in USD\n",
    "\n",
    "glassdoor_jobs_df = pd.DataFrame({'job_title': glassdoor_df['Job Title'],\n",
    "                                  'location': glassdoor_df['Location'],\n",
    "                                  'salary_range': glassdoor_df['Salary Estimate']})\n",
    "\n",
    "# merge dataframes\n",
    "merged_jobs_df = pd.concat([scrape_jobs_df, glassdoor_jobs_df])\n",
    "merged_jobs_df = merged_jobs_df[merged_jobs_df['salary_range'] != '-1']     # remove irregularity\n",
    "\n",
    "merged_jobs_df['job_title'].str.replace('AI/ML Engineer', 'PLACEHOLDER')\n",
    "merged_jobs_df['job_title'].str.replace('ML Engineer', 'Machine Learning Engineer')\n",
    "merged_jobs_df['job_title'].str.replace('PLACEHOLDER', 'AI/ML Engineer')\n",
    "\n",
    "merged_jobs_df.head()"
   ]
  },
  {
   "cell_type": "markdown",
   "metadata": {},
   "source": [
    "### Salary vs. Job Role\n",
    "\n",
    "Since there are many ways of stating the same roles, and some listings may have extra information in the job title, such as a specific department or company, let's filter based on the appearance of specific roles and create a columns of roles within the dataframe. "
   ]
  },
  {
   "cell_type": "code",
   "execution_count": 779,
   "metadata": {},
   "outputs": [
    {
     "data": {
      "text/html": [
       "<div>\n",
       "<style scoped>\n",
       "    .dataframe tbody tr th:only-of-type {\n",
       "        vertical-align: middle;\n",
       "    }\n",
       "\n",
       "    .dataframe tbody tr th {\n",
       "        vertical-align: top;\n",
       "    }\n",
       "\n",
       "    .dataframe thead th {\n",
       "        text-align: right;\n",
       "    }\n",
       "</style>\n",
       "<table border=\"1\" class=\"dataframe\">\n",
       "  <thead>\n",
       "    <tr style=\"text-align: right;\">\n",
       "      <th></th>\n",
       "      <th>job_title</th>\n",
       "      <th>location</th>\n",
       "      <th>salary_range</th>\n",
       "      <th>role</th>\n",
       "    </tr>\n",
       "  </thead>\n",
       "  <tbody>\n",
       "    <tr>\n",
       "      <th>0</th>\n",
       "      <td>Data Engineer</td>\n",
       "      <td>Remote, United States</td>\n",
       "      <td>USD 100K - 130K</td>\n",
       "      <td>Data Engineer</td>\n",
       "    </tr>\n",
       "    <tr>\n",
       "      <th>1</th>\n",
       "      <td>Founding AI Engineer</td>\n",
       "      <td>San Francisco, CA</td>\n",
       "      <td>USD 120K - 180K</td>\n",
       "      <td>AI Engineer</td>\n",
       "    </tr>\n",
       "    <tr>\n",
       "      <th>2</th>\n",
       "      <td>Senior Machine Learning Engineer, Science</td>\n",
       "      <td>Redwood City, California</td>\n",
       "      <td>USD 190K - 285K</td>\n",
       "      <td>Machine Learning Engineer</td>\n",
       "    </tr>\n",
       "    <tr>\n",
       "      <th>3</th>\n",
       "      <td>Senior Machine Learning Engineer</td>\n",
       "      <td>remote</td>\n",
       "      <td>USD 175K - 200K</td>\n",
       "      <td>Machine Learning Engineer</td>\n",
       "    </tr>\n",
       "    <tr>\n",
       "      <th>4</th>\n",
       "      <td>Staff Machine Learning Engineer (Tech Lead)</td>\n",
       "      <td>Remote</td>\n",
       "      <td>USD 190K - 250K</td>\n",
       "      <td>Machine Learning Engineer</td>\n",
       "    </tr>\n",
       "  </tbody>\n",
       "</table>\n",
       "</div>"
      ],
      "text/plain": [
       "                                     job_title                  location  \\\n",
       "0                                Data Engineer     Remote, United States   \n",
       "1                         Founding AI Engineer         San Francisco, CA   \n",
       "2    Senior Machine Learning Engineer, Science  Redwood City, California   \n",
       "3             Senior Machine Learning Engineer                    remote   \n",
       "4  Staff Machine Learning Engineer (Tech Lead)                    Remote   \n",
       "\n",
       "      salary_range                       role  \n",
       "0  USD 100K - 130K              Data Engineer  \n",
       "1  USD 120K - 180K                AI Engineer  \n",
       "2  USD 190K - 285K  Machine Learning Engineer  \n",
       "3  USD 175K - 200K  Machine Learning Engineer  \n",
       "4  USD 190K - 250K  Machine Learning Engineer  "
      ]
     },
     "execution_count": 779,
     "metadata": {},
     "output_type": "execute_result"
    }
   ],
   "source": [
    "# filter based on choice roles\n",
    "roles = ['Data Scientist', 'Data Analyst', 'Data Engineer', 'Machine Learning Engineer', 'Machine Learning Researcher', 'Data Architect', 'Business Analyst', 'Business Intelligence Analyst', 'Business Intelligence Engineer', 'AI/ML Engineer', 'AI Scientist', 'Data Quality Analyst', 'AI Engineer']\n",
    "\n",
    "filtered_jobs_df = merged_jobs_df[merged_jobs_df['job_title'].apply(lambda x: any(sub in x for sub in roles))].reset_index(drop=True)\n",
    "\n",
    "job_roles = []\n",
    "for title in filtered_jobs_df['job_title']:\n",
    "    job_role = []\n",
    "    for role in roles:\n",
    "        if role in title:\n",
    "            job_role.append(role)\n",
    "    job_roles.append(', '.join(job_role))\n",
    "\n",
    "# create role column\n",
    "filtered_jobs_df['role'] = job_roles\n",
    "\n",
    "filtered_jobs_df.head()"
   ]
  },
  {
   "cell_type": "markdown",
   "metadata": {},
   "source": [
    "Now let's clean up and split the salary ranges and take the average salary for each listing. "
   ]
  },
  {
   "cell_type": "code",
   "execution_count": 780,
   "metadata": {},
   "outputs": [
    {
     "data": {
      "text/html": [
       "<div>\n",
       "<style scoped>\n",
       "    .dataframe tbody tr th:only-of-type {\n",
       "        vertical-align: middle;\n",
       "    }\n",
       "\n",
       "    .dataframe tbody tr th {\n",
       "        vertical-align: top;\n",
       "    }\n",
       "\n",
       "    .dataframe thead th {\n",
       "        text-align: right;\n",
       "    }\n",
       "</style>\n",
       "<table border=\"1\" class=\"dataframe\">\n",
       "  <thead>\n",
       "    <tr style=\"text-align: right;\">\n",
       "      <th></th>\n",
       "      <th>job_title</th>\n",
       "      <th>location</th>\n",
       "      <th>salary_range</th>\n",
       "      <th>role</th>\n",
       "      <th>salary_lower</th>\n",
       "      <th>salary_upper</th>\n",
       "      <th>avg_salary</th>\n",
       "    </tr>\n",
       "  </thead>\n",
       "  <tbody>\n",
       "    <tr>\n",
       "      <th>0</th>\n",
       "      <td>Data Engineer</td>\n",
       "      <td>Remote, United States</td>\n",
       "      <td>100000-130000</td>\n",
       "      <td>Data Engineer</td>\n",
       "      <td>100000</td>\n",
       "      <td>130000</td>\n",
       "      <td>115000.0</td>\n",
       "    </tr>\n",
       "    <tr>\n",
       "      <th>1</th>\n",
       "      <td>Founding AI Engineer</td>\n",
       "      <td>San Francisco, CA</td>\n",
       "      <td>120000-180000</td>\n",
       "      <td>AI Engineer</td>\n",
       "      <td>120000</td>\n",
       "      <td>180000</td>\n",
       "      <td>150000.0</td>\n",
       "    </tr>\n",
       "    <tr>\n",
       "      <th>2</th>\n",
       "      <td>Senior Machine Learning Engineer, Science</td>\n",
       "      <td>Redwood City, California</td>\n",
       "      <td>190000-285000</td>\n",
       "      <td>Machine Learning Engineer</td>\n",
       "      <td>190000</td>\n",
       "      <td>285000</td>\n",
       "      <td>237500.0</td>\n",
       "    </tr>\n",
       "    <tr>\n",
       "      <th>3</th>\n",
       "      <td>Senior Machine Learning Engineer</td>\n",
       "      <td>remote</td>\n",
       "      <td>175000-200000</td>\n",
       "      <td>Machine Learning Engineer</td>\n",
       "      <td>175000</td>\n",
       "      <td>200000</td>\n",
       "      <td>187500.0</td>\n",
       "    </tr>\n",
       "    <tr>\n",
       "      <th>4</th>\n",
       "      <td>Staff Machine Learning Engineer (Tech Lead)</td>\n",
       "      <td>Remote</td>\n",
       "      <td>190000-250000</td>\n",
       "      <td>Machine Learning Engineer</td>\n",
       "      <td>190000</td>\n",
       "      <td>250000</td>\n",
       "      <td>220000.0</td>\n",
       "    </tr>\n",
       "  </tbody>\n",
       "</table>\n",
       "</div>"
      ],
      "text/plain": [
       "                                     job_title                  location  \\\n",
       "0                                Data Engineer     Remote, United States   \n",
       "1                         Founding AI Engineer         San Francisco, CA   \n",
       "2    Senior Machine Learning Engineer, Science  Redwood City, California   \n",
       "3             Senior Machine Learning Engineer                    remote   \n",
       "4  Staff Machine Learning Engineer (Tech Lead)                    Remote   \n",
       "\n",
       "    salary_range                       role  salary_lower  salary_upper  \\\n",
       "0  100000-130000              Data Engineer        100000        130000   \n",
       "1  120000-180000                AI Engineer        120000        180000   \n",
       "2  190000-285000  Machine Learning Engineer        190000        285000   \n",
       "3  175000-200000  Machine Learning Engineer        175000        200000   \n",
       "4  190000-250000  Machine Learning Engineer        190000        250000   \n",
       "\n",
       "   avg_salary  \n",
       "0    115000.0  \n",
       "1    150000.0  \n",
       "2    237500.0  \n",
       "3    187500.0  \n",
       "4    220000.0  "
      ]
     },
     "execution_count": 780,
     "metadata": {},
     "output_type": "execute_result"
    }
   ],
   "source": [
    "# split salary range into upper and lower\n",
    "filtered_jobs_df['salary_range'] = filtered_jobs_df['salary_range'].apply(lambda x: re.sub('([USD \\*$:]|\\(.*\\))', '', x)).str.replace('K', '000')\n",
    "filtered_jobs_df['salary_range'] = filtered_jobs_df['salary_range'].apply(lambda x: re.sub('[A-Za-z]', '', x))\n",
    "\n",
    "filtered_jobs_df[['salary_lower', 'salary_upper']] = filtered_jobs_df['salary_range'].str.split('-', expand=True)\n",
    "filtered_jobs_df['salary_lower'] = filtered_jobs_df['salary_lower'].astype(int)\n",
    "filtered_jobs_df['salary_upper'] = filtered_jobs_df['salary_upper'].fillna(0).astype(int)\n",
    "\n",
    "filtered_jobs_df['avg_salary'] = filtered_jobs_df[['salary_lower', 'salary_upper']].mean(axis=1)\n",
    "\n",
    "filtered_jobs_df.head()"
   ]
  },
  {
   "cell_type": "markdown",
   "metadata": {},
   "source": [
    "Now we can take the average salary for each role and graph."
   ]
  },
  {
   "cell_type": "code",
   "execution_count": 781,
   "metadata": {},
   "outputs": [
    {
     "data": {
      "text/html": [
       "<div>\n",
       "<style scoped>\n",
       "    .dataframe tbody tr th:only-of-type {\n",
       "        vertical-align: middle;\n",
       "    }\n",
       "\n",
       "    .dataframe tbody tr th {\n",
       "        vertical-align: top;\n",
       "    }\n",
       "\n",
       "    .dataframe thead th {\n",
       "        text-align: right;\n",
       "    }\n",
       "</style>\n",
       "<table border=\"1\" class=\"dataframe\">\n",
       "  <thead>\n",
       "    <tr style=\"text-align: right;\">\n",
       "      <th></th>\n",
       "      <th>role</th>\n",
       "      <th>avg_salary</th>\n",
       "    </tr>\n",
       "  </thead>\n",
       "  <tbody>\n",
       "    <tr>\n",
       "      <th>3</th>\n",
       "      <td>Business Analyst</td>\n",
       "      <td>72000.000000</td>\n",
       "    </tr>\n",
       "    <tr>\n",
       "      <th>13</th>\n",
       "      <td>Data Quality Analyst</td>\n",
       "      <td>89875.000000</td>\n",
       "    </tr>\n",
       "    <tr>\n",
       "      <th>7</th>\n",
       "      <td>Data Analyst, Business Analyst</td>\n",
       "      <td>90000.000000</td>\n",
       "    </tr>\n",
       "    <tr>\n",
       "      <th>6</th>\n",
       "      <td>Data Analyst</td>\n",
       "      <td>94077.233276</td>\n",
       "    </tr>\n",
       "    <tr>\n",
       "      <th>1</th>\n",
       "      <td>AI Scientist</td>\n",
       "      <td>103875.000000</td>\n",
       "    </tr>\n",
       "    <tr>\n",
       "      <th>9</th>\n",
       "      <td>Data Architect, Business Intelligence Analyst</td>\n",
       "      <td>107500.000000</td>\n",
       "    </tr>\n",
       "    <tr>\n",
       "      <th>16</th>\n",
       "      <td>Data Scientist, Data Analyst</td>\n",
       "      <td>111000.000000</td>\n",
       "    </tr>\n",
       "    <tr>\n",
       "      <th>15</th>\n",
       "      <td>Data Scientist, Business Analyst</td>\n",
       "      <td>117500.000000</td>\n",
       "    </tr>\n",
       "    <tr>\n",
       "      <th>18</th>\n",
       "      <td>Data Scientist, Machine Learning Engineer</td>\n",
       "      <td>123000.000000</td>\n",
       "    </tr>\n",
       "    <tr>\n",
       "      <th>4</th>\n",
       "      <td>Business Intelligence Analyst</td>\n",
       "      <td>128546.511628</td>\n",
       "    </tr>\n",
       "    <tr>\n",
       "      <th>20</th>\n",
       "      <td>Machine Learning Researcher</td>\n",
       "      <td>130000.000000</td>\n",
       "    </tr>\n",
       "    <tr>\n",
       "      <th>10</th>\n",
       "      <td>Data Engineer</td>\n",
       "      <td>131681.132075</td>\n",
       "    </tr>\n",
       "    <tr>\n",
       "      <th>14</th>\n",
       "      <td>Data Scientist</td>\n",
       "      <td>137107.969152</td>\n",
       "    </tr>\n",
       "    <tr>\n",
       "      <th>8</th>\n",
       "      <td>Data Architect</td>\n",
       "      <td>144589.887640</td>\n",
       "    </tr>\n",
       "    <tr>\n",
       "      <th>5</th>\n",
       "      <td>Business Intelligence Engineer</td>\n",
       "      <td>152590.909091</td>\n",
       "    </tr>\n",
       "    <tr>\n",
       "      <th>17</th>\n",
       "      <td>Data Scientist, Data Engineer</td>\n",
       "      <td>155250.000000</td>\n",
       "    </tr>\n",
       "    <tr>\n",
       "      <th>12</th>\n",
       "      <td>Data Engineer, Machine Learning Engineer</td>\n",
       "      <td>155500.000000</td>\n",
       "    </tr>\n",
       "    <tr>\n",
       "      <th>11</th>\n",
       "      <td>Data Engineer, Data Architect</td>\n",
       "      <td>157000.000000</td>\n",
       "    </tr>\n",
       "    <tr>\n",
       "      <th>19</th>\n",
       "      <td>Machine Learning Engineer</td>\n",
       "      <td>170618.483412</td>\n",
       "    </tr>\n",
       "    <tr>\n",
       "      <th>0</th>\n",
       "      <td>AI Engineer</td>\n",
       "      <td>178230.769231</td>\n",
       "    </tr>\n",
       "    <tr>\n",
       "      <th>2</th>\n",
       "      <td>AI/ML Engineer</td>\n",
       "      <td>202916.666667</td>\n",
       "    </tr>\n",
       "  </tbody>\n",
       "</table>\n",
       "</div>"
      ],
      "text/plain": [
       "                                             role     avg_salary\n",
       "3                                Business Analyst   72000.000000\n",
       "13                           Data Quality Analyst   89875.000000\n",
       "7                  Data Analyst, Business Analyst   90000.000000\n",
       "6                                    Data Analyst   94077.233276\n",
       "1                                    AI Scientist  103875.000000\n",
       "9   Data Architect, Business Intelligence Analyst  107500.000000\n",
       "16                   Data Scientist, Data Analyst  111000.000000\n",
       "15               Data Scientist, Business Analyst  117500.000000\n",
       "18      Data Scientist, Machine Learning Engineer  123000.000000\n",
       "4                   Business Intelligence Analyst  128546.511628\n",
       "20                    Machine Learning Researcher  130000.000000\n",
       "10                                  Data Engineer  131681.132075\n",
       "14                                 Data Scientist  137107.969152\n",
       "8                                  Data Architect  144589.887640\n",
       "5                  Business Intelligence Engineer  152590.909091\n",
       "17                  Data Scientist, Data Engineer  155250.000000\n",
       "12       Data Engineer, Machine Learning Engineer  155500.000000\n",
       "11                  Data Engineer, Data Architect  157000.000000\n",
       "19                      Machine Learning Engineer  170618.483412\n",
       "0                                     AI Engineer  178230.769231\n",
       "2                                  AI/ML Engineer  202916.666667"
      ]
     },
     "execution_count": 781,
     "metadata": {},
     "output_type": "execute_result"
    }
   ],
   "source": [
    "# avg salary for each role\n",
    "avg_salaries_role = pd.DataFrame(filtered_jobs_df[['role', 'avg_salary']].groupby('role').mean()).reset_index().sort_values('avg_salary')\n",
    "avg_salaries_role"
   ]
  },
  {
   "cell_type": "code",
   "execution_count": 782,
   "metadata": {},
   "outputs": [
    {
     "data": {
      "image/png": "[encoded data removed]",
      "text/plain": [
       "<Figure size 1000x700 with 1 Axes>"
      ]
     },
     "metadata": {},
     "output_type": "display_data"
    }
   ],
   "source": [
    "fig = plt.figure(figsize = (10,7))\n",
    "\n",
    "colors = []\n",
    "for role in avg_salaries_role['role']:\n",
    "    if 'Machine Learning Engineer' in role or 'ML Engineer' in role or 'AI Engineer' in role:\n",
    "        colors.append('#00C957')\n",
    "    else:\n",
    "        colors.append('#BFBFBF')\n",
    " \n",
    "# creating the bar plot\n",
    "plt.barh(avg_salaries_role['role'], avg_salaries_role['avg_salary'], color=colors)\n",
    " \n",
    "plt.xlabel(\"Average Salary\")\n",
    "plt.ylabel(\"Job Role\")\n",
    "plt.title('Machine Learning and Artificial Intelligence Engineers generally have higher salaries')\n",
    "\n",
    "plt.show()"
   ]
  },
  {
   "cell_type": "code",
   "execution_count": 783,
   "metadata": {},
   "outputs": [
    {
     "data": {
      "image/png": "[encoded data removed]",
      "text/plain": [
       "<Figure size 1000x700 with 1 Axes>"
      ]
     },
     "metadata": {},
     "output_type": "display_data"
    }
   ],
   "source": [
    "fig = plt.figure(figsize = (10,7))\n",
    "\n",
    "colors = []\n",
    "for role in avg_salaries_role['role']:\n",
    "    if 'Analyst' in role:\n",
    "        colors.append('#00BFFF')\n",
    "    else:\n",
    "        colors.append('#BFBFBF')\n",
    " \n",
    "# creating the bar plot\n",
    "plt.barh(avg_salaries_role['role'], avg_salaries_role['avg_salary'], color=colors)\n",
    " \n",
    "plt.xlabel(\"Average Salary\")\n",
    "plt.ylabel(\"Job Role\")\n",
    "plt.title('\"Analysts\" are generally paid the least')\n",
    "plt.show()"
   ]
  },
  {
   "cell_type": "code",
   "execution_count": 784,
   "metadata": {},
   "outputs": [
    {
     "data": {
      "image/png": "[encoded data removed]",
      "text/plain": [
       "<Figure size 1000x700 with 1 Axes>"
      ]
     },
     "metadata": {},
     "output_type": "display_data"
    }
   ],
   "source": [
    "fig = plt.figure(figsize = (10,7))\n",
    "\n",
    "colors = []\n",
    "for role in avg_salaries_role['role']:\n",
    "    if 'Engineer' in role:\n",
    "        colors.append('#9A32CD')\n",
    "    else:\n",
    "        colors.append('#BFBFBF')\n",
    " \n",
    "# creating the bar plot\n",
    "plt.barh(avg_salaries_role['role'], avg_salaries_role['avg_salary'], color=colors)\n",
    " \n",
    "plt.xlabel(\"Average Salary\")\n",
    "plt.ylabel(\"Job Role\")\n",
    "plt.title('\"Engineers\" tend to have higher salaries')\n",
    "plt.show()"
   ]
  },
  {
   "cell_type": "markdown",
   "metadata": {},
   "source": [
    "### Salary vs. State\n",
    "\n",
    "For this, we need to extract the state information from each listing. Not all of these listings are in America or have a state listed so the data will need to be filtered. "
   ]
  },
  {
   "cell_type": "code",
   "execution_count": 785,
   "metadata": {},
   "outputs": [],
   "source": [
    "states_abbr = list(states_df['state']) + list(states_df['abbr'])"
   ]
  },
  {
   "cell_type": "code",
   "execution_count": 796,
   "metadata": {},
   "outputs": [
    {
     "data": {
      "text/html": [
       "<div>\n",
       "<style scoped>\n",
       "    .dataframe tbody tr th:only-of-type {\n",
       "        vertical-align: middle;\n",
       "    }\n",
       "\n",
       "    .dataframe tbody tr th {\n",
       "        vertical-align: top;\n",
       "    }\n",
       "\n",
       "    .dataframe thead th {\n",
       "        text-align: right;\n",
       "    }\n",
       "</style>\n",
       "<table border=\"1\" class=\"dataframe\">\n",
       "  <thead>\n",
       "    <tr style=\"text-align: right;\">\n",
       "      <th></th>\n",
       "      <th>job_title</th>\n",
       "      <th>location</th>\n",
       "      <th>salary_range</th>\n",
       "    </tr>\n",
       "  </thead>\n",
       "  <tbody>\n",
       "    <tr>\n",
       "      <th>0</th>\n",
       "      <td>Founding AI Engineer</td>\n",
       "      <td>San Francisco, CA</td>\n",
       "      <td>USD 120K - 180K</td>\n",
       "    </tr>\n",
       "    <tr>\n",
       "      <th>1</th>\n",
       "      <td>Staff Research Scientist, AI/ML</td>\n",
       "      <td>Redwood City, CA</td>\n",
       "      <td>USD 270K - 405K</td>\n",
       "    </tr>\n",
       "    <tr>\n",
       "      <th>2</th>\n",
       "      <td>Senior Machine Learning Engineer, Science</td>\n",
       "      <td>Redwood City, California</td>\n",
       "      <td>USD 190K - 285K</td>\n",
       "    </tr>\n",
       "    <tr>\n",
       "      <th>3</th>\n",
       "      <td>R_00029290 Lead Data Modeler – Remote</td>\n",
       "      <td>Austin, TX</td>\n",
       "      <td>USD 130K - 155K</td>\n",
       "    </tr>\n",
       "    <tr>\n",
       "      <th>4</th>\n",
       "      <td>Data Scientist, Python (Top Secret) - 1001</td>\n",
       "      <td>Denver, CO</td>\n",
       "      <td>USD 136K - 205K *</td>\n",
       "    </tr>\n",
       "    <tr>\n",
       "      <th>...</th>\n",
       "      <td>...</td>\n",
       "      <td>...</td>\n",
       "      <td>...</td>\n",
       "    </tr>\n",
       "    <tr>\n",
       "      <th>1777</th>\n",
       "      <td>Sr Scientist, Immuno-Oncology - Oncology</td>\n",
       "      <td>Cambridge, MA</td>\n",
       "      <td>$58K-$111K (Glassdoor est.)</td>\n",
       "    </tr>\n",
       "    <tr>\n",
       "      <th>1778</th>\n",
       "      <td>Senior Data Engineer</td>\n",
       "      <td>Nashville, TN</td>\n",
       "      <td>$72K-$133K (Glassdoor est.)</td>\n",
       "    </tr>\n",
       "    <tr>\n",
       "      <th>1779</th>\n",
       "      <td>Project Scientist - Auton Lab, Robotics Institute</td>\n",
       "      <td>Pittsburgh, PA</td>\n",
       "      <td>$56K-$91K (Glassdoor est.)</td>\n",
       "    </tr>\n",
       "    <tr>\n",
       "      <th>1780</th>\n",
       "      <td>Data Science Manager</td>\n",
       "      <td>Allentown, PA</td>\n",
       "      <td>$95K-$160K (Glassdoor est.)</td>\n",
       "    </tr>\n",
       "    <tr>\n",
       "      <th>1781</th>\n",
       "      <td>Research Scientist – Security and Privacy</td>\n",
       "      <td>Beavercreek, OH</td>\n",
       "      <td>$61K-$126K (Glassdoor est.)</td>\n",
       "    </tr>\n",
       "  </tbody>\n",
       "</table>\n",
       "<p>1782 rows × 3 columns</p>\n",
       "</div>"
      ],
      "text/plain": [
       "                                              job_title  \\\n",
       "0                                  Founding AI Engineer   \n",
       "1                       Staff Research Scientist, AI/ML   \n",
       "2             Senior Machine Learning Engineer, Science   \n",
       "3                 R_00029290 Lead Data Modeler – Remote   \n",
       "4            Data Scientist, Python (Top Secret) - 1001   \n",
       "...                                                 ...   \n",
       "1777           Sr Scientist, Immuno-Oncology - Oncology   \n",
       "1778                               Senior Data Engineer   \n",
       "1779  Project Scientist - Auton Lab, Robotics Institute   \n",
       "1780                               Data Science Manager   \n",
       "1781          Research Scientist – Security and Privacy   \n",
       "\n",
       "                      location                 salary_range  \n",
       "0            San Francisco, CA              USD 120K - 180K  \n",
       "1             Redwood City, CA              USD 270K - 405K  \n",
       "2     Redwood City, California              USD 190K - 285K  \n",
       "3                   Austin, TX              USD 130K - 155K  \n",
       "4                   Denver, CO            USD 136K - 205K *  \n",
       "...                        ...                          ...  \n",
       "1777             Cambridge, MA  $58K-$111K (Glassdoor est.)  \n",
       "1778             Nashville, TN  $72K-$133K (Glassdoor est.)  \n",
       "1779            Pittsburgh, PA   $56K-$91K (Glassdoor est.)  \n",
       "1780             Allentown, PA  $95K-$160K (Glassdoor est.)  \n",
       "1781           Beavercreek, OH  $61K-$126K (Glassdoor est.)  \n",
       "\n",
       "[1782 rows x 3 columns]"
      ]
     },
     "execution_count": 796,
     "metadata": {},
     "output_type": "execute_result"
    }
   ],
   "source": [
    "# filter for only US state jobs\n",
    "states_jobs_df = merged_jobs_df.assign(location=merged_jobs_df['location'].str.split('; ')).explode('location')\n",
    "states_jobs_df = states_jobs_df[states_jobs_df['location'].apply(lambda x: any(sub in x for sub in states_abbr))].reset_index(drop=True)\n",
    "\n",
    "states_jobs_df"
   ]
  },
  {
   "cell_type": "code",
   "execution_count": 797,
   "metadata": {},
   "outputs": [
    {
     "data": {
      "text/html": [
       "<div>\n",
       "<style scoped>\n",
       "    .dataframe tbody tr th:only-of-type {\n",
       "        vertical-align: middle;\n",
       "    }\n",
       "\n",
       "    .dataframe tbody tr th {\n",
       "        vertical-align: top;\n",
       "    }\n",
       "\n",
       "    .dataframe thead th {\n",
       "        text-align: right;\n",
       "    }\n",
       "</style>\n",
       "<table border=\"1\" class=\"dataframe\">\n",
       "  <thead>\n",
       "    <tr style=\"text-align: right;\">\n",
       "      <th></th>\n",
       "      <th>job_title</th>\n",
       "      <th>location</th>\n",
       "      <th>salary_range</th>\n",
       "      <th>role</th>\n",
       "      <th>salary_lower</th>\n",
       "      <th>salary_upper</th>\n",
       "      <th>avg_salary</th>\n",
       "      <th>state</th>\n",
       "    </tr>\n",
       "  </thead>\n",
       "  <tbody>\n",
       "    <tr>\n",
       "      <th>1</th>\n",
       "      <td>Founding AI Engineer</td>\n",
       "      <td>San Francisco, CA</td>\n",
       "      <td>120000-180000</td>\n",
       "      <td>AI Engineer</td>\n",
       "      <td>120000</td>\n",
       "      <td>180000</td>\n",
       "      <td>150000.0</td>\n",
       "      <td>CA</td>\n",
       "    </tr>\n",
       "    <tr>\n",
       "      <th>2</th>\n",
       "      <td>Senior Machine Learning Engineer, Science</td>\n",
       "      <td>Redwood City, California</td>\n",
       "      <td>190000-285000</td>\n",
       "      <td>Machine Learning Engineer</td>\n",
       "      <td>190000</td>\n",
       "      <td>285000</td>\n",
       "      <td>237500.0</td>\n",
       "      <td>CA</td>\n",
       "    </tr>\n",
       "    <tr>\n",
       "      <th>7</th>\n",
       "      <td>Data Scientist, Python (Top Secret) - 1001</td>\n",
       "      <td>Denver, CO</td>\n",
       "      <td>136000-205000</td>\n",
       "      <td>Data Scientist</td>\n",
       "      <td>136000</td>\n",
       "      <td>205000</td>\n",
       "      <td>170500.0</td>\n",
       "      <td>CO</td>\n",
       "    </tr>\n",
       "    <tr>\n",
       "      <th>14</th>\n",
       "      <td>Senior Data Analyst</td>\n",
       "      <td>Boston, MA, United States</td>\n",
       "      <td>92000-144000</td>\n",
       "      <td>Data Analyst</td>\n",
       "      <td>92000</td>\n",
       "      <td>144000</td>\n",
       "      <td>118000.0</td>\n",
       "      <td>MA</td>\n",
       "    </tr>\n",
       "    <tr>\n",
       "      <th>20</th>\n",
       "      <td>Sr. Machine Learning Engineer</td>\n",
       "      <td>Salt Lake City, UT</td>\n",
       "      <td>150000-230000</td>\n",
       "      <td>Machine Learning Engineer</td>\n",
       "      <td>150000</td>\n",
       "      <td>230000</td>\n",
       "      <td>190000.0</td>\n",
       "      <td>UT</td>\n",
       "    </tr>\n",
       "  </tbody>\n",
       "</table>\n",
       "</div>"
      ],
      "text/plain": [
       "                                     job_title                   location  \\\n",
       "1                         Founding AI Engineer          San Francisco, CA   \n",
       "2    Senior Machine Learning Engineer, Science   Redwood City, California   \n",
       "7   Data Scientist, Python (Top Secret) - 1001                 Denver, CO   \n",
       "14                         Senior Data Analyst  Boston, MA, United States   \n",
       "20               Sr. Machine Learning Engineer         Salt Lake City, UT   \n",
       "\n",
       "     salary_range                       role  salary_lower  salary_upper  \\\n",
       "1   120000-180000                AI Engineer        120000        180000   \n",
       "2   190000-285000  Machine Learning Engineer        190000        285000   \n",
       "7   136000-205000             Data Scientist        136000        205000   \n",
       "14   92000-144000               Data Analyst         92000        144000   \n",
       "20  150000-230000  Machine Learning Engineer        150000        230000   \n",
       "\n",
       "    avg_salary state  \n",
       "1     150000.0    CA  \n",
       "2     237500.0    CA  \n",
       "7     170500.0    CO  \n",
       "14    118000.0    MA  \n",
       "20    190000.0    UT  "
      ]
     },
     "execution_count": 797,
     "metadata": {},
     "output_type": "execute_result"
    }
   ],
   "source": [
    "states_jobs_df = filtered_jobs_df.assign(location=filtered_jobs_df['location'].str.split('; ')).explode('location')\n",
    "\n",
    "def extract_state(location):\n",
    "    for i in range(len(states_df)):\n",
    "        abbr = ', ' + states_df['abbr'][i]\n",
    "        if abbr in location:\n",
    "            return states_df['abbr'][i]\n",
    "        elif 'Washington, DC' in location or 'Washington, District of Columbia' in location:\n",
    "            return 'DC'\n",
    "        elif states_df['state'][i] in location:\n",
    "            return states_df['abbr'][i]\n",
    "        \n",
    "states_jobs_df['state'] = states_jobs_df['location'].apply(lambda x: extract_state(x))\n",
    "states_jobs_df = states_jobs_df[states_jobs_df['state'].isin(states_df['abbr'])]\n",
    "states_jobs_df.head()"
   ]
  },
  {
   "cell_type": "code",
   "execution_count": 798,
   "metadata": {},
   "outputs": [
    {
     "data": {
      "text/plain": [
       "1017"
      ]
     },
     "execution_count": 798,
     "metadata": {},
     "output_type": "execute_result"
    }
   ],
   "source": [
    "len(states_jobs_df)"
   ]
  },
  {
   "cell_type": "markdown",
   "metadata": {},
   "source": [
    "After filtering, we have 1,017 job postings remaining. "
   ]
  },
  {
   "cell_type": "code",
   "execution_count": 799,
   "metadata": {},
   "outputs": [
    {
     "data": {
      "text/html": [
       "<div>\n",
       "<style scoped>\n",
       "    .dataframe tbody tr th:only-of-type {\n",
       "        vertical-align: middle;\n",
       "    }\n",
       "\n",
       "    .dataframe tbody tr th {\n",
       "        vertical-align: top;\n",
       "    }\n",
       "\n",
       "    .dataframe thead th {\n",
       "        text-align: right;\n",
       "    }\n",
       "</style>\n",
       "<table border=\"1\" class=\"dataframe\">\n",
       "  <thead>\n",
       "    <tr style=\"text-align: right;\">\n",
       "      <th></th>\n",
       "      <th>state</th>\n",
       "      <th>avg_salary</th>\n",
       "    </tr>\n",
       "  </thead>\n",
       "  <tbody>\n",
       "    <tr>\n",
       "      <th>15</th>\n",
       "      <td>LA</td>\n",
       "      <td>63000.000000</td>\n",
       "    </tr>\n",
       "    <tr>\n",
       "      <th>25</th>\n",
       "      <td>NM</td>\n",
       "      <td>74333.333333</td>\n",
       "    </tr>\n",
       "    <tr>\n",
       "      <th>2</th>\n",
       "      <td>AZ</td>\n",
       "      <td>78555.555556</td>\n",
       "    </tr>\n",
       "    <tr>\n",
       "      <th>9</th>\n",
       "      <td>IA</td>\n",
       "      <td>78900.000000</td>\n",
       "    </tr>\n",
       "    <tr>\n",
       "      <th>10</th>\n",
       "      <td>ID</td>\n",
       "      <td>83000.000000</td>\n",
       "    </tr>\n",
       "    <tr>\n",
       "      <th>5</th>\n",
       "      <td>CT</td>\n",
       "      <td>84000.000000</td>\n",
       "    </tr>\n",
       "    <tr>\n",
       "      <th>14</th>\n",
       "      <td>KY</td>\n",
       "      <td>84000.000000</td>\n",
       "    </tr>\n",
       "    <tr>\n",
       "      <th>33</th>\n",
       "      <td>SC</td>\n",
       "      <td>88500.000000</td>\n",
       "    </tr>\n",
       "    <tr>\n",
       "      <th>29</th>\n",
       "      <td>OR</td>\n",
       "      <td>92125.000000</td>\n",
       "    </tr>\n",
       "    <tr>\n",
       "      <th>0</th>\n",
       "      <td>AL</td>\n",
       "      <td>93125.000000</td>\n",
       "    </tr>\n",
       "    <tr>\n",
       "      <th>34</th>\n",
       "      <td>TN</td>\n",
       "      <td>95501.687500</td>\n",
       "    </tr>\n",
       "    <tr>\n",
       "      <th>32</th>\n",
       "      <td>RI</td>\n",
       "      <td>100000.000000</td>\n",
       "    </tr>\n",
       "    <tr>\n",
       "      <th>28</th>\n",
       "      <td>OH</td>\n",
       "      <td>100764.705882</td>\n",
       "    </tr>\n",
       "    <tr>\n",
       "      <th>20</th>\n",
       "      <td>MO</td>\n",
       "      <td>102250.000000</td>\n",
       "    </tr>\n",
       "    <tr>\n",
       "      <th>1</th>\n",
       "      <td>AR</td>\n",
       "      <td>102750.000000</td>\n",
       "    </tr>\n",
       "    <tr>\n",
       "      <th>30</th>\n",
       "      <td>PA</td>\n",
       "      <td>103428.571429</td>\n",
       "    </tr>\n",
       "    <tr>\n",
       "      <th>24</th>\n",
       "      <td>NJ</td>\n",
       "      <td>104119.047619</td>\n",
       "    </tr>\n",
       "    <tr>\n",
       "      <th>39</th>\n",
       "      <td>WI</td>\n",
       "      <td>104166.666667</td>\n",
       "    </tr>\n",
       "    <tr>\n",
       "      <th>18</th>\n",
       "      <td>MI</td>\n",
       "      <td>106500.000000</td>\n",
       "    </tr>\n",
       "    <tr>\n",
       "      <th>22</th>\n",
       "      <td>NE</td>\n",
       "      <td>109250.000000</td>\n",
       "    </tr>\n",
       "    <tr>\n",
       "      <th>13</th>\n",
       "      <td>KS</td>\n",
       "      <td>109600.000000</td>\n",
       "    </tr>\n",
       "    <tr>\n",
       "      <th>19</th>\n",
       "      <td>MN</td>\n",
       "      <td>111500.000000</td>\n",
       "    </tr>\n",
       "    <tr>\n",
       "      <th>7</th>\n",
       "      <td>FL</td>\n",
       "      <td>112014.285714</td>\n",
       "    </tr>\n",
       "    <tr>\n",
       "      <th>11</th>\n",
       "      <td>IL</td>\n",
       "      <td>116420.454545</td>\n",
       "    </tr>\n",
       "    <tr>\n",
       "      <th>37</th>\n",
       "      <td>VA</td>\n",
       "      <td>117871.951220</td>\n",
       "    </tr>\n",
       "    <tr>\n",
       "      <th>36</th>\n",
       "      <td>UT</td>\n",
       "      <td>117875.000000</td>\n",
       "    </tr>\n",
       "    <tr>\n",
       "      <th>21</th>\n",
       "      <td>NC</td>\n",
       "      <td>118000.000000</td>\n",
       "    </tr>\n",
       "    <tr>\n",
       "      <th>23</th>\n",
       "      <td>NH</td>\n",
       "      <td>118500.000000</td>\n",
       "    </tr>\n",
       "    <tr>\n",
       "      <th>17</th>\n",
       "      <td>MD</td>\n",
       "      <td>119013.888889</td>\n",
       "    </tr>\n",
       "    <tr>\n",
       "      <th>4</th>\n",
       "      <td>CO</td>\n",
       "      <td>119456.521739</td>\n",
       "    </tr>\n",
       "    <tr>\n",
       "      <th>16</th>\n",
       "      <td>MA</td>\n",
       "      <td>119664.383562</td>\n",
       "    </tr>\n",
       "    <tr>\n",
       "      <th>6</th>\n",
       "      <td>DC</td>\n",
       "      <td>122283.333333</td>\n",
       "    </tr>\n",
       "    <tr>\n",
       "      <th>38</th>\n",
       "      <td>WA</td>\n",
       "      <td>123952.380952</td>\n",
       "    </tr>\n",
       "    <tr>\n",
       "      <th>35</th>\n",
       "      <td>TX</td>\n",
       "      <td>125725.806452</td>\n",
       "    </tr>\n",
       "    <tr>\n",
       "      <th>27</th>\n",
       "      <td>NY</td>\n",
       "      <td>126682.170543</td>\n",
       "    </tr>\n",
       "    <tr>\n",
       "      <th>12</th>\n",
       "      <td>IN</td>\n",
       "      <td>129750.000000</td>\n",
       "    </tr>\n",
       "    <tr>\n",
       "      <th>8</th>\n",
       "      <td>GA</td>\n",
       "      <td>131600.000000</td>\n",
       "    </tr>\n",
       "    <tr>\n",
       "      <th>31</th>\n",
       "      <td>PR</td>\n",
       "      <td>136750.000000</td>\n",
       "    </tr>\n",
       "    <tr>\n",
       "      <th>26</th>\n",
       "      <td>NV</td>\n",
       "      <td>147500.000000</td>\n",
       "    </tr>\n",
       "    <tr>\n",
       "      <th>3</th>\n",
       "      <td>CA</td>\n",
       "      <td>151651.063830</td>\n",
       "    </tr>\n",
       "    <tr>\n",
       "      <th>40</th>\n",
       "      <td>WV</td>\n",
       "      <td>171000.000000</td>\n",
       "    </tr>\n",
       "  </tbody>\n",
       "</table>\n",
       "</div>"
      ],
      "text/plain": [
       "   state     avg_salary\n",
       "15    LA   63000.000000\n",
       "25    NM   74333.333333\n",
       "2     AZ   78555.555556\n",
       "9     IA   78900.000000\n",
       "10    ID   83000.000000\n",
       "5     CT   84000.000000\n",
       "14    KY   84000.000000\n",
       "33    SC   88500.000000\n",
       "29    OR   92125.000000\n",
       "0     AL   93125.000000\n",
       "34    TN   95501.687500\n",
       "32    RI  100000.000000\n",
       "28    OH  100764.705882\n",
       "20    MO  102250.000000\n",
       "1     AR  102750.000000\n",
       "30    PA  103428.571429\n",
       "24    NJ  104119.047619\n",
       "39    WI  104166.666667\n",
       "18    MI  106500.000000\n",
       "22    NE  109250.000000\n",
       "13    KS  109600.000000\n",
       "19    MN  111500.000000\n",
       "7     FL  112014.285714\n",
       "11    IL  116420.454545\n",
       "37    VA  117871.951220\n",
       "36    UT  117875.000000\n",
       "21    NC  118000.000000\n",
       "23    NH  118500.000000\n",
       "17    MD  119013.888889\n",
       "4     CO  119456.521739\n",
       "16    MA  119664.383562\n",
       "6     DC  122283.333333\n",
       "38    WA  123952.380952\n",
       "35    TX  125725.806452\n",
       "27    NY  126682.170543\n",
       "12    IN  129750.000000\n",
       "8     GA  131600.000000\n",
       "31    PR  136750.000000\n",
       "26    NV  147500.000000\n",
       "3     CA  151651.063830\n",
       "40    WV  171000.000000"
      ]
     },
     "execution_count": 799,
     "metadata": {},
     "output_type": "execute_result"
    }
   ],
   "source": [
    "avg_salaries_state = pd.DataFrame(states_jobs_df[['state', 'avg_salary']].groupby('state').mean()).reset_index().sort_values('avg_salary')\n",
    "avg_salaries_state"
   ]
  },
  {
   "cell_type": "code",
   "execution_count": 790,
   "metadata": {},
   "outputs": [
    {
     "data": {
      "application/vnd.plotly.v1+json": {
       "config": {
        "plotlyServerURL": "https://plot.ly"
       },
       "data": [
        {
         "coloraxis": "coloraxis",
         "geo": "geo",
         "hovertemplate": "state=%{location}<br>avg_salary=%{z}<extra></extra>",
         "locationmode": "USA-states",
         "locations": [
          "LA",
          "NM",
          "AZ",
          "IA",
          "ID",
          "CT",
          "KY",
          "SC",
          "OR",
          "AL",
          "TN",
          "RI",
          "OH",
          "MO",
          "AR",
          "PA",
          "NJ",
          "WI",
          "MI",
          "NE",
          "KS",
          "MN",
          "FL",
          "IL",
          "VA",
          "UT",
          "NC",
          "NH",
          "MD",
          "CO",
          "MA",
          "DC",
          "WA",
          "TX",
          "NY",
          "IN",
          "GA",
          "PR",
          "NV",
          "CA",
          "WV"
         ],
         "name": "",
         "type": "choropleth",
         "z": [
          63000,
          74333.33333333333,
          78555.55555555556,
          78900,
          83000,
          84000,
          84000,
          88500,
          92125,
          93125,
          95501.6875,
          100000,
          100764.70588235294,
          102250,
          102750,
          103428.57142857143,
          104119.04761904762,
          104166.66666666667,
          106500,
          109250,
          109600,
          111500,
          112014.28571428571,
          116420.45454545454,
          117871.9512195122,
          117875,
          118000,
          118500,
          119013.88888888889,
          119456.52173913043,
          119664.38356164383,
          122283.33333333333,
          123952.38095238095,
          125725.80645161291,
          126682.17054263566,
          129750,
          131600,
          136750,
          147500,
          151651.06382978722,
          171000
         ]
        }
       ],
       "layout": {
        "coloraxis": {
         "colorbar": {
          "title": {
           "text": "avg_salary"
          }
         },
         "colorscale": [
          [
           0,
           "rgb(247,252,245)"
          ],
          [
           0.125,
           "rgb(229,245,224)"
          ],
          [
           0.25,
           "rgb(199,233,192)"
          ],
          [
           0.375,
           "rgb(161,217,155)"
          ],
          [
           0.5,
           "rgb(116,196,118)"
          ],
          [
           0.625,
           "rgb(65,171,93)"
          ],
          [
           0.75,
           "rgb(35,139,69)"
          ],
          [
           0.875,
           "rgb(0,109,44)"
          ],
          [
           1,
           "rgb(0,68,27)"
          ]
         ]
        },
        "geo": {
         "center": {},
         "domain": {
          "x": [
           0,
           1
          ],
          "y": [
           0,
           1
          ]
         },
         "scope": "usa"
        },
        "legend": {
         "tracegroupgap": 0
        },
        "margin": {
         "t": 60
        },
        "template": {
         "data": {
          "bar": [
           {
            "error_x": {
             "color": "#2a3f5f"
            },
            "error_y": {
             "color": "#2a3f5f"
            },
            "marker": {
             "line": {
              "color": "#E5ECF6",
              "width": 0.5
             },
             "pattern": {
              "fillmode": "overlay",
              "size": 10,
              "solidity": 0.2
             }
            },
            "type": "bar"
           }
          ],
          "barpolar": [
           {
            "marker": {
             "line": {
              "color": "#E5ECF6",
              "width": 0.5
             },
             "pattern": {
              "fillmode": "overlay",
              "size": 10,
              "solidity": 0.2
             }
            },
            "type": "barpolar"
           }
          ],
          "carpet": [
           {
            "aaxis": {
             "endlinecolor": "#2a3f5f",
             "gridcolor": "white",
             "linecolor": "white",
             "minorgridcolor": "white",
             "startlinecolor": "#2a3f5f"
            },
            "baxis": {
             "endlinecolor": "#2a3f5f",
             "gridcolor": "white",
             "linecolor": "white",
             "minorgridcolor": "white",
             "startlinecolor": "#2a3f5f"
            },
            "type": "carpet"
           }
          ],
          "choropleth": [
           {
            "colorbar": {
             "outlinewidth": 0,
             "ticks": ""
            },
            "type": "choropleth"
           }
          ],
          "contour": [
           {
            "colorbar": {
             "outlinewidth": 0,
             "ticks": ""
            },
            "colorscale": [
             [
              0,
              "#0d0887"
             ],
             [
              0.1111111111111111,
              "#46039f"
             ],
             [
              0.2222222222222222,
              "#7201a8"
             ],
             [
              0.3333333333333333,
              "#9c179e"
             ],
             [
              0.4444444444444444,
              "#bd3786"
             ],
             [
              0.5555555555555556,
              "#d8576b"
             ],
             [
              0.6666666666666666,
              "#ed7953"
             ],
             [
              0.7777777777777778,
              "#fb9f3a"
             ],
             [
              0.8888888888888888,
              "#fdca26"
             ],
             [
              1,
              "#f0f921"
             ]
            ],
            "type": "contour"
           }
          ],
          "contourcarpet": [
           {
            "colorbar": {
             "outlinewidth": 0,
             "ticks": ""
            },
            "type": "contourcarpet"
           }
          ],
          "heatmap": [
           {
            "colorbar": {
             "outlinewidth": 0,
             "ticks": ""
            },
            "colorscale": [
             [
              0,
              "#0d0887"
             ],
             [
              0.1111111111111111,
              "#46039f"
             ],
             [
              0.2222222222222222,
              "#7201a8"
             ],
             [
              0.3333333333333333,
              "#9c179e"
             ],
             [
              0.4444444444444444,
              "#bd3786"
             ],
             [
              0.5555555555555556,
              "#d8576b"
             ],
             [
              0.6666666666666666,
              "#ed7953"
             ],
             [
              0.7777777777777778,
              "#fb9f3a"
             ],
             [
              0.8888888888888888,
              "#fdca26"
             ],
             [
              1,
              "#f0f921"
             ]
            ],
            "type": "heatmap"
           }
          ],
          "heatmapgl": [
           {
            "colorbar": {
             "outlinewidth": 0,
             "ticks": ""
            },
            "colorscale": [
             [
              0,
              "#0d0887"
             ],
             [
              0.1111111111111111,
              "#46039f"
             ],
             [
              0.2222222222222222,
              "#7201a8"
             ],
             [
              0.3333333333333333,
              "#9c179e"
             ],
             [
              0.4444444444444444,
              "#bd3786"
             ],
             [
              0.5555555555555556,
              "#d8576b"
             ],
             [
              0.6666666666666666,
              "#ed7953"
             ],
             [
              0.7777777777777778,
              "#fb9f3a"
             ],
             [
              0.8888888888888888,
              "#fdca26"
             ],
             [
              1,
              "#f0f921"
             ]
            ],
            "type": "heatmapgl"
           }
          ],
          "histogram": [
           {
            "marker": {
             "pattern": {
              "fillmode": "overlay",
              "size": 10,
              "solidity": 0.2
             }
            },
            "type": "histogram"
           }
          ],
          "histogram2d": [
           {
            "colorbar": {
             "outlinewidth": 0,
             "ticks": ""
            },
            "colorscale": [
             [
              0,
              "#0d0887"
             ],
             [
              0.1111111111111111,
              "#46039f"
             ],
             [
              0.2222222222222222,
              "#7201a8"
             ],
             [
              0.3333333333333333,
              "#9c179e"
             ],
             [
              0.4444444444444444,
              "#bd3786"
             ],
             [
              0.5555555555555556,
              "#d8576b"
             ],
             [
              0.6666666666666666,
              "#ed7953"
             ],
             [
              0.7777777777777778,
              "#fb9f3a"
             ],
             [
              0.8888888888888888,
              "#fdca26"
             ],
             [
              1,
              "#f0f921"
             ]
            ],
            "type": "histogram2d"
           }
          ],
          "histogram2dcontour": [
           {
            "colorbar": {
             "outlinewidth": 0,
             "ticks": ""
            },
            "colorscale": [
             [
              0,
              "#0d0887"
             ],
             [
              0.1111111111111111,
              "#46039f"
             ],
             [
              0.2222222222222222,
              "#7201a8"
             ],
             [
              0.3333333333333333,
              "#9c179e"
             ],
             [
              0.4444444444444444,
              "#bd3786"
             ],
             [
              0.5555555555555556,
              "#d8576b"
             ],
             [
              0.6666666666666666,
              "#ed7953"
             ],
             [
              0.7777777777777778,
              "#fb9f3a"
             ],
             [
              0.8888888888888888,
              "#fdca26"
             ],
             [
              1,
              "#f0f921"
             ]
            ],
            "type": "histogram2dcontour"
           }
          ],
          "mesh3d": [
           {
            "colorbar": {
             "outlinewidth": 0,
             "ticks": ""
            },
            "type": "mesh3d"
           }
          ],
          "parcoords": [
           {
            "line": {
             "colorbar": {
              "outlinewidth": 0,
              "ticks": ""
             }
            },
            "type": "parcoords"
           }
          ],
          "pie": [
           {
            "automargin": true,
            "type": "pie"
           }
          ],
          "scatter": [
           {
            "fillpattern": {
             "fillmode": "overlay",
             "size": 10,
             "solidity": 0.2
            },
            "type": "scatter"
           }
          ],
          "scatter3d": [
           {
            "line": {
             "colorbar": {
              "outlinewidth": 0,
              "ticks": ""
             }
            },
            "marker": {
             "colorbar": {
              "outlinewidth": 0,
              "ticks": ""
             }
            },
            "type": "scatter3d"
           }
          ],
          "scattercarpet": [
           {
            "marker": {
             "colorbar": {
              "outlinewidth": 0,
              "ticks": ""
             }
            },
            "type": "scattercarpet"
           }
          ],
          "scattergeo": [
           {
            "marker": {
             "colorbar": {
              "outlinewidth": 0,
              "ticks": ""
             }
            },
            "type": "scattergeo"
           }
          ],
          "scattergl": [
           {
            "marker": {
             "colorbar": {
              "outlinewidth": 0,
              "ticks": ""
             }
            },
            "type": "scattergl"
           }
          ],
          "scattermapbox": [
           {
            "marker": {
             "colorbar": {
              "outlinewidth": 0,
              "ticks": ""
             }
            },
            "type": "scattermapbox"
           }
          ],
          "scatterpolar": [
           {
            "marker": {
             "colorbar": {
              "outlinewidth": 0,
              "ticks": ""
             }
            },
            "type": "scatterpolar"
           }
          ],
          "scatterpolargl": [
           {
            "marker": {
             "colorbar": {
              "outlinewidth": 0,
              "ticks": ""
             }
            },
            "type": "scatterpolargl"
           }
          ],
          "scatterternary": [
           {
            "marker": {
             "colorbar": {
              "outlinewidth": 0,
              "ticks": ""
             }
            },
            "type": "scatterternary"
           }
          ],
          "surface": [
           {
            "colorbar": {
             "outlinewidth": 0,
             "ticks": ""
            },
            "colorscale": [
             [
              0,
              "#0d0887"
             ],
             [
              0.1111111111111111,
              "#46039f"
             ],
             [
              0.2222222222222222,
              "#7201a8"
             ],
             [
              0.3333333333333333,
              "#9c179e"
             ],
             [
              0.4444444444444444,
              "#bd3786"
             ],
             [
              0.5555555555555556,
              "#d8576b"
             ],
             [
              0.6666666666666666,
              "#ed7953"
             ],
             [
              0.7777777777777778,
              "#fb9f3a"
             ],
             [
              0.8888888888888888,
              "#fdca26"
             ],
             [
              1,
              "#f0f921"
             ]
            ],
            "type": "surface"
           }
          ],
          "table": [
           {
            "cells": {
             "fill": {
              "color": "#EBF0F8"
             },
             "line": {
              "color": "white"
             }
            },
            "header": {
             "fill": {
              "color": "#C8D4E3"
             },
             "line": {
              "color": "white"
             }
            },
            "type": "table"
           }
          ]
         },
         "layout": {
          "annotationdefaults": {
           "arrowcolor": "#2a3f5f",
           "arrowhead": 0,
           "arrowwidth": 1
          },
          "autotypenumbers": "strict",
          "coloraxis": {
           "colorbar": {
            "outlinewidth": 0,
            "ticks": ""
           }
          },
          "colorscale": {
           "diverging": [
            [
             0,
             "#8e0152"
            ],
            [
             0.1,
             "#c51b7d"
            ],
            [
             0.2,
             "#de77ae"
            ],
            [
             0.3,
             "#f1b6da"
            ],
            [
             0.4,
             "#fde0ef"
            ],
            [
             0.5,
             "#f7f7f7"
            ],
            [
             0.6,
             "#e6f5d0"
            ],
            [
             0.7,
             "#b8e186"
            ],
            [
             0.8,
             "#7fbc41"
            ],
            [
             0.9,
             "#4d9221"
            ],
            [
             1,
             "#276419"
            ]
           ],
           "sequential": [
            [
             0,
             "#0d0887"
            ],
            [
             0.1111111111111111,
             "#46039f"
            ],
            [
             0.2222222222222222,
             "#7201a8"
            ],
            [
             0.3333333333333333,
             "#9c179e"
            ],
            [
             0.4444444444444444,
             "#bd3786"
            ],
            [
             0.5555555555555556,
             "#d8576b"
            ],
            [
             0.6666666666666666,
             "#ed7953"
            ],
            [
             0.7777777777777778,
             "#fb9f3a"
            ],
            [
             0.8888888888888888,
             "#fdca26"
            ],
            [
             1,
             "#f0f921"
            ]
           ],
           "sequentialminus": [
            [
             0,
             "#0d0887"
            ],
            [
             0.1111111111111111,
             "#46039f"
            ],
            [
             0.2222222222222222,
             "#7201a8"
            ],
            [
             0.3333333333333333,
             "#9c179e"
            ],
            [
             0.4444444444444444,
             "#bd3786"
            ],
            [
             0.5555555555555556,
             "#d8576b"
            ],
            [
             0.6666666666666666,
             "#ed7953"
            ],
            [
             0.7777777777777778,
             "#fb9f3a"
            ],
            [
             0.8888888888888888,
             "#fdca26"
            ],
            [
             1,
             "#f0f921"
            ]
           ]
          },
          "colorway": [
           "#636efa",
           "#EF553B",
           "#00cc96",
           "#ab63fa",
           "#FFA15A",
           "#19d3f3",
           "#FF6692",
           "#B6E880",
           "#FF97FF",
           "#FECB52"
          ],
          "font": {
           "color": "#2a3f5f"
          },
          "geo": {
           "bgcolor": "white",
           "lakecolor": "white",
           "landcolor": "#E5ECF6",
           "showlakes": true,
           "showland": true,
           "subunitcolor": "white"
          },
          "hoverlabel": {
           "align": "left"
          },
          "hovermode": "closest",
          "mapbox": {
           "style": "light"
          },
          "paper_bgcolor": "white",
          "plot_bgcolor": "#E5ECF6",
          "polar": {
           "angularaxis": {
            "gridcolor": "white",
            "linecolor": "white",
            "ticks": ""
           },
           "bgcolor": "#E5ECF6",
           "radialaxis": {
            "gridcolor": "white",
            "linecolor": "white",
            "ticks": ""
           }
          },
          "scene": {
           "xaxis": {
            "backgroundcolor": "#E5ECF6",
            "gridcolor": "white",
            "gridwidth": 2,
            "linecolor": "white",
            "showbackground": true,
            "ticks": "",
            "zerolinecolor": "white"
           },
           "yaxis": {
            "backgroundcolor": "#E5ECF6",
            "gridcolor": "white",
            "gridwidth": 2,
            "linecolor": "white",
            "showbackground": true,
            "ticks": "",
            "zerolinecolor": "white"
           },
           "zaxis": {
            "backgroundcolor": "#E5ECF6",
            "gridcolor": "white",
            "gridwidth": 2,
            "linecolor": "white",
            "showbackground": true,
            "ticks": "",
            "zerolinecolor": "white"
           }
          },
          "shapedefaults": {
           "line": {
            "color": "#2a3f5f"
           }
          },
          "ternary": {
           "aaxis": {
            "gridcolor": "white",
            "linecolor": "white",
            "ticks": ""
           },
           "baxis": {
            "gridcolor": "white",
            "linecolor": "white",
            "ticks": ""
           },
           "bgcolor": "#E5ECF6",
           "caxis": {
            "gridcolor": "white",
            "linecolor": "white",
            "ticks": ""
           }
          },
          "title": {
           "x": 0.05
          },
          "xaxis": {
           "automargin": true,
           "gridcolor": "white",
           "linecolor": "white",
           "ticks": "",
           "title": {
            "standoff": 15
           },
           "zerolinecolor": "white",
           "zerolinewidth": 2
          },
          "yaxis": {
           "automargin": true,
           "gridcolor": "white",
           "linecolor": "white",
           "ticks": "",
           "title": {
            "standoff": 15
           },
           "zerolinecolor": "white",
           "zerolinewidth": 2
          }
         }
        },
        "title": {
         "text": "Salaries by State"
        }
       }
      }
     },
     "metadata": {},
     "output_type": "display_data"
    }
   ],
   "source": [
    "import plotly.express as px\n",
    "\n",
    "fig = px.choropleth(data_frame=avg_salaries_state, \n",
    "                    locations='state',\n",
    "                    locationmode='USA-states',\n",
    "                    color='avg_salary',\n",
    "                    color_continuous_scale='Greens',\n",
    "                    scope='usa')\n",
    "\n",
    "fig.update_layout(\n",
    "    title_text = 'Salaries by State',\n",
    ")\n",
    "\n",
    "fig.show()"
   ]
  },
  {
   "cell_type": "markdown",
   "metadata": {},
   "source": [
    "Since there were only 33 states mentioned in the scraped job listings, the map here is kind of empty so the use of a choropleth is not the best way to visualize.\n",
    "\n",
    "Let's use a bar graph instead to plot the top earning locations. Some states only appear in the dataset once which would severely skew the results if there is only one job listing with a high salary offer. For this reason, let's limit the scope to only states which appear in the dataset at least 10 times. "
   ]
  },
  {
   "cell_type": "code",
   "execution_count": 800,
   "metadata": {},
   "outputs": [],
   "source": [
    "# filter for states w at least 10 listings\n",
    "state_counts = pd.DataFrame(states_jobs_df['state'].value_counts()).reset_index()\n",
    "avg_salaries_state = pd.merge(avg_salaries_state, state_counts)\n",
    "filtered_avg_salaries_state = avg_salaries_state[avg_salaries_state['count'] >= 10]\n",
    "\n",
    "filtered_avg_salaries_state = filtered_avg_salaries_state.rename({'state':'abbr'}, axis=1)\n",
    "filtered_avg_salaries_state = pd.merge(filtered_avg_salaries_state, states_df)"
   ]
  },
  {
   "cell_type": "code",
   "execution_count": 801,
   "metadata": {},
   "outputs": [
    {
     "data": {
      "text/html": [
       "<div>\n",
       "<style scoped>\n",
       "    .dataframe tbody tr th:only-of-type {\n",
       "        vertical-align: middle;\n",
       "    }\n",
       "\n",
       "    .dataframe tbody tr th {\n",
       "        vertical-align: top;\n",
       "    }\n",
       "\n",
       "    .dataframe thead th {\n",
       "        text-align: right;\n",
       "    }\n",
       "</style>\n",
       "<table border=\"1\" class=\"dataframe\">\n",
       "  <thead>\n",
       "    <tr style=\"text-align: right;\">\n",
       "      <th></th>\n",
       "      <th>abbr</th>\n",
       "      <th>avg_salary</th>\n",
       "      <th>count</th>\n",
       "      <th>state</th>\n",
       "    </tr>\n",
       "  </thead>\n",
       "  <tbody>\n",
       "    <tr>\n",
       "      <th>0</th>\n",
       "      <td>TN</td>\n",
       "      <td>95501.687500</td>\n",
       "      <td>16</td>\n",
       "      <td>Tennessee</td>\n",
       "    </tr>\n",
       "    <tr>\n",
       "      <th>1</th>\n",
       "      <td>OH</td>\n",
       "      <td>100764.705882</td>\n",
       "      <td>17</td>\n",
       "      <td>Ohio</td>\n",
       "    </tr>\n",
       "    <tr>\n",
       "      <th>2</th>\n",
       "      <td>PA</td>\n",
       "      <td>103428.571429</td>\n",
       "      <td>21</td>\n",
       "      <td>Pennsylvania</td>\n",
       "    </tr>\n",
       "    <tr>\n",
       "      <th>3</th>\n",
       "      <td>NJ</td>\n",
       "      <td>104119.047619</td>\n",
       "      <td>21</td>\n",
       "      <td>New Jersey</td>\n",
       "    </tr>\n",
       "    <tr>\n",
       "      <th>4</th>\n",
       "      <td>MN</td>\n",
       "      <td>111500.000000</td>\n",
       "      <td>10</td>\n",
       "      <td>Minnesota</td>\n",
       "    </tr>\n",
       "    <tr>\n",
       "      <th>5</th>\n",
       "      <td>FL</td>\n",
       "      <td>112014.285714</td>\n",
       "      <td>35</td>\n",
       "      <td>Florida</td>\n",
       "    </tr>\n",
       "    <tr>\n",
       "      <th>6</th>\n",
       "      <td>IL</td>\n",
       "      <td>116420.454545</td>\n",
       "      <td>44</td>\n",
       "      <td>Illinois</td>\n",
       "    </tr>\n",
       "    <tr>\n",
       "      <th>7</th>\n",
       "      <td>VA</td>\n",
       "      <td>117871.951220</td>\n",
       "      <td>82</td>\n",
       "      <td>Virginia</td>\n",
       "    </tr>\n",
       "    <tr>\n",
       "      <th>8</th>\n",
       "      <td>UT</td>\n",
       "      <td>117875.000000</td>\n",
       "      <td>16</td>\n",
       "      <td>Utah</td>\n",
       "    </tr>\n",
       "    <tr>\n",
       "      <th>9</th>\n",
       "      <td>NC</td>\n",
       "      <td>118000.000000</td>\n",
       "      <td>17</td>\n",
       "      <td>North Carolina</td>\n",
       "    </tr>\n",
       "    <tr>\n",
       "      <th>10</th>\n",
       "      <td>MD</td>\n",
       "      <td>119013.888889</td>\n",
       "      <td>36</td>\n",
       "      <td>Maryland</td>\n",
       "    </tr>\n",
       "    <tr>\n",
       "      <th>11</th>\n",
       "      <td>CO</td>\n",
       "      <td>119456.521739</td>\n",
       "      <td>23</td>\n",
       "      <td>Colorado</td>\n",
       "    </tr>\n",
       "    <tr>\n",
       "      <th>12</th>\n",
       "      <td>MA</td>\n",
       "      <td>119664.383562</td>\n",
       "      <td>73</td>\n",
       "      <td>Massachusetts</td>\n",
       "    </tr>\n",
       "    <tr>\n",
       "      <th>13</th>\n",
       "      <td>DC</td>\n",
       "      <td>122283.333333</td>\n",
       "      <td>30</td>\n",
       "      <td>District of Columbia</td>\n",
       "    </tr>\n",
       "    <tr>\n",
       "      <th>14</th>\n",
       "      <td>WA</td>\n",
       "      <td>123952.380952</td>\n",
       "      <td>42</td>\n",
       "      <td>Washington</td>\n",
       "    </tr>\n",
       "    <tr>\n",
       "      <th>15</th>\n",
       "      <td>TX</td>\n",
       "      <td>125725.806452</td>\n",
       "      <td>62</td>\n",
       "      <td>Texas</td>\n",
       "    </tr>\n",
       "    <tr>\n",
       "      <th>16</th>\n",
       "      <td>NY</td>\n",
       "      <td>126682.170543</td>\n",
       "      <td>129</td>\n",
       "      <td>New York</td>\n",
       "    </tr>\n",
       "    <tr>\n",
       "      <th>17</th>\n",
       "      <td>IN</td>\n",
       "      <td>129750.000000</td>\n",
       "      <td>14</td>\n",
       "      <td>Indiana</td>\n",
       "    </tr>\n",
       "    <tr>\n",
       "      <th>18</th>\n",
       "      <td>GA</td>\n",
       "      <td>131600.000000</td>\n",
       "      <td>20</td>\n",
       "      <td>Georgia</td>\n",
       "    </tr>\n",
       "    <tr>\n",
       "      <th>19</th>\n",
       "      <td>CA</td>\n",
       "      <td>151651.063830</td>\n",
       "      <td>235</td>\n",
       "      <td>California</td>\n",
       "    </tr>\n",
       "  </tbody>\n",
       "</table>\n",
       "</div>"
      ],
      "text/plain": [
       "   abbr     avg_salary  count                 state\n",
       "0    TN   95501.687500     16             Tennessee\n",
       "1    OH  100764.705882     17                  Ohio\n",
       "2    PA  103428.571429     21          Pennsylvania\n",
       "3    NJ  104119.047619     21            New Jersey\n",
       "4    MN  111500.000000     10             Minnesota\n",
       "5    FL  112014.285714     35               Florida\n",
       "6    IL  116420.454545     44              Illinois\n",
       "7    VA  117871.951220     82              Virginia\n",
       "8    UT  117875.000000     16                  Utah\n",
       "9    NC  118000.000000     17        North Carolina\n",
       "10   MD  119013.888889     36              Maryland\n",
       "11   CO  119456.521739     23              Colorado\n",
       "12   MA  119664.383562     73         Massachusetts\n",
       "13   DC  122283.333333     30  District of Columbia\n",
       "14   WA  123952.380952     42            Washington\n",
       "15   TX  125725.806452     62                 Texas\n",
       "16   NY  126682.170543    129              New York\n",
       "17   IN  129750.000000     14               Indiana\n",
       "18   GA  131600.000000     20               Georgia\n",
       "19   CA  151651.063830    235            California"
      ]
     },
     "execution_count": 801,
     "metadata": {},
     "output_type": "execute_result"
    }
   ],
   "source": [
    "# states w at least 10 listings\n",
    "filtered_avg_salaries_state"
   ]
  },
  {
   "cell_type": "code",
   "execution_count": 793,
   "metadata": {},
   "outputs": [
    {
     "data": {
      "image/png": "[encoded data removed]",
      "text/plain": [
       "<Figure size 1000x600 with 1 Axes>"
      ]
     },
     "metadata": {},
     "output_type": "display_data"
    }
   ],
   "source": [
    "fig = plt.figure(figsize = (10, 6))\n",
    "\n",
    "colors = []\n",
    "for state in filtered_avg_salaries_state['state']:\n",
    "    if state in ['California', 'New York', 'Texas', 'District of Columbia', 'Washington']:\n",
    "        colors.append('#00CD66')\n",
    "    else:\n",
    "        colors.append('#BFBFBF')\n",
    " \n",
    "# creating the bar plot\n",
    "plt.barh(filtered_avg_salaries_state['state'], filtered_avg_salaries_state['avg_salary'], color=colors)\n",
    " \n",
    "plt.xlabel(\"Average Salary\")\n",
    "plt.ylabel(\"State\")\n",
    "plt.title('California, New York, DC, Texas, and Washington are amongst the highest paying states')\n",
    "plt.show()"
   ]
  },
  {
   "cell_type": "code",
   "execution_count": 794,
   "metadata": {},
   "outputs": [
    {
     "data": {
      "image/png": "[encoded data removed]",
      "text/plain": [
       "<Figure size 1000x700 with 1 Axes>"
      ]
     },
     "metadata": {},
     "output_type": "display_data"
    }
   ],
   "source": [
    "fig = plt.figure(figsize = (10, 7))\n",
    "\n",
    "colors = []\n",
    "for state in filtered_avg_salaries_state['state']:\n",
    "    if state in ['California', 'New York', 'District of Columbia']:\n",
    "        colors.append('#3399ff')\n",
    "    else:\n",
    "        colors.append('#BFBFBF')\n",
    " \n",
    "# creating the bar plot\n",
    "plt.barh(filtered_avg_salaries_state['state'], filtered_avg_salaries_state['avg_salary'], color=colors)\n",
    " \n",
    "plt.xlabel(\"Average Salary\")\n",
    "plt.ylabel(\"State\")\n",
    "plt.title('California, New York, and DC are amongst the highest paying states')\n",
    "plt.show()"
   ]
  }
 ],
 "metadata": {
  "kernelspec": {
   "display_name": "Python 3",
   "language": "python",
   "name": "python3"
  },
  "language_info": {
   "codemirror_mode": {
    "name": "ipython",
    "version": 3
   },
   "file_extension": ".py",
   "mimetype": "text/x-python",
   "name": "python",
   "nbconvert_exporter": "python",
   "pygments_lexer": "ipython3",
   "version": "3.10.6"
  }
 },
 "nbformat": 4,
 "nbformat_minor": 2
}
